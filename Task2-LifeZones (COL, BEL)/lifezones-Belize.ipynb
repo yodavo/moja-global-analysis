{
 "cells": [
  {
   "cell_type": "code",
   "execution_count": 1,
   "metadata": {},
   "outputs": [],
   "source": [
    "import rasterio\n",
    "import numpy as np\n",
    "import pandas as pd\n",
    "import geopandas as gpd\n",
    "import matplotlib.pyplot as plt\n",
    "from rasterio.plot import show\n",
    "from rasterio.plot import show_hist\n",
    "import os\n",
    "os.getcwd()\n",
    "\n",
    "%mkdir filezones_Bel shapefiles_Bel"
   ]
  },
  {
   "cell_type": "code",
   "execution_count": 2,
   "metadata": {},
   "outputs": [],
   "source": [
    "# Importing holdridge values -- Colombia 2011\n",
    "hold = pd.read_csv('data/holdrigde_Colombia(2011).csv', na_values = '')\n",
    "\n",
    "# precipitation dataframe to compare\n",
    "precipitation = hold[['pta1_mm', 'pta2_mm', 'precipitation']].copy().sort_values(by='pta1_mm').drop_duplicates(subset='precipitation').sort_values(by='pta2_mm').reset_index(drop=True).values.tolist()\n",
    "\n",
    "# temperature dataframe to compare\n",
    "temperature = hold[['amt1_c', 'amt2_c', 'temperature']].copy().sort_values(by='amt2_c').drop_duplicates(subset='temperature').sort_values(by='amt1_c').reset_index(drop=True).values.tolist()\n",
    "\n",
    "# elevation dataframe toc compare\n",
    "elevation = hold[['elev1_m', 'elev2_m', 'elevation']].copy().sort_values(by='elevation').drop_duplicates(subset='elevation').sort_values(by='elev1_m').reset_index(drop=True).values.tolist()\n"
   ]
  },
  {
   "cell_type": "code",
   "execution_count": 3,
   "metadata": {},
   "outputs": [],
   "source": [
    "# Function for classification\n",
    "def classification(array, lista):\n",
    "  array = array.astype('float64')\n",
    "  for i in lista:\n",
    "    limit1, limit2, code = i\n",
    "    array[np.where(array == -999)] = np.nan\n",
    "    array[np.where(array < 0)] = 0\n",
    "    array[np.where((array >= limit1) & (array < limit2))] = code\n",
    "  return array"
   ]
  },
  {
   "cell_type": "markdown",
   "metadata": {},
   "source": [
    "# **2. Belize**"
   ]
  },
  {
   "cell_type": "markdown",
   "metadata": {},
   "source": [
    "## **1.1. Rasters management**"
   ]
  },
  {
   "cell_type": "markdown",
   "metadata": {},
   "source": [
    "### **a) Precipitation**"
   ]
  },
  {
   "cell_type": "code",
   "execution_count": 4,
   "metadata": {},
   "outputs": [],
   "source": [
    "# Precipitation clipped raster and reclassification\n",
    "with rasterio.open('data/Belize-BioClim30s_Precipitation.tif') as src:    \n",
    "    # Read as numpy array\n",
    "    array = src.read()\n",
    "    profile = src.profile\n",
    "    \n",
    "    # Reclassify\n",
    "    array1 = classification(array, precipitation)\n",
    "    \n",
    "    # update profile\n",
    "    profile.update(\n",
    "        dtype=rasterio.float64,\n",
    "        nodata=np.nan)"
   ]
  },
  {
   "cell_type": "code",
   "execution_count": 5,
   "metadata": {},
   "outputs": [
    {
     "name": "stdout",
     "output_type": "stream",
     "text": [
      "-------- Reclassification ------------------\n",
      "array[np.where((array >= 0) & (array < 1000))] = 10000\n",
      "array[np.where((array >= 1000) & (array < 2000))] = 20000\n",
      "array[np.where((array >= 2000) & (array < 4000))] = 30000\n",
      "array[np.where((array >= 4000) & (array < 8000))] = 40000\n",
      "array[np.where((array >= 8000) & (array < 10000))] = 50000\n",
      "\n",
      "-------- Raster information -------------------\n",
      "[20000. 30000.    nan]\n",
      "30000.0\n",
      "20000.0\n",
      "float32\n",
      "\n",
      "------------------- Map ----------------------\n"
     ]
    },
    {
     "data": {
      "image/png": "[encoded data removed]",
      "text/plain": [
       "<Figure size 432x288 with 1 Axes>"
      ]
     },
     "metadata": {
      "needs_background": "light"
     },
     "output_type": "display_data"
    },
    {
     "data": {
      "text/plain": [
       "<AxesSubplot:>"
      ]
     },
     "execution_count": 5,
     "metadata": {},
     "output_type": "execute_result"
    }
   ],
   "source": [
    "# values replaced\n",
    "print('-------- Reclassification ------------------')\n",
    "for i in precipitation:\n",
    "    limit1, limit2, code = i\n",
    "    print(f'array[np.where((array >= {limit1}) & (array < {limit2}))] = {code}')\n",
    "\n",
    "# values from raster\n",
    "print('\\n-------- Raster information -------------------')\n",
    "print(np.unique(array1))\n",
    "print(np.nanmax(array1))\n",
    "print(np.nanmin(array1))\n",
    "print(array.dtype)\n",
    "\n",
    "# values from raster\n",
    "print('\\n------------------- Map ----------------------')\n",
    "show(array1)"
   ]
  },
  {
   "cell_type": "markdown",
   "metadata": {},
   "source": [
    "### **b) Temperature**"
   ]
  },
  {
   "cell_type": "code",
   "execution_count": 6,
   "metadata": {},
   "outputs": [],
   "source": [
    "# Temperature clipped raster and reclassification\n",
    "with rasterio.open('data/Belize-BioClim30s_Temperature.tif') as src:    \n",
    "    # Read as numpy array\n",
    "    array2 = src.read()\n",
    "    profile = src.profile\n",
    "\n",
    "    #  Reclassify\n",
    "    array2= classification(array2, temperature)\n",
    "\n",
    "    # update profile\n",
    "    profile.update(\n",
    "        dtype=rasterio.float64,\n",
    "        nodata=np.nan)"
   ]
  },
  {
   "cell_type": "code",
   "execution_count": 7,
   "metadata": {},
   "outputs": [
    {
     "name": "stdout",
     "output_type": "stream",
     "text": [
      "-------- Reclassification ------------------\n",
      "array[np.where((array >= 0) & (array < 12))] = 50\n",
      "array[np.where((array >= 12) & (array < 18))] = 51\n",
      "array[np.where((array >= 18) & (array < 24))] = 52\n",
      "array[np.where((array >= 24) & (array < 40))] = 53\n",
      "\n",
      "-------- Raster information -------------------\n",
      "[52. 53. nan]\n",
      "53.0\n",
      "52.0\n",
      "float32\n",
      "\n",
      "------------------- Map ----------------------\n"
     ]
    },
    {
     "data": {
      "image/png": "[encoded data removed]",
      "text/plain": [
       "<Figure size 432x288 with 1 Axes>"
      ]
     },
     "metadata": {
      "needs_background": "light"
     },
     "output_type": "display_data"
    },
    {
     "data": {
      "text/plain": [
       "<AxesSubplot:>"
      ]
     },
     "execution_count": 7,
     "metadata": {},
     "output_type": "execute_result"
    }
   ],
   "source": [
    "# values replaced\n",
    "print('-------- Reclassification ------------------')\n",
    "for i in temperature:\n",
    "    limit1, limit2, code = i\n",
    "    print(f'array[np.where((array >= {limit1}) & (array < {limit2}))] = {code}')\n",
    "\n",
    "# values from raster\n",
    "print('\\n-------- Raster information -------------------')\n",
    "print(np.unique(array2))\n",
    "print(np.nanmax(array2))\n",
    "print(np.nanmin(array2))\n",
    "print(array.dtype)\n",
    "\n",
    "# values from raster\n",
    "print('\\n------------------- Map ----------------------')\n",
    "show(array2)"
   ]
  },
  {
   "cell_type": "markdown",
   "metadata": {},
   "source": [
    "### **c) Elevation**"
   ]
  },
  {
   "cell_type": "code",
   "execution_count": 8,
   "metadata": {},
   "outputs": [],
   "source": [
    "# elevation clipped raster and reclassification\n",
    "with rasterio.open('data/Belize_BioClim30s_Elevation.tif') as src:    \n",
    "    # Read as numpy array\n",
    "    array = src.read()\n",
    "    profile = src.profile\n",
    "\n",
    "    # Reclassify\n",
    "    array3= classification(array, elevation)\n",
    "    \n",
    "    # update profile\n",
    "    profile.update(\n",
    "        dtype=rasterio.float64,\n",
    "        nodata=np.nan)"
   ]
  },
  {
   "cell_type": "code",
   "execution_count": 9,
   "metadata": {},
   "outputs": [
    {
     "name": "stdout",
     "output_type": "stream",
     "text": [
      "-------- Reclassification ------------------\n",
      "array[np.where((array >= 0) & (array < 800))] = 11\n",
      "array[np.where((array >= 800) & (array < 1800))] = 22\n",
      "array[np.where((array >= 1800) & (array < 2800))] = 33\n",
      "array[np.where((array >= 2800) & (array < 6000))] = 44\n",
      "\n",
      "-------- Raster information -------------------\n",
      "[11. 22. nan]\n",
      "22.0\n",
      "11.0\n",
      "int16\n",
      "\n",
      "------------------- Map ----------------------\n"
     ]
    },
    {
     "data": {
      "image/png": "[encoded data removed]",
      "text/plain": [
       "<Figure size 432x288 with 1 Axes>"
      ]
     },
     "metadata": {
      "needs_background": "light"
     },
     "output_type": "display_data"
    },
    {
     "data": {
      "text/plain": [
       "<AxesSubplot:>"
      ]
     },
     "execution_count": 9,
     "metadata": {},
     "output_type": "execute_result"
    }
   ],
   "source": [
    "# values replaced\n",
    "print('-------- Reclassification ------------------')\n",
    "for i in elevation:\n",
    "    limit1, limit2, code = i\n",
    "    print(f'array[np.where((array >= {limit1}) & (array < {limit2}))] = {code}')\n",
    "\n",
    "# values from raster\n",
    "print('\\n-------- Raster information -------------------')\n",
    "print(np.unique(array3))\n",
    "print(np.nanmax(array3))\n",
    "print(np.nanmin(array3))\n",
    "print(array.dtype)\n",
    "\n",
    "# values from raster\n",
    "print('\\n------------------- Map ----------------------')\n",
    "show(array3)"
   ]
  },
  {
   "cell_type": "markdown",
   "metadata": {},
   "source": [
    "## **2.1. Lifezone-1 (Altitude  + Temperature + Precipitation)**"
   ]
  },
  {
   "cell_type": "code",
   "execution_count": 10,
   "metadata": {},
   "outputs": [
    {
     "name": "stdout",
     "output_type": "stream",
     "text": [
      "\n",
      "-------- Raster information -------------------\n",
      "[20063. 20064. 20074. 30063. 30064. 30074.    nan]\n",
      "30074.0\n",
      "20063.0\n",
      "int16\n",
      "\n",
      "------------------- Map ----------------------\n"
     ]
    },
    {
     "data": {
      "image/png": "[encoded data removed]",
      "text/plain": [
       "<Figure size 432x288 with 1 Axes>"
      ]
     },
     "metadata": {
      "needs_background": "light"
     },
     "output_type": "display_data"
    },
    {
     "data": {
      "text/plain": [
       "<AxesSubplot:>"
      ]
     },
     "execution_count": 10,
     "metadata": {},
     "output_type": "execute_result"
    }
   ],
   "source": [
    "# Algebra management of rasters\n",
    "life = array1 + array2 + array3\n",
    "\n",
    "# values from raster\n",
    "print('\\n-------- Raster information -------------------')\n",
    "print(np.unique(life))\n",
    "print(np.nanmax(life))\n",
    "print(np.nanmin(life))\n",
    "print(array.dtype)\n",
    "\n",
    "# values from raster\n",
    "print('\\n------------------- Map ----------------------')\n",
    "show(life)"
   ]
  },
  {
   "cell_type": "code",
   "execution_count": 11,
   "metadata": {},
   "outputs": [
    {
     "data": {
      "text/html": [
       "<div>\n",
       "<style scoped>\n",
       "    .dataframe tbody tr th:only-of-type {\n",
       "        vertical-align: middle;\n",
       "    }\n",
       "\n",
       "    .dataframe tbody tr th {\n",
       "        vertical-align: top;\n",
       "    }\n",
       "\n",
       "    .dataframe thead th {\n",
       "        text-align: right;\n",
       "    }\n",
       "</style>\n",
       "<table border=\"1\" class=\"dataframe\">\n",
       "  <thead>\n",
       "    <tr style=\"text-align: right;\">\n",
       "      <th></th>\n",
       "      <th>value</th>\n",
       "      <th>id</th>\n",
       "    </tr>\n",
       "  </thead>\n",
       "  <tbody>\n",
       "    <tr>\n",
       "      <th>0</th>\n",
       "      <td>20064.0</td>\n",
       "      <td>bs-T</td>\n",
       "    </tr>\n",
       "    <tr>\n",
       "      <th>1</th>\n",
       "      <td>20074.0</td>\n",
       "      <td>bh-PM</td>\n",
       "    </tr>\n",
       "    <tr>\n",
       "      <th>2</th>\n",
       "      <td>30063.0</td>\n",
       "      <td>NaN</td>\n",
       "    </tr>\n",
       "    <tr>\n",
       "      <th>3</th>\n",
       "      <td>30064.0</td>\n",
       "      <td>bh-T</td>\n",
       "    </tr>\n",
       "    <tr>\n",
       "      <th>4</th>\n",
       "      <td>30074.0</td>\n",
       "      <td>bmh-PM</td>\n",
       "    </tr>\n",
       "    <tr>\n",
       "      <th>5</th>\n",
       "      <td>20063.0</td>\n",
       "      <td>NaN</td>\n",
       "    </tr>\n",
       "  </tbody>\n",
       "</table>\n",
       "</div>"
      ],
      "text/plain": [
       "     value      id\n",
       "0  20064.0    bs-T\n",
       "1  20074.0   bh-PM\n",
       "2  30063.0     NaN\n",
       "3  30064.0    bh-T\n",
       "4  30074.0  bmh-PM\n",
       "5  20063.0     NaN"
      ]
     },
     "execution_count": 11,
     "metadata": {},
     "output_type": "execute_result"
    }
   ],
   "source": [
    "# Dataframe for checking out the values\n",
    "hold['code'] = hold['temperature'] + hold['precipitation'] + hold['elevation']\n",
    "lifezone_df = pd.DataFrame(list(set(life[~np.isnan(life)])), columns=['value'])\n",
    "compare = dict(zip(hold['code'], hold['id']))\n",
    "\n",
    "# after compare the data from dataframe and the values generated in the tif\n",
    "lifezone_df['id'] = lifezone_df.value.map(compare)\n",
    "lifezone_df # inconsistent results"
   ]
  },
  {
   "cell_type": "code",
   "execution_count": 12,
   "metadata": {},
   "outputs": [],
   "source": [
    "with rasterio.open('filezones_Bel/Belize30s-v1.tif', 'w', **profile) as dst:\n",
    "    # Write to disk\n",
    "    dst.write(life)"
   ]
  },
  {
   "cell_type": "markdown",
   "metadata": {},
   "source": [
    "## **2.2. Lifezone-2 (Temperature + Precipitation)**"
   ]
  },
  {
   "cell_type": "code",
   "execution_count": 13,
   "metadata": {},
   "outputs": [
    {
     "name": "stdout",
     "output_type": "stream",
     "text": [
      "\n",
      "-------- Raster information -------------------\n",
      "[20052. 20053. 30052. 30053.    nan]\n",
      "30053.0\n",
      "20052.0\n",
      "int16\n",
      "\n",
      "------------------- Map ----------------------\n"
     ]
    },
    {
     "data": {
      "image/png": "[encoded data removed]",
      "text/plain": [
       "<Figure size 432x288 with 1 Axes>"
      ]
     },
     "metadata": {
      "needs_background": "light"
     },
     "output_type": "display_data"
    },
    {
     "data": {
      "text/plain": [
       "<AxesSubplot:>"
      ]
     },
     "execution_count": 13,
     "metadata": {},
     "output_type": "execute_result"
    }
   ],
   "source": [
    "# Algebra management of rasters\n",
    "life2 = array1 + array2\n",
    "\n",
    "# values from raster\n",
    "print('\\n-------- Raster information -------------------')\n",
    "print(np.unique(life2))\n",
    "print(np.nanmax(life2))\n",
    "print(np.nanmin(life2))\n",
    "print(array.dtype)\n",
    "\n",
    "# values from raster\n",
    "print('\\n------------------- Map ----------------------')\n",
    "show(life2)"
   ]
  },
  {
   "cell_type": "code",
   "execution_count": 14,
   "metadata": {},
   "outputs": [
    {
     "data": {
      "text/html": [
       "<div>\n",
       "<style scoped>\n",
       "    .dataframe tbody tr th:only-of-type {\n",
       "        vertical-align: middle;\n",
       "    }\n",
       "\n",
       "    .dataframe tbody tr th {\n",
       "        vertical-align: top;\n",
       "    }\n",
       "\n",
       "    .dataframe thead th {\n",
       "        text-align: right;\n",
       "    }\n",
       "</style>\n",
       "<table border=\"1\" class=\"dataframe\">\n",
       "  <thead>\n",
       "    <tr style=\"text-align: right;\">\n",
       "      <th></th>\n",
       "      <th>value</th>\n",
       "      <th>id</th>\n",
       "    </tr>\n",
       "  </thead>\n",
       "  <tbody>\n",
       "    <tr>\n",
       "      <th>0</th>\n",
       "      <td>30052.0</td>\n",
       "      <td>bmh-PM</td>\n",
       "    </tr>\n",
       "    <tr>\n",
       "      <th>1</th>\n",
       "      <td>20052.0</td>\n",
       "      <td>bh-PM</td>\n",
       "    </tr>\n",
       "    <tr>\n",
       "      <th>2</th>\n",
       "      <td>20053.0</td>\n",
       "      <td>bs-T</td>\n",
       "    </tr>\n",
       "    <tr>\n",
       "      <th>3</th>\n",
       "      <td>30053.0</td>\n",
       "      <td>bh-T</td>\n",
       "    </tr>\n",
       "  </tbody>\n",
       "</table>\n",
       "</div>"
      ],
      "text/plain": [
       "     value      id\n",
       "0  30052.0  bmh-PM\n",
       "1  20052.0   bh-PM\n",
       "2  20053.0    bs-T\n",
       "3  30053.0    bh-T"
      ]
     },
     "execution_count": 14,
     "metadata": {},
     "output_type": "execute_result"
    }
   ],
   "source": [
    "# Dataframe for checking out the values\n",
    "hold['code'] = hold['temperature'] + hold['precipitation']\n",
    "lifezone2_df = pd.DataFrame(list(set(life2[~np.isnan(life2)])), columns=['value'])\n",
    "compare = dict(zip(hold['code'], hold['id']))\n",
    "\n",
    "# after compare the data from dataframe and the values generated in the tif\n",
    "lifezone2_df['id'] = lifezone2_df.value.map(compare)\n",
    "lifezone2_df"
   ]
  },
  {
   "cell_type": "code",
   "execution_count": 15,
   "metadata": {},
   "outputs": [],
   "source": [
    "with rasterio.open('filezones_Bel/Belize30s-v2.tif', 'w', **profile) as dst:\n",
    "    # Write to disk\n",
    "    dst.write(life2)"
   ]
  },
  {
   "cell_type": "markdown",
   "metadata": {},
   "source": [
    "## **3. Raster to Polygon (with GDAL)**"
   ]
  },
  {
   "cell_type": "code",
   "execution_count": 16,
   "metadata": {},
   "outputs": [
    {
     "name": "stdout",
     "output_type": "stream",
     "text": [
      "Creating output /home/davo/moja-data/shapefiles_Bel/Belize30s-v1.shp of format ESRI Shapefile.\n",
      "0...10...20...30...40...50...60...70...80...90...100 - done.\n",
      "Creating output /home/davo/moja-data//shapefiles_Bel/Belize30s-v2.shp of format ESRI Shapefile.\n",
      "0...10...20...30...40...50...60...70...80...90...100 - done.\n"
     ]
    },
    {
     "data": {
      "text/plain": [
       "0"
      ]
     },
     "execution_count": 16,
     "metadata": {},
     "output_type": "execute_result"
    }
   ],
   "source": [
    "# GDAL should be installed in the remote/virtual machine\n",
    "os.system('python /home/davo/miniconda3/envs/python-gis/bin/gdal_polygonize.py /home/davo/moja-data/filezones_Bel/Belize30s-v1.tif /home/davo/moja-data/shapefiles_Bel/Belize30s-v1.shp')\n",
    "os.system('python /home/davo/miniconda3/envs/python-gis/bin/gdal_polygonize.py /home/davo/moja-data/filezones_Bel/Belize30s-v2.tif /home/davo/moja-data//shapefiles_Bel/Belize30s-v2.shp')\n"
   ]
  },
  {
   "cell_type": "markdown",
   "metadata": {},
   "source": [
    "## **4. Reshape Polygons with classifications (with geopandas)**"
   ]
  },
  {
   "cell_type": "markdown",
   "metadata": {},
   "source": [
    "### Lifezone1"
   ]
  },
  {
   "cell_type": "code",
   "execution_count": 17,
   "metadata": {},
   "outputs": [
    {
     "data": {
      "image/png": "[encoded data removed]",
      "text/plain": [
       "<Figure size 1080x1080 with 1 Axes>"
      ]
     },
     "metadata": {
      "needs_background": "light"
     },
     "output_type": "display_data"
    }
   ],
   "source": [
    "# importing the data\n",
    "belize1 = gpd.read_file(\"/home/davo/moja-data/shapefiles_Bel/Belize30s-v1.shp\")\n",
    "belize1.rename(columns={'DN':'value'}, inplace=True)\n",
    "\n",
    "# Arragnement for replacing\n",
    "hold['code'] = hold['temperature'] + hold['precipitation'] + hold['elevation']\n",
    "short_name = dict(zip(hold['code'], hold['id']))\n",
    "long_name= dict(zip(hold['code'], hold['bosque']))\n",
    "\n",
    "# replacing\n",
    "belize1['short_name'] = belize1.value.map(short_name)\n",
    "belize1['long_name'] = belize1.value.map(long_name)\n",
    "\n",
    "# rearragement\n",
    "belize1 = belize1[['value', 'short_name', 'long_name', 'geometry']].copy()\n",
    "belize1.plot(figsize=(15,15), cmap='Set1', column= 'long_name', legend=True,\n",
    "legend_kwds={'loc': 'center left', 'bbox_to_anchor':(1,0.5)})\n",
    "plt.plot()\n",
    "\n",
    "# rewriting updated version\n",
    "belize1.to_file(\"/home/davo/moja-data/shapefiles_Bel/Belize30s-v1.shp\")"
   ]
  },
  {
   "cell_type": "markdown",
   "metadata": {},
   "source": [
    "### Lifezone2"
   ]
  },
  {
   "cell_type": "code",
   "execution_count": 18,
   "metadata": {},
   "outputs": [
    {
     "data": {
      "image/png": "[encoded data removed]",
      "text/plain": [
       "<Figure size 1080x1080 with 1 Axes>"
      ]
     },
     "metadata": {
      "needs_background": "light"
     },
     "output_type": "display_data"
    }
   ],
   "source": [
    "# importing the data\n",
    "belize2 = gpd.read_file(\"/home/davo/moja-data/shapefiles_Bel/Belize30s-v2.shp\")\n",
    "belize2.rename(columns={'DN':'value'}, inplace=True)\n",
    "\n",
    "# Arragnement for replacing\n",
    "hold['code'] = hold['temperature'] + hold['precipitation']\n",
    "short_name = dict(zip(hold['code'], hold['id']))\n",
    "long_name= dict(zip(hold['code'], hold['bosque']))\n",
    "\n",
    "# replacing\n",
    "belize2['short_name'] = belize2.value.map(short_name)\n",
    "belize2['long_name'] = belize2.value.map(long_name)\n",
    "\n",
    "# rearragement\n",
    "belize2 = belize2[['value', 'short_name', 'long_name', 'geometry']].copy()\n",
    "belize2.plot(figsize=(15,15), cmap='Set1', column= 'long_name', legend=True,\n",
    "legend_kwds={'loc': 'center left', 'bbox_to_anchor':(1,0.5)})\n",
    "plt.plot()\n",
    "\n",
    "# rewriting updated version\n",
    "belize2.to_file(\"/home/davo/moja-data/shapefiles_Bel/Belize30s-v2.shp\")"
   ]
  }
 ],
 "metadata": {
  "interpreter": {
   "hash": "06f6d2efd1c6a7a188f79439f0061040f240d96648f311599942e31120a4a15e"
  },
  "kernelspec": {
   "display_name": "Python 3.10.1 64-bit ('python-gis': conda)",
   "language": "python",
   "name": "python3"
  },
  "language_info": {
   "codemirror_mode": {
    "name": "ipython",
    "version": 3
   },
   "file_extension": ".py",
   "mimetype": "text/x-python",
   "name": "python",
   "nbconvert_exporter": "python",
   "pygments_lexer": "ipython3",
   "version": "3.10.1"
  },
  "orig_nbformat": 4
 },
 "nbformat": 4,
 "nbformat_minor": 2
}
