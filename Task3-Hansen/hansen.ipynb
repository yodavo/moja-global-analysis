{
 "cells": [
  {
   "cell_type": "code",
   "execution_count": 1,
   "metadata": {},
   "outputs": [],
   "source": [
    "# Fetch and organize data\n",
    "import os, zipfile, glob, io, requests\n",
    "\n",
    "# Tabular data\n",
    "import numpy as np\n",
    "\n",
    "import pandas as pd\n",
    "import geopandas as gpd\n",
    "from osgeo import gdal\n",
    "import georasters as gr\n",
    "\n",
    "# Plots\n",
    "import matplotlib.pyplot as plt\n"
   ]
  },
  {
   "cell_type": "markdown",
   "metadata": {},
   "source": [
    "# Useful Functions"
   ]
  },
  {
   "cell_type": "markdown",
   "metadata": {},
   "source": [
    "Clipping shapefiles (to clip rasters)"
   ]
  },
  {
   "cell_type": "code",
   "execution_count": 2,
   "metadata": {},
   "outputs": [],
   "source": [
    "# importing the data\n",
    "world_df = gpd.read_file(gpd.datasets.get_path('naturalearth_lowres'))\n",
    "\n",
    "# subseting columns\n",
    "world_df = world_df[['continent','name', 'iso_a3','geometry']]\n",
    "\n",
    "# croppping boundaries and save shapefiles\n",
    "path = os.path.join(os.getcwd(), 'shapefiles')\n",
    "if os.path.isdir(path) == False:\n",
    "    os.mkdir(path) # create folder\n",
    "\n",
    "for i in ['Colombia', 'Belize']:\n",
    "    temp = world_df.loc[world_df.name == i, ].reset_index(drop=True)\n",
    "    temp.to_file(\"./shapefiles/\" + i.lower() + \".shp\")\n",
    "\n",
    "# load the shapefiles from cropping\n",
    "colombia_shp = './shapefiles/colombia.shp'\n",
    "belize_shp = './shapefiles/belize.shp'"
   ]
  },
  {
   "cell_type": "markdown",
   "metadata": {},
   "source": [
    "For fetching raster from Hansen"
   ]
  },
  {
   "cell_type": "code",
   "execution_count": 3,
   "metadata": {},
   "outputs": [],
   "source": [
    "# Fetch hansen datasets\n",
    "def fetch_raster(list_url, country_name):\n",
    "    ''' Fetcht the rasters by from a list url, download it and \n",
    "    subset 2 rasters:\n",
    "    - url : raster dataset url from Hansen\n",
    "    - country_name: to keep separated folders by country name'''\n",
    "\n",
    "    # main_folder\n",
    "    current_folder = os.getcwd()\n",
    "    new_folder = str(country_name)\n",
    "    \n",
    "    # arrangements\n",
    "    path = os.path.join(current_folder, new_folder)\n",
    "    if os.path.isdir(path) == False:\n",
    "        os.mkdir(path) # create folder\n",
    "        \n",
    "    os.chdir(path) # move to folder\n",
    "\n",
    "    # Fetching geotif form Hansen\n",
    "    for url in list_url:\n",
    "        fetching_url = f'! wget {url} -q'\n",
    "        if os.path.exists(url.rsplit('/')[-1]) == False:\n",
    "            os.system(fetching_url)\n",
    "\n",
    "    # print the outcome\n",
    "    print(\"================================================================================\")\n",
    "    print('%2d raster files downloaded in folder: %s.' %(len(list_url), new_folder))\n",
    "\n",
    "    # return to working directory\n",
    "    os.chdir(current_folder)\n",
    "\n",
    "    print(\"================================================================================\")"
   ]
  },
  {
   "cell_type": "markdown",
   "metadata": {},
   "source": [
    "Clip raster using shapefile as borderline"
   ]
  },
  {
   "cell_type": "code",
   "execution_count": 4,
   "metadata": {},
   "outputs": [],
   "source": [
    "# Function to clip and save rasters\n",
    "def clip_raster(merged_raster, inshp, country_name, raster_type):\n",
    "    ''' Get a clipped raster from the Worldclim data for specified countries:\n",
    "    - merged_raster : geotiff merged under the country borderline\n",
    "    - inshp : path clipped shapefile with the name of the country\n",
    "    - country_name: country name of the raster/folder for clipped outraster \n",
    "    '''\n",
    "\n",
    "    path = os.path.join(os.getcwd(), 'hansen_' + country_name)\n",
    "    if os.path.isdir(path) == False:\n",
    "        os.mkdir(path) # create folder\n",
    "\n",
    "    vrt = path + '/' + str(country_name) + '_' + str(raster_type) + '.vrt'\n",
    "    outraster = path + '/' + str(country_name) + '_' + str(raster_type) + '.tif'\n",
    "    command1 = \"gdalwarp -cutline %s -crop_to_cutline -dstnodata None -dstalpha -of vrt %s %s\" % (inshp, merged_raster, vrt)\n",
    "    command2 = \"gdal_translate -co compress=LZW %s %s\" % (vrt, outraster)\n",
    "    command3 = \"rm -r %s\" % (vrt)\n",
    "    os.system(command1)\n",
    "    os.system(command2)\n",
    "    os.system(command3)\n",
    "\n",
    "    # print the results\n",
    "    print('%s clipped raster succesfully stored at the folder: hansen_%s.' %(raster_type, country_name))\n",
    "    \n",
    "    print(\"================================================================================\")"
   ]
  },
  {
   "cell_type": "markdown",
   "metadata": {},
   "source": [
    "Merge and clip raster"
   ]
  },
  {
   "cell_type": "code",
   "execution_count": 15,
   "metadata": {},
   "outputs": [],
   "source": [
    "def merge_clip(country_name, country_shp, raster_type):\n",
    "    ''' merge_clip recieve a country_name folder, merge the raster inside and clipped based on\n",
    "    another country_shp shapefile path, finally create a folder with country_name with\n",
    "    a hanse_ prefix and store the clipped data.\n",
    "    \n",
    "    :params country_name: string country name in lowercase\n",
    "    :params country_shp: borderline shapefile path\n",
    "    :params raster_type: string raster type downloaded\n",
    "\n",
    "    :returns: a message with the path of the stored clipped raster\n",
    "    '''\n",
    "    \n",
    "    # Getting path\n",
    "    path = os.path.join(os.getcwd(), country_name)\n",
    "\n",
    "    # Read the data\n",
    "    files = glob.glob(os.path.join(path, '*tif')) # colect all the files in folder \"country_name\"\n",
    "\n",
    "    if len(files) > 1:\n",
    "        # Merging the rasters\n",
    "        inputs = ' '.join(files)\n",
    "        output = os.path.join(path,  country_name + '-merged.tif')\n",
    "\n",
    "        # Command\n",
    "        command = \"gdal_merge.py %s -o %s\" % (inputs, output)\n",
    "\n",
    "        # Run the command\n",
    "        print(\"Running gdal wrap:\\n\")\n",
    "        os.system(command) # 0 execute a succesful merge\n",
    "        print(\"================================================================================\")\n",
    "        \n",
    "        # Clipping the rasters\n",
    "        print(\"Running gdal clipped\")\n",
    "        clip_raster(output, country_shp, country_name, raster_type)\n",
    "\n",
    "    else:\n",
    "        print('Only 1 file to clip')\n",
    "        inputs = ' '.join(files)\n",
    "        # Clipping the rasters\n",
    "        print(\"Running gdal clipped\")\n",
    "        clip_raster(inputs, country_shp, country_name, raster_type)\n",
    "\n",
    "    # # removing the folder\n",
    "    # command_remove = \"rm -r %s\" %(path)\n",
    "    # print(\"%s folder removed\" %(country_name))\n",
    "    # os.system(command_remove)\n",
    "    # print(\"================================================================================\")"
   ]
  },
  {
   "cell_type": "markdown",
   "metadata": {},
   "source": [
    "# **1. Tree canopy cover for year 2000 (treecover2000)**"
   ]
  },
  {
   "cell_type": "markdown",
   "metadata": {},
   "source": [
    "## **1.1. Tree cover in Colombia**"
   ]
  },
  {
   "cell_type": "code",
   "execution_count": 6,
   "metadata": {},
   "outputs": [
    {
     "name": "stdout",
     "output_type": "stream",
     "text": [
      "================================================================================\n",
      " 6 raster files downloaded in folder: colombia.\n",
      "================================================================================\n",
      "Running gdal wrap:\n",
      "\n",
      "0...10...20...30...40...50...60...70...80...90...100 - done.\n",
      "================================================================================\n",
      "Running gdal clipped\n",
      "Creating output file that is 48457P x 66941L.\n",
      "Processing /home/davo/Documents/GitHub/moja-global-analysis/Task3-Hansen/colombia/colombia-merged.tif [1/1] : 0...10...20...30...40...50...60...70...80...90...100 - done.\n",
      "Input file size is 48457, 66941\n",
      "0...10...20...30...40...50...60...70...80...90...100 - done.\n",
      "treecover clipped raster succesfully stored at the folder: hansen_colombia.\n",
      "================================================================================\n",
      "colombia folder removed\n",
      "================================================================================\n"
     ]
    }
   ],
   "source": [
    "# Colombia treecover data\n",
    "colombia_treecover = [\n",
    "    'https://storage.googleapis.com/earthenginepartners-hansen/GFC-2019-v1.7/Hansen_GFC-2019-v1.7_treecover2000_10N_080W.tif',\n",
    "    'https://storage.googleapis.com/earthenginepartners-hansen/GFC-2019-v1.7/Hansen_GFC-2019-v1.7_treecover2000_20N_080W.tif',\n",
    "    'https://storage.googleapis.com/earthenginepartners-hansen/GFC-2019-v1.7/Hansen_GFC-2019-v1.7_treecover2000_10N_070W.tif',\n",
    "    'https://storage.googleapis.com/earthenginepartners-hansen/GFC-2019-v1.7/Hansen_GFC-2019-v1.7_treecover2000_00N_080W.tif',\n",
    "    'https://storage.googleapis.com/earthenginepartners-hansen/GFC-2019-v1.7/Hansen_GFC-2019-v1.7_treecover2000_00N_070W.tif',\n",
    "    'https://storage.googleapis.com/earthenginepartners-hansen/GFC-2019-v1.7/Hansen_GFC-2019-v1.7_treecover2000_20N_070W.tif'\n",
    "    ]\n",
    "\n",
    "# Fetching datasets\n",
    "fetch_raster(colombia_treecover, 'colombia')\n",
    "\n",
    "# Merge and clip raster\n",
    "merge_clip('colombia', colombia_shp, 'treecover')"
   ]
  },
  {
   "cell_type": "markdown",
   "metadata": {},
   "source": [
    "## **1.2. Tree cover in Belize**"
   ]
  },
  {
   "cell_type": "code",
   "execution_count": 7,
   "metadata": {},
   "outputs": [
    {
     "name": "stdout",
     "output_type": "stream",
     "text": [
      "================================================================================\n",
      " 1 raster files downloaded in folder: belize.\n",
      "================================================================================\n",
      "Only 1 file to clip\n",
      "Running gdal clipped\n",
      "Creating output file that is 4488P x 10451L.\n",
      "Processing /home/davo/Documents/GitHub/moja-global-analysis/Task3-Hansen/belize/Hansen_GFC-2019-v1.7_treecover2000_20N_090W.tif [1/1] : 0...10...20...30...40...50...60...70...80...90...100 - done.\n",
      "Input file size is 4488, 10451\n",
      "0...10...20...30...40...50...60...70...80...90...100 - done.\n",
      "treecover clipped raster succesfully stored at the folder: hansen_belize.\n",
      "================================================================================\n",
      "belize folder removed\n",
      "================================================================================\n"
     ]
    }
   ],
   "source": [
    "# Belize treecover data\n",
    "belize_treecover = ['https://storage.googleapis.com/earthenginepartners-hansen/GFC-2019-v1.7/Hansen_GFC-2019-v1.7_treecover2000_20N_090W.tif']\n",
    "\n",
    "# Fetching datasets\n",
    "fetch_raster(belize_treecover, 'belize')\n",
    "\n",
    "# Merge and clip raster\n",
    "merge_clip('belize', belize_shp, 'treecover')"
   ]
  },
  {
   "cell_type": "markdown",
   "metadata": {},
   "source": [
    "# **2. Global forest cover gain 2000–2012 (gain)**"
   ]
  },
  {
   "cell_type": "markdown",
   "metadata": {},
   "source": [
    "## **1.1. Cover gain in Colombia**"
   ]
  },
  {
   "cell_type": "code",
   "execution_count": 8,
   "metadata": {},
   "outputs": [
    {
     "name": "stdout",
     "output_type": "stream",
     "text": [
      "================================================================================\n",
      " 6 raster files downloaded in folder: colombia.\n",
      "================================================================================\n",
      "Running gdal wrap:\n",
      "\n",
      "0...10...20...30...40...50...60...70...80...90...100 - done.\n",
      "================================================================================\n",
      "Running gdal clipped\n",
      "Creating output file that is 48457P x 66941L.\n",
      "Processing /home/davo/Documents/GitHub/moja-global-analysis/Task3-Hansen/colombia/colombia-merged.tif [1/1] : 0...10...20...30...40...50...60...70...80...90...100 - done.\n",
      "Input file size is 48457, 66941\n",
      "0...10...20...30...40...50...60...70...80...90...100 - done.\n",
      "gain clipped raster succesfully stored at the folder: hansen_colombia.\n",
      "================================================================================\n",
      "colombia folder removed\n",
      "================================================================================\n"
     ]
    }
   ],
   "source": [
    "# Colombia gain data\n",
    "colombia_gain = [\n",
    "    'https://storage.googleapis.com/earthenginepartners-hansen/GFC-2019-v1.7/Hansen_GFC-2019-v1.7_gain_10N_080W.tif',\n",
    "    'https://storage.googleapis.com/earthenginepartners-hansen/GFC-2019-v1.7/Hansen_GFC-2019-v1.7_gain_20N_080W.tif',\n",
    "    'https://storage.googleapis.com/earthenginepartners-hansen/GFC-2019-v1.7/Hansen_GFC-2019-v1.7_gain_10N_070W.tif',\n",
    "    'https://storage.googleapis.com/earthenginepartners-hansen/GFC-2019-v1.7/Hansen_GFC-2019-v1.7_gain_00N_080W.tif',\n",
    "    'https://storage.googleapis.com/earthenginepartners-hansen/GFC-2019-v1.7/Hansen_GFC-2019-v1.7_gain_00N_070W.tif',\n",
    "    'https://storage.googleapis.com/earthenginepartners-hansen/GFC-2019-v1.7/Hansen_GFC-2019-v1.7_gain_20N_070W.tif'\n",
    "    ]\n",
    "\n",
    "# Fetching datasets\n",
    "fetch_raster(colombia_gain, 'colombia')\n",
    "\n",
    "# Merge and clip raster\n",
    "merge_clip('colombia', colombia_shp, 'gain')"
   ]
  },
  {
   "cell_type": "markdown",
   "metadata": {},
   "source": [
    "## **2.2. Cover gain in Belize**"
   ]
  },
  {
   "cell_type": "code",
   "execution_count": 9,
   "metadata": {},
   "outputs": [
    {
     "name": "stdout",
     "output_type": "stream",
     "text": [
      "================================================================================\n",
      " 1 raster files downloaded in folder: belize.\n",
      "================================================================================\n",
      "Only 1 file to clip\n",
      "Running gdal clipped\n",
      "Creating output file that is 4488P x 10451L.\n",
      "Processing /home/davo/Documents/GitHub/moja-global-analysis/Task3-Hansen/belize/Hansen_GFC-2019-v1.7_gain_20N_090W.tif [1/1] : 0...10...20...30...40...50...60...70...80...90...100 - done.\n",
      "Input file size is 4488, 10451\n",
      "0...10...20...30...40...50...60...70...80...90...100 - done.\n",
      "gain clipped raster succesfully stored at the folder: hansen_belize.\n",
      "================================================================================\n",
      "belize folder removed\n",
      "================================================================================\n"
     ]
    }
   ],
   "source": [
    "# Belize gain data\n",
    "belize_gain = ['https://storage.googleapis.com/earthenginepartners-hansen/GFC-2019-v1.7/Hansen_GFC-2019-v1.7_gain_20N_090W.tif']\n",
    "\n",
    "# Fetching datasets\n",
    "fetch_raster(belize_gain, 'belize')\n",
    "\n",
    "# Merge and clip raster\n",
    "merge_clip('belize', belize_shp, 'gain')"
   ]
  },
  {
   "cell_type": "markdown",
   "metadata": {},
   "source": [
    "# **3. Year of gross forest cover loss event (lossyear)**"
   ]
  },
  {
   "cell_type": "markdown",
   "metadata": {},
   "source": [
    "### **3.1. Year of gross forest cover loss event in Colombia**"
   ]
  },
  {
   "cell_type": "code",
   "execution_count": 10,
   "metadata": {},
   "outputs": [
    {
     "name": "stdout",
     "output_type": "stream",
     "text": [
      "================================================================================\n",
      " 6 raster files downloaded in folder: colombia.\n",
      "================================================================================\n",
      "Running gdal wrap:\n",
      "\n",
      "0...10...20...30...40...50...60...70...80...90...100 - done.\n",
      "================================================================================\n",
      "Running gdal clipped\n",
      "Creating output file that is 48457P x 66941L.\n",
      "Processing /home/davo/Documents/GitHub/moja-global-analysis/Task3-Hansen/colombia/colombia-merged.tif [1/1] : 0...10...20...30...40...50...60...70...80...90...100 - done.\n",
      "Input file size is 48457, 66941\n",
      "0...10...20...30...40...50...60...70...80...90...100 - done.\n",
      "lossyear clipped raster succesfully stored at the folder: hansen_colombia.\n",
      "================================================================================\n",
      "colombia folder removed\n",
      "================================================================================\n"
     ]
    }
   ],
   "source": [
    "# Colombia lossyear data\n",
    "colombia_lossyear = [\n",
    "    'https://storage.googleapis.com/earthenginepartners-hansen/GFC-2019-v1.7/Hansen_GFC-2019-v1.7_lossyear_10N_080W.tif',\n",
    "    'https://storage.googleapis.com/earthenginepartners-hansen/GFC-2019-v1.7/Hansen_GFC-2019-v1.7_lossyear_20N_080W.tif',\n",
    "    'https://storage.googleapis.com/earthenginepartners-hansen/GFC-2019-v1.7/Hansen_GFC-2019-v1.7_lossyear_10N_070W.tif',\n",
    "    'https://storage.googleapis.com/earthenginepartners-hansen/GFC-2019-v1.7/Hansen_GFC-2019-v1.7_lossyear_00N_080W.tif',\n",
    "    'https://storage.googleapis.com/earthenginepartners-hansen/GFC-2019-v1.7/Hansen_GFC-2019-v1.7_lossyear_00N_070W.tif',\n",
    "    'https://storage.googleapis.com/earthenginepartners-hansen/GFC-2019-v1.7/Hansen_GFC-2019-v1.7_lossyear_20N_070W.tif'\n",
    "    ]\n",
    "\n",
    "# Fetching datasets\n",
    "fetch_raster(colombia_lossyear, 'colombia')\n",
    "\n",
    "# Merge and clip raster\n",
    "merge_clip('colombia', colombia_shp, 'lossyear')"
   ]
  },
  {
   "cell_type": "markdown",
   "metadata": {},
   "source": [
    "### **3.2. Year of gross forest cover loss event in Belize**"
   ]
  },
  {
   "cell_type": "code",
   "execution_count": 11,
   "metadata": {},
   "outputs": [
    {
     "name": "stdout",
     "output_type": "stream",
     "text": [
      "================================================================================\n",
      " 1 raster files downloaded in folder: belize.\n",
      "================================================================================\n",
      "Only 1 file to clip\n",
      "Running gdal clipped\n",
      "Creating output file that is 4488P x 10451L.\n",
      "Processing /home/davo/Documents/GitHub/moja-global-analysis/Task3-Hansen/belize/Hansen_GFC-2019-v1.7_lossyear_20N_090W.tif [1/1] : 0...10...20...30...40...50...60...70...80...90...100 - done.\n",
      "Input file size is 4488, 10451\n",
      "0...10...20...30...40...50...60...70...80...90...100 - done.\n",
      "lossyear clipped raster succesfully stored at the folder: hansen_belize.\n",
      "================================================================================\n",
      "belize folder removed\n",
      "================================================================================\n"
     ]
    }
   ],
   "source": [
    "# Belize lossyear data\n",
    "belize_lossyear = ['https://storage.googleapis.com/earthenginepartners-hansen/GFC-2019-v1.7/Hansen_GFC-2019-v1.7_lossyear_20N_090W.tif']\n",
    "\n",
    "# Fetching datasets\n",
    "fetch_raster(belize_lossyear, 'belize')\n",
    "\n",
    "# Merge and clip raster\n",
    "merge_clip('belize', belize_shp, 'lossyear')"
   ]
  },
  {
   "cell_type": "markdown",
   "metadata": {},
   "source": [
    "# **4. Data mask (datamask)**"
   ]
  },
  {
   "cell_type": "markdown",
   "metadata": {},
   "source": [
    "### **4.1. Data mask in Colombia**"
   ]
  },
  {
   "cell_type": "code",
   "execution_count": 12,
   "metadata": {},
   "outputs": [
    {
     "name": "stdout",
     "output_type": "stream",
     "text": [
      "================================================================================\n",
      " 6 raster files downloaded in folder: colombia.\n",
      "================================================================================\n",
      "Running gdal wrap:\n",
      "\n",
      "0...10...20...30...40...50...60...70...80...90...100 - done.\n",
      "================================================================================\n",
      "Running gdal clipped\n",
      "Creating output file that is 48457P x 66941L.\n",
      "Processing /home/davo/Documents/GitHub/moja-global-analysis/Task3-Hansen/colombia/colombia-merged.tif [1/1] : 0...10...20...30...40...50...60...70...80...90...100 - done.\n",
      "Input file size is 48457, 66941\n",
      "0...10...20...30...40...50...60...70...80...90...100 - done.\n",
      "datamask clipped raster succesfully stored at the folder: hansen_colombia.\n",
      "================================================================================\n",
      "colombia folder removed\n",
      "================================================================================\n"
     ]
    }
   ],
   "source": [
    "# Colombia datamask data\n",
    "colombia_datamask = [\n",
    "    'https://storage.googleapis.com/earthenginepartners-hansen/GFC-2019-v1.7/Hansen_GFC-2019-v1.7_datamask_10N_080W.tif',\n",
    "    'https://storage.googleapis.com/earthenginepartners-hansen/GFC-2019-v1.7/Hansen_GFC-2019-v1.7_datamask_20N_080W.tif',\n",
    "    'https://storage.googleapis.com/earthenginepartners-hansen/GFC-2019-v1.7/Hansen_GFC-2019-v1.7_datamask_10N_070W.tif',\n",
    "    'https://storage.googleapis.com/earthenginepartners-hansen/GFC-2019-v1.7/Hansen_GFC-2019-v1.7_datamask_00N_080W.tif',\n",
    "    'https://storage.googleapis.com/earthenginepartners-hansen/GFC-2019-v1.7/Hansen_GFC-2019-v1.7_datamask_00N_070W.tif',\n",
    "    'https://storage.googleapis.com/earthenginepartners-hansen/GFC-2019-v1.7/Hansen_GFC-2019-v1.7_datamask_20N_070W.tif'\n",
    "    ]\n",
    "\n",
    "# Fetching datasets\n",
    "fetch_raster(colombia_datamask, 'colombia')\n",
    "\n",
    "# Merge and clip raster\n",
    "merge_clip('colombia', colombia_shp, 'datamask')"
   ]
  },
  {
   "cell_type": "markdown",
   "metadata": {},
   "source": [
    "### **4.2. Data mask in Belize**"
   ]
  },
  {
   "cell_type": "code",
   "execution_count": 13,
   "metadata": {},
   "outputs": [
    {
     "name": "stdout",
     "output_type": "stream",
     "text": [
      "================================================================================\n",
      " 1 raster files downloaded in folder: belize.\n",
      "================================================================================\n",
      "Only 1 file to clip\n",
      "Running gdal clipped\n",
      "Creating output file that is 4488P x 10451L.\n",
      "Processing /home/davo/Documents/GitHub/moja-global-analysis/Task3-Hansen/belize/Hansen_GFC-2019-v1.7_datamask_20N_090W.tif [1/1] : 0...10...20...30...40...50...60...70...80...90...100 - done.\n",
      "Input file size is 4488, 10451\n",
      "0...10...20...30...40...50...60...70...80...90...100 - done.\n",
      "datamask clipped raster succesfully stored at the folder: hansen_belize.\n",
      "================================================================================\n",
      "belize folder removed\n",
      "================================================================================\n"
     ]
    }
   ],
   "source": [
    "# Belize datamask data\n",
    "belize_datamask = ['https://storage.googleapis.com/earthenginepartners-hansen/GFC-2019-v1.7/Hansen_GFC-2019-v1.7_datamask_20N_090W.tif']\n",
    "\n",
    "# Fetching datasets\n",
    "fetch_raster(belize_datamask, 'belize')\n",
    "\n",
    "# Merge and clip raster\n",
    "merge_clip('belize', belize_shp, 'datamask')"
   ]
  },
  {
   "cell_type": "markdown",
   "metadata": {},
   "source": [
    "# **5. Circa year 2000 Landsat 7 cloud-free image composite (first)**"
   ]
  },
  {
   "cell_type": "markdown",
   "metadata": {},
   "source": [
    "### **5.1. Multispectral imagery from the first available year (2000) in Colombia**"
   ]
  },
  {
   "cell_type": "code",
   "execution_count": 18,
   "metadata": {},
   "outputs": [],
   "source": [
    "# # Colombia first data\n",
    "# colombia_first = [\n",
    "#     'https://storage.googleapis.com/earthenginepartners-hansen/GFC-2019-v1.7/Hansen_GFC-2019-v1.7_first_10N_080W.tif',\n",
    "#     'https://storage.googleapis.com/earthenginepartners-hansen/GFC-2019-v1.7/Hansen_GFC-2019-v1.7_first_20N_080W.tif',\n",
    "#     'https://storage.googleapis.com/earthenginepartners-hansen/GFC-2019-v1.7/Hansen_GFC-2019-v1.7_first_10N_070W.tif',\n",
    "#     'https://storage.googleapis.com/earthenginepartners-hansen/GFC-2019-v1.7/Hansen_GFC-2019-v1.7_first_00N_080W.tif',\n",
    "#     'https://storage.googleapis.com/earthenginepartners-hansen/GFC-2019-v1.7/Hansen_GFC-2019-v1.7_first_00N_070W.tif',\n",
    "#     'https://storage.googleapis.com/earthenginepartners-hansen/GFC-2019-v1.7/Hansen_GFC-2019-v1.7_first_20N_070W.tif'\n",
    "#     ]\n",
    "\n",
    "# # Fetching datasets\n",
    "# fetch_raster(colombia_first, 'colombia')\n",
    "\n",
    "# # Merge and clip raster\n",
    "# merge_clip('colombia', colombia_shp, 'first')"
   ]
  },
  {
   "cell_type": "markdown",
   "metadata": {},
   "source": [
    "### **5.2. Multispectral imagery from the first available year (2000) in Belize**"
   ]
  },
  {
   "cell_type": "code",
   "execution_count": 19,
   "metadata": {},
   "outputs": [],
   "source": [
    "# # Belize first data\n",
    "# belize_first = ['https://storage.googleapis.com/earthenginepartners-hansen/GFC-2019-v1.7/Hansen_GFC-2019-v1.7_first_20N_090W.tif']\n",
    "\n",
    "# # Fetching datasets\n",
    "# fetch_raster(belize_first, 'belize')\n",
    "\n",
    "# # Merge and clip raster\n",
    "# merge_clip('belize', belize_shp, 'first')"
   ]
  },
  {
   "cell_type": "markdown",
   "metadata": {},
   "source": [
    "# **6.Circa year 2019 Landsat cloud-free image composite (last)**"
   ]
  },
  {
   "cell_type": "markdown",
   "metadata": {},
   "source": [
    "### **6.1. Multispectral imagery from the last available year (2019) in Colombia**"
   ]
  },
  {
   "cell_type": "code",
   "execution_count": 20,
   "metadata": {},
   "outputs": [],
   "source": [
    "# # Colombia last data\n",
    "# colombia_last = [\n",
    "#     'https://storage.googleapis.com/earthenginepartners-hansen/GFC-2019-v1.7/Hansen_GFC-2019-v1.7_last_10N_080W.tif',\n",
    "#     'https://storage.googleapis.com/earthenginepartners-hansen/GFC-2019-v1.7/Hansen_GFC-2019-v1.7_last_20N_080W.tif',\n",
    "#     'https://storage.googleapis.com/earthenginepartners-hansen/GFC-2019-v1.7/Hansen_GFC-2019-v1.7_last_10N_070W.tif',\n",
    "#     'https://storage.googleapis.com/earthenginepartners-hansen/GFC-2019-v1.7/Hansen_GFC-2019-v1.7_last_00N_080W.tif',\n",
    "#     'https://storage.googleapis.com/earthenginepartners-hansen/GFC-2019-v1.7/Hansen_GFC-2019-v1.7_last_00N_070W.tif',\n",
    "#     'https://storage.googleapis.com/earthenginepartners-hansen/GFC-2019-v1.7/Hansen_GFC-2019-v1.7_last_20N_070W.tif'\n",
    "#     ]\n",
    "\n",
    "# # Fetching datasets\n",
    "# fetch_raster(colombia_last, 'colombia')\n",
    "\n",
    "# # Merge and clip raster\n",
    "# merge_clip('colombia', colombia_shp, 'last')"
   ]
  },
  {
   "cell_type": "markdown",
   "metadata": {},
   "source": [
    "### **6.2. Multispectral imagery from the last available year (2019) in Belize**"
   ]
  },
  {
   "cell_type": "code",
   "execution_count": 21,
   "metadata": {},
   "outputs": [],
   "source": [
    "# # Belize last data\n",
    "# belize_last = ['https://storage.googleapis.com/earthenginepartners-hansen/GFC-2019-v1.7/Hansen_GFC-2019-v1.7_last_20N_090W.tif']\n",
    "\n",
    "# # Fetching datasets\n",
    "# fetch_raster(belize_last, 'belize')\n",
    "\n",
    "# # Merge and clip raster\n",
    "# merge_clip('belize', belize_shp, 'last')"
   ]
  },
  {
   "cell_type": "markdown",
   "metadata": {},
   "source": [
    "**Note:** In case a metadata review is necessary:"
   ]
  },
  {
   "cell_type": "code",
   "execution_count": null,
   "metadata": {},
   "outputs": [],
   "source": [
    "# # Read the data\n",
    "# files = glob.glob(os.path.join(path, '*tif')) # list of files in folder\n",
    "# names = [i[i.rfind('treecover2000'):].rsplit('.')[0] for i in files] # name for read data\n",
    "# colombia =#  list(zip(names, [gdal.Open(f) for f in files]))\n",
    "\n",
    "# # Review\n",
    "# for i in colombia:\n",
    "#     name, raster = i\n",
    "#     print('File: ', name)\n",
    "\n",
    "#     # Projection and Raster Metadata\n",
    "#     # print(raster.GetProjection(), raster.GetMetadata())\n",
    "\n",
    "#     # Dimensions X, Y and Number of bands\n",
    "#     print(raster.RasterXSize, raster.RasterYSize, raster.RasterCount)\n",
    "#     print()\n",
    "\n",
    "# Projection and Raster Metadata\n",
    "# print(merged.GetProjection(), merged.GetMetadata())\n",
    "\n",
    "# Dimensions X, Y and Number of bands\n",
    "# print(merged.RasterXSize, merged.RasterYSize, merged.RasterCount)\n",
    "# print()"
   ]
  }
 ],
 "metadata": {
  "interpreter": {
   "hash": "06f6d2efd1c6a7a188f79439f0061040f240d96648f311599942e31120a4a15e"
  },
  "kernelspec": {
   "display_name": "Python 3.10.1 64-bit ('python-gis': conda)",
   "language": "python",
   "name": "python3"
  },
  "language_info": {
   "codemirror_mode": {
    "name": "ipython",
    "version": 3
   },
   "file_extension": ".py",
   "mimetype": "text/x-python",
   "name": "python",
   "nbconvert_exporter": "python",
   "pygments_lexer": "ipython3",
   "version": "3.10.1"
  },
  "orig_nbformat": 4
 },
 "nbformat": 4,
 "nbformat_minor": 2
}
