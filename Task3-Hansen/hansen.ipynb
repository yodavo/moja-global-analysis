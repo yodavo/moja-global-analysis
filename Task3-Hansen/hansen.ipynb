{
 "cells": [
  {
   "cell_type": "code",
   "execution_count": 1,
   "metadata": {},
   "outputs": [],
   "source": [
    "# for download and decompress the dataset\n",
    "import os, zipfile, glob, io, requests\n",
    "\n",
    "# control\n",
    "import numpy as np\n",
    "\n",
    "import pandas as pd\n",
    "import geopandas as gpd\n",
    "from osgeo import gdal\n",
    "import georasters as gr\n",
    "\n",
    "#plotting\n",
    "import matplotlib.pyplot as plt\n"
   ]
  },
  {
   "cell_type": "markdown",
   "metadata": {},
   "source": [
    "# Useful Functions"
   ]
  },
  {
   "cell_type": "markdown",
   "metadata": {},
   "source": [
    "For fetching raster from Hansen"
   ]
  },
  {
   "cell_type": "code",
   "execution_count": 7,
   "metadata": {},
   "outputs": [],
   "source": [
    "# Fetch hansen datasets\n",
    "def fetch_raster(list_url, country_name):\n",
    "    ''' Fetcht the rasters by from a list url, download it and \n",
    "    subset 2 rasters:\n",
    "    - url : raster dataset url from Hansen\n",
    "    - country_name: to keep separated folders by country name'''\n",
    "\n",
    "    # main_folder\n",
    "    current_folder = os.getcwd()\n",
    "    new_folder = str(country_name)\n",
    "    \n",
    "    # arrangements\n",
    "    path = os.path.join(current_folder, new_folder)\n",
    "    if os.path.isdir(path) == False:\n",
    "        os.mkdir(path) # create folder\n",
    "        \n",
    "    os.chdir(path) # move to folder\n",
    "\n",
    "    # Fetching geotif form Hansen\n",
    "    for url in list_url:\n",
    "        fetching_url = f'! wget {url} -q'\n",
    "        if os.path.exists(url.rsplit('/')[-1]) == False:\n",
    "            os.system(fetching_url)\n",
    "\n",
    "    # print the outcome\n",
    "    print('%2d raster files downloaded in folder %s.' %(len(list_url), new_folder))\n",
    "\n",
    "    # return to working directory\n",
    "    os.chdir(current_folder)"
   ]
  },
  {
   "cell_type": "markdown",
   "metadata": {},
   "source": [
    "Clipping shapefiles (to clip rasters)"
   ]
  },
  {
   "cell_type": "code",
   "execution_count": 16,
   "metadata": {},
   "outputs": [],
   "source": [
    "# importing the data\n",
    "world_df = gpd.read_file(gpd.datasets.get_path('naturalearth_lowres'))\n",
    "\n",
    "# subseting columns\n",
    "world_df = world_df[['continent','name', 'iso_a3','geometry']]\n",
    "\n",
    "# croppping boundaries and save shapefiles\n",
    "path = os.path.join(os.getcwd(), 'shapefiles')\n",
    "if os.path.isdir(path) == False:\n",
    "    os.mkdir(path) # create folder\n",
    "\n",
    "for i in ['Colombia', 'Belize']:\n",
    "    temp = world_df.loc[world_df.name == i, ].reset_index(drop=True)\n",
    "    temp.to_file(\"./shapefiles/\" + i.lower() + \".shp\")\n",
    "\n",
    "# load the shapefiles from cropping\n",
    "colombia_shp = './shapefiles/colombia.shp'\n",
    "belize_shp = './shapefiles/belize.shp'"
   ]
  },
  {
   "cell_type": "markdown",
   "metadata": {},
   "source": [
    "Clip raster using shapefile as borderline"
   ]
  },
  {
   "cell_type": "code",
   "execution_count": 39,
   "metadata": {},
   "outputs": [],
   "source": [
    "# Function to clip and save rasters\n",
    "def clip_raster(merged_raster, inshp, final_name):\n",
    "    ''' Get a clipped raster from the Worldclim data for specified countries:\n",
    "    - merged_raster : geotiff merged under the country borderline\n",
    "    - inshp : path clipped shapefile with the name of the country\n",
    "    - final_name: final name of the raster/folder for clipped outraster '''\n",
    "    path = os.path.join(os.getcwd(), final_name)\n",
    "    if os.path.isdir(path) == False:\n",
    "        os.mkdir(path) # create folder\n",
    "\n",
    "    outraster = './' + final_name + '/' + str(final_name) + '.tif'\n",
    "    dsClip = gdal.Warp(outraster, raster, cutlineDSName=inshp, cropToCutline=True, dstNodata=np.nan)\n",
    "  \n",
    "    # print the results\n",
    "    print('Rasters succesfully clipped and stored at the folder %s.' %(final_name))\n",
    "    dsClip= None"
   ]
  },
  {
   "cell_type": "markdown",
   "metadata": {},
   "source": [
    "# Fetching rasters"
   ]
  },
  {
   "cell_type": "code",
   "execution_count": 41,
   "metadata": {},
   "outputs": [
    {
     "name": "stdout",
     "output_type": "stream",
     "text": [
      " 6 raster files downloaded in folder colombia.\n",
      " 1 raster files downloaded in folder belize.\n"
     ]
    }
   ],
   "source": [
    "# URLs\n",
    "colombia_treecover = [\n",
    "    'https://storage.googleapis.com/earthenginepartners-hansen/GFC-2019-v1.7/Hansen_GFC-2019-v1.7_treecover2000_10N_080W.tif',\n",
    "    'https://storage.googleapis.com/earthenginepartners-hansen/GFC-2019-v1.7/Hansen_GFC-2019-v1.7_treecover2000_20N_080W.tif',\n",
    "    'https://storage.googleapis.com/earthenginepartners-hansen/GFC-2019-v1.7/Hansen_GFC-2019-v1.7_treecover2000_10N_070W.tif',\n",
    "    'https://storage.googleapis.com/earthenginepartners-hansen/GFC-2019-v1.7/Hansen_GFC-2019-v1.7_treecover2000_00N_080W.tif',\n",
    "    'https://storage.googleapis.com/earthenginepartners-hansen/GFC-2019-v1.7/Hansen_GFC-2019-v1.7_treecover2000_00N_070W.tif',\n",
    "    'https://storage.googleapis.com/earthenginepartners-hansen/GFC-2019-v1.7/Hansen_GFC-2019-v1.7_treecover2000_20N_070W.tif'\n",
    "    ]\n",
    "\n",
    "belize_treecover = ['https://storage.googleapis.com/earthenginepartners-hansen/GFC-2019-v1.7/Hansen_GFC-2019-v1.7_treecover2000_20N_090W.tif']\n",
    "\n",
    "# Fetching datasets\n",
    "fetch_raster(colombia_treecover, 'colombia')\n",
    "fetch_raster(belize_treecover, 'belize')\n"
   ]
  },
  {
   "cell_type": "markdown",
   "metadata": {},
   "source": [
    "# Tree cover in Colombia"
   ]
  },
  {
   "cell_type": "code",
   "execution_count": 43,
   "metadata": {},
   "outputs": [],
   "source": [
    "# Getting path\n",
    "path = os.path.join(os.getcwd(), 'colombia')\n",
    "\n",
    "# Read the data\n",
    "files = glob.glob(os.path.join(path, '*tif')) # list of files in folder\n",
    "names = [i[i.rfind('treecover2000'):].rsplit('.')[0] for i in files] # name for read data\n",
    "colombia = list(zip(names, [gdal.Open(f) for f in files]))"
   ]
  },
  {
   "cell_type": "code",
   "execution_count": 44,
   "metadata": {},
   "outputs": [
    {
     "name": "stdout",
     "output_type": "stream",
     "text": [
      "File:  treecover2000_10N_080W\n",
      "40000 40000 1\n",
      "\n",
      "File:  treecover2000_20N_080W\n",
      "40000 40000 1\n",
      "\n",
      "File:  treecover2000_00N_070W\n",
      "40000 40000 1\n",
      "\n",
      "File:  treecover2000_20N_070W\n",
      "40000 40000 1\n",
      "\n",
      "File:  treecover2000_00N_080W\n",
      "40000 40000 1\n",
      "\n",
      "File:  treecover2000_10N_070W\n",
      "40000 40000 1\n",
      "\n"
     ]
    }
   ],
   "source": [
    "# Review\n",
    "for i in colombia:\n",
    "    name, raster = i\n",
    "    print('File: ', name)\n",
    "\n",
    "    # Projection and Raster Metadata\n",
    "    # print(raster.GetProjection(), raster.GetMetadata())\n",
    "\n",
    "    # Dimensions X, Y and Number of bands\n",
    "    print(raster.RasterXSize, raster.RasterYSize, raster.RasterCount)\n",
    "    print()\n",
    "    "
   ]
  },
  {
   "cell_type": "code",
   "execution_count": 45,
   "metadata": {},
   "outputs": [
    {
     "name": "stdout",
     "output_type": "stream",
     "text": [
      "0...10...20...30...40...50...60...70...80...90...100 - done.\n"
     ]
    },
    {
     "data": {
      "text/plain": [
       "0"
      ]
     },
     "execution_count": 45,
     "metadata": {},
     "output_type": "execute_result"
    }
   ],
   "source": [
    "# Merging the rasters\n",
    "inputs = ' '.join(files)\n",
    "output = os.path.join(path, 'colombia-merged__SouthAmerica.tif')\n",
    "\n",
    "# Command\n",
    "command = \"gdal_merge.py %s -o %s\" % (inputs, output)\n",
    "\n",
    "# Run the command\n",
    "os.system(command)"
   ]
  },
  {
   "cell_type": "code",
   "execution_count": 48,
   "metadata": {},
   "outputs": [],
   "source": [
    "# Clipping the rasters\n",
    "merged = gdal.Open(output)\n",
    "# clip_raster(merged, colombia_shp, 'colombia_treecover2000')"
   ]
  },
  {
   "cell_type": "code",
   "execution_count": 52,
   "metadata": {},
   "outputs": [
    {
     "name": "stdout",
     "output_type": "stream",
     "text": [
      "80000 120000 1\n",
      "\n"
     ]
    }
   ],
   "source": [
    "# Projection and Raster Metadata\n",
    "# print(merged.GetProjection(), merged.GetMetadata())\n",
    "\n",
    "# Dimensions X, Y and Number of bands\n",
    "print(merged.RasterXSize, merged.RasterYSize, merged.RasterCount)\n",
    "print()"
   ]
  }
 ],
 "metadata": {
  "interpreter": {
   "hash": "06f6d2efd1c6a7a188f79439f0061040f240d96648f311599942e31120a4a15e"
  },
  "kernelspec": {
   "display_name": "Python 3.10.1 64-bit ('python-gis': conda)",
   "language": "python",
   "name": "python3"
  },
  "language_info": {
   "codemirror_mode": {
    "name": "ipython",
    "version": 3
   },
   "file_extension": ".py",
   "mimetype": "text/x-python",
   "name": "python",
   "nbconvert_exporter": "python",
   "pygments_lexer": "ipython3",
   "version": "3.10.1"
  },
  "orig_nbformat": 4
 },
 "nbformat": 4,
 "nbformat_minor": 2
}
