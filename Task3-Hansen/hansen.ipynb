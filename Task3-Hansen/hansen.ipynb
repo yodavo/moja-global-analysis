{
 "cells": [
  {
   "cell_type": "code",
   "execution_count": 1,
   "metadata": {},
   "outputs": [],
   "source": [
    "# Fetch and organize data\n",
    "import os, zipfile, glob, io, requests\n",
    "\n",
    "# Tabular data\n",
    "import numpy as np\n",
    "\n",
    "import pandas as pd\n",
    "import geopandas as gpd\n",
    "from osgeo import gdal\n",
    "import georasters as gr\n",
    "\n",
    "# Plots\n",
    "import matplotlib.pyplot as plt\n"
   ]
  },
  {
   "cell_type": "markdown",
   "metadata": {},
   "source": [
    "# Useful Functions"
   ]
  },
  {
   "cell_type": "markdown",
   "metadata": {},
   "source": [
    "Clipping shapefiles (to clip rasters)"
   ]
  },
  {
   "cell_type": "code",
   "execution_count": 2,
   "metadata": {},
   "outputs": [],
   "source": [
    "# importing the data\n",
    "world_df = gpd.read_file(gpd.datasets.get_path('naturalearth_lowres'))\n",
    "\n",
    "# subseting columns\n",
    "world_df = world_df[['continent','name', 'iso_a3','geometry']]\n",
    "\n",
    "# croppping boundaries and save shapefiles\n",
    "path = os.path.join(os.getcwd(), 'shapefiles')\n",
    "if os.path.isdir(path) == False:\n",
    "    os.mkdir(path) # create folder\n",
    "\n",
    "for i in ['Colombia', 'Belize']:\n",
    "    temp = world_df.loc[world_df.name == i, ].reset_index(drop=True)\n",
    "    temp.to_file(\"./shapefiles/\" + i.lower() + \".shp\")\n",
    "\n",
    "# load the shapefiles from cropping\n",
    "colombia_shp = './shapefiles/colombia.shp'\n",
    "belize_shp = './shapefiles/belize.shp'"
   ]
  },
  {
   "cell_type": "markdown",
   "metadata": {},
   "source": [
    "For fetching raster from Hansen"
   ]
  },
  {
   "cell_type": "code",
   "execution_count": 3,
   "metadata": {},
   "outputs": [],
   "source": [
    "# Fetch hansen datasets\n",
    "def fetch_raster(list_url, country_name):\n",
    "    ''' Fetcht the rasters by from a list url, download it and \n",
    "    subset 2 rasters:\n",
    "    - url : raster dataset url from Hansen\n",
    "    - country_name: to keep separated folders by country name'''\n",
    "\n",
    "    # main_folder\n",
    "    current_folder = os.getcwd()\n",
    "    new_folder = str(country_name)\n",
    "    \n",
    "    # arrangements\n",
    "    path = os.path.join(current_folder, new_folder)\n",
    "    if os.path.isdir(path) == False:\n",
    "        os.mkdir(path) # create folder\n",
    "        \n",
    "    os.chdir(path) # move to folder\n",
    "\n",
    "    # Fetching geotif form Hansen\n",
    "    for url in list_url:\n",
    "        fetching_url = f'! wget {url} -q'\n",
    "        if os.path.exists(url.rsplit('/')[-1]) == False:\n",
    "            os.system(fetching_url)\n",
    "\n",
    "    # print the outcome\n",
    "    print(\"================================================================================\")\n",
    "    print('%2d raster files downloaded in folder: %s.' %(len(list_url), new_folder))\n",
    "\n",
    "    # return to working directory\n",
    "    os.chdir(current_folder)\n",
    "\n",
    "    print(\"================================================================================\")"
   ]
  },
  {
   "cell_type": "markdown",
   "metadata": {},
   "source": [
    "Clip raster using shapefile as borderline"
   ]
  },
  {
   "cell_type": "code",
   "execution_count": 4,
   "metadata": {},
   "outputs": [],
   "source": [
    "# Function to clip and save rasters\n",
    "def clip_raster(merged_raster, inshp, country_name, raster_type):\n",
    "    ''' Get a clipped raster from the Worldclim data for specified countries:\n",
    "    - merged_raster : geotiff merged under the country borderline\n",
    "    - inshp : path clipped shapefile with the name of the country\n",
    "    - country_name: country name of the raster/folder for clipped outraster \n",
    "    '''\n",
    "\n",
    "    path = os.path.join(os.getcwd(), 'hansen_' + country_name)\n",
    "    if os.path.isdir(path) == False:\n",
    "        os.mkdir(path) # create folder\n",
    "\n",
    "    outraster = path + '/' + str(country_name) + '_' + str(raster_type) + '.tif'\n",
    "    dsClip = gdal.Warp(outraster, merged_raster, cutlineDSName=inshp, cropToCutline=True, dstNodata=np.nan)\n",
    "  \n",
    "    # print the results\n",
    "    print('%s clipped raster succesfully stored at the folder: hansen_%s.' %(raster_type, country_name))\n",
    "    dsClip= None\n",
    "    print(\"================================================================================\")"
   ]
  },
  {
   "cell_type": "markdown",
   "metadata": {},
   "source": [
    "Merge and clip raster"
   ]
  },
  {
   "cell_type": "code",
   "execution_count": 7,
   "metadata": {},
   "outputs": [],
   "source": [
    "def merge_clip(country_name, country_shp, raster_type):\n",
    "    ''' merge_clip recieve a country_name folder, merge the raster inside and clipped based on\n",
    "    another country_shp shapefile path, finally create a folder with country_name with\n",
    "    a hanse_ prefix and store the clipped data.\n",
    "    \n",
    "    :params country_name: string country name in lowercase\n",
    "    :params country_shp: borderline shapefile path\n",
    "    :params raster_type: string raster type downloaded\n",
    "\n",
    "    :returns: a message with the path of the stored clipped raster\n",
    "    '''\n",
    "    \n",
    "    # Getting path\n",
    "    path = os.path.join(os.getcwd(), country_name)\n",
    "\n",
    "    # Read the data\n",
    "    files = glob.glob(os.path.join(path, '*tif')) # colect all the files in folder \"country_name\"\n",
    "\n",
    "    # Merging the rasters\n",
    "    inputs = ' '.join(files)\n",
    "    output = os.path.join(path,  country_name + '-merged.tif')\n",
    "\n",
    "    # Command\n",
    "    command = \"gdal_merge.py %s -o %s\" % (inputs, output)\n",
    "\n",
    "    # Run the command\n",
    "    print(\"Running gdal wrap:\\n\")\n",
    "    os.system(command) # 0 execute a succesful merge\n",
    "    print(\"================================================================================\")\n",
    "\n",
    "    # Clipping the rasters\n",
    "    print(\"Running gdal clipped\")\n",
    "    clip_raster(gdal.Open(output), country_shp, country_name, raster_type)\n",
    "\n",
    "    # removing the folder\n",
    "    command_remove = \"rm -r %s\" %(path)\n",
    "    print(\"%s folder removed\" %(country_name))\n",
    "    os.system(command_remove)\n",
    "    print(\"================================================================================\")"
   ]
  },
  {
   "cell_type": "markdown",
   "metadata": {},
   "source": [
    "# **TREE COVER**"
   ]
  },
  {
   "cell_type": "markdown",
   "metadata": {},
   "source": [
    "## **Tree cover in Colombia**"
   ]
  },
  {
   "cell_type": "code",
   "execution_count": 6,
   "metadata": {},
   "outputs": [
    {
     "name": "stdout",
     "output_type": "stream",
     "text": [
      "================================================================================\n",
      " 6 raster files downloaded in folder: colombia.\n",
      "================================================================================\n",
      "Running gdal wrap:\n",
      "\n",
      "0...10...20...30...40...50...60...70...80...90...100 - done.\n",
      "================================================================================\n",
      "Running gdal clipped\n"
     ]
    },
    {
     "name": "stderr",
     "output_type": "stream",
     "text": [
      "Warning 1: for band 1, destination nodata value has been rounded to 0, Byte being an integer datatype.\n"
     ]
    },
    {
     "name": "stdout",
     "output_type": "stream",
     "text": [
      "treecover clipped raster succesfully stored at the folder: hansen_colombia.\n",
      "================================================================================\n",
      "================================================================================\n",
      "colombia folder removed\n"
     ]
    }
   ],
   "source": [
    "# Colombia treecover data\n",
    "colombia_treecover = [\n",
    "    'https://storage.googleapis.com/earthenginepartners-hansen/GFC-2019-v1.7/Hansen_GFC-2019-v1.7_treecover2000_10N_080W.tif',\n",
    "    'https://storage.googleapis.com/earthenginepartners-hansen/GFC-2019-v1.7/Hansen_GFC-2019-v1.7_treecover2000_20N_080W.tif',\n",
    "    'https://storage.googleapis.com/earthenginepartners-hansen/GFC-2019-v1.7/Hansen_GFC-2019-v1.7_treecover2000_10N_070W.tif',\n",
    "    'https://storage.googleapis.com/earthenginepartners-hansen/GFC-2019-v1.7/Hansen_GFC-2019-v1.7_treecover2000_00N_080W.tif',\n",
    "    'https://storage.googleapis.com/earthenginepartners-hansen/GFC-2019-v1.7/Hansen_GFC-2019-v1.7_treecover2000_00N_070W.tif',\n",
    "    'https://storage.googleapis.com/earthenginepartners-hansen/GFC-2019-v1.7/Hansen_GFC-2019-v1.7_treecover2000_20N_070W.tif'\n",
    "    ]\n",
    "\n",
    "# Fetching datasets\n",
    "fetch_raster(colombia_treecover, 'colombia')\n",
    "\n",
    "# Merge and clip raster\n",
    "merge_clip('colombia', colombia_shp, 'treecover')"
   ]
  },
  {
   "cell_type": "markdown",
   "metadata": {},
   "source": [
    "### **Tree cover in Belize**"
   ]
  },
  {
   "cell_type": "code",
   "execution_count": 8,
   "metadata": {},
   "outputs": [
    {
     "name": "stdout",
     "output_type": "stream",
     "text": [
      "================================================================================\n",
      " 1 raster files downloaded in folder: belize.\n",
      "================================================================================\n",
      "Running gdal wrap:\n",
      "\n",
      "0...10...20...30...40...50...60...70...80...90...100 - done.\n",
      "================================================================================\n",
      "Running gdal clipped\n"
     ]
    },
    {
     "name": "stderr",
     "output_type": "stream",
     "text": [
      "Warning 1: for band 1, destination nodata value has been rounded to 0, Byte being an integer datatype.\n"
     ]
    },
    {
     "name": "stdout",
     "output_type": "stream",
     "text": [
      "treecover clipped raster succesfully stored at the folder: hansen_belize.\n",
      "================================================================================\n",
      "belize folder removed\n",
      "================================================================================\n"
     ]
    }
   ],
   "source": [
    "# Belize treecover data\n",
    "belize_treecover = ['https://storage.googleapis.com/earthenginepartners-hansen/GFC-2019-v1.7/Hansen_GFC-2019-v1.7_treecover2000_20N_090W.tif']\n",
    "\n",
    "# Fetching datasets\n",
    "fetch_raster(belize_treecover, 'belize')\n",
    "\n",
    "# Merge and clip raster\n",
    "merge_clip('belize', belize_shp, 'treecover')"
   ]
  },
  {
   "cell_type": "markdown",
   "metadata": {},
   "source": [
    "In case a review is necessary:"
   ]
  },
  {
   "cell_type": "code",
   "execution_count": null,
   "metadata": {},
   "outputs": [],
   "source": [
    "# # Read the data\n",
    "# files = glob.glob(os.path.join(path, '*tif')) # list of files in folder\n",
    "# names = [i[i.rfind('treecover2000'):].rsplit('.')[0] for i in files] # name for read data\n",
    "# colombia =#  list(zip(names, [gdal.Open(f) for f in files]))\n",
    "\n",
    "# # Review\n",
    "# for i in colombia:\n",
    "#     name, raster = i\n",
    "#     print('File: ', name)\n",
    "\n",
    "#     # Projection and Raster Metadata\n",
    "#     # print(raster.GetProjection(), raster.GetMetadata())\n",
    "\n",
    "#     # Dimensions X, Y and Number of bands\n",
    "#     print(raster.RasterXSize, raster.RasterYSize, raster.RasterCount)\n",
    "#     print()\n",
    "\n",
    "# Projection and Raster Metadata\n",
    "# print(merged.GetProjection(), merged.GetMetadata())\n",
    "\n",
    "# Dimensions X, Y and Number of bands\n",
    "# print(merged.RasterXSize, merged.RasterYSize, merged.RasterCount)\n",
    "# print()"
   ]
  }
 ],
 "metadata": {
  "interpreter": {
   "hash": "06f6d2efd1c6a7a188f79439f0061040f240d96648f311599942e31120a4a15e"
  },
  "kernelspec": {
   "display_name": "Python 3.10.1 64-bit ('python-gis': conda)",
   "language": "python",
   "name": "python3"
  },
  "language_info": {
   "codemirror_mode": {
    "name": "ipython",
    "version": 3
   },
   "file_extension": ".py",
   "mimetype": "text/x-python",
   "name": "python",
   "nbconvert_exporter": "python",
   "pygments_lexer": "ipython3",
   "version": "3.10.1"
  },
  "orig_nbformat": 4
 },
 "nbformat": 4,
 "nbformat_minor": 2
}
