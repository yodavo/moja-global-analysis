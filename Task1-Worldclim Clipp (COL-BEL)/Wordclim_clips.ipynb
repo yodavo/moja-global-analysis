{
  "cells": [
    {
      "cell_type": "code",
      "execution_count": 1,
      "metadata": {
        "id": "TTOAbJY_0Ndq"
      },
      "outputs": [],
      "source": [
        "# Install GDAL and Geopandas\n",
        "# !pip install geopandas -q\n",
        "# !pip install descartes -q\n",
        "\n",
        "# for rasters\n",
        "# !pip install georasters -q"
      ]
    },
    {
      "cell_type": "code",
      "execution_count": 2,
      "metadata": {
        "id": "zteKuzJC07O-"
      },
      "outputs": [],
      "source": [
        "# for download and decompress the dataset\n",
        "import os, zipfile, glob, io, requests\n",
        "\n",
        "# control\n",
        "import numpy as np\n",
        "\n",
        "import pandas as pd\n",
        "import geopandas as gpd\n",
        "from osgeo import gdal\n",
        "import georasters as gr\n",
        "\n",
        "#plotting\n",
        "import matplotlib.pyplot as plt\n"
      ]
    },
    {
      "cell_type": "markdown",
      "metadata": {
        "id": "_CrbgNOEFPla"
      },
      "source": [
        "# **Arangements**"
      ]
    },
    {
      "cell_type": "code",
      "execution_count": 3,
      "metadata": {
        "colab": {
          "base_uri": "https://localhost:8080/"
        },
        "id": "V8MwmE4aEZv_",
        "outputId": "22e25711-96c7-4136-dc7b-e0ff9ae181f7"
      },
      "outputs": [
        {
          "name": "stdout",
          "output_type": "stream",
          "text": [
            "mkdir: cannot create directory ‘clip_shapefiles’: File exists\n",
            "mkdir: cannot create directory ‘outcomes’: File exists\n"
          ]
        }
      ],
      "source": [
        "# creating folder to store information\n",
        "%mkdir clip_shapefiles\n",
        "%mkdir outcomes"
      ]
    },
    {
      "cell_type": "markdown",
      "metadata": {},
      "source": [
        "### Function: to fetch and create a list of raster"
      ]
    },
    {
      "cell_type": "code",
      "execution_count": 4,
      "metadata": {
        "id": "1jiY91XWJlPI"
      },
      "outputs": [],
      "source": [
        "# Function to clip and save rasters\n",
        "def clip_raster(list_raster, inshp, wordclim_dataset):\n",
        "  ''' Get a clipped raster from the Worldclim data for specified countries:\n",
        "  - list_raster : geotiff fetched from Worldclim\n",
        "  - inshp : path clipped shapefile with the name of the country\n",
        "  - wordclim_dataset: name of the dataset for outraster file name '''\n",
        "  for i in list_raster:\n",
        "    name, raster = i\n",
        "    outraster = './outcomes/' + str(wordclim_dataset) + '_' + str.upper(name) + '.tif'\n",
        "    dsClip = gdal.Warp(outraster, raster, cutlineDSName=inshp, cropToCutline=True, dstNodata=np.nan)\n",
        "  \n",
        "  # print the results\n",
        "  print('%2d Rasters were clipped and stored as %s.' %(len(list_raster), wordclim_dataset))"
      ]
    },
    {
      "cell_type": "markdown",
      "metadata": {},
      "source": [
        "### Function: to clip a list rasters"
      ]
    },
    {
      "cell_type": "code",
      "execution_count": 5,
      "metadata": {},
      "outputs": [],
      "source": [
        "# Function to clip rasters\n",
        "def list_rasters(url):\n",
        "    ''' Fetcht the raster datasets by url, download it and \n",
        "    subset 2 rasters:\n",
        "    - url : raster dataset url from Worldclim'''\n",
        "\n",
        "    # Fetching geotif form worldclim\n",
        "    fetching_url = f'! wget {url} -q'\n",
        "    os.system(fetching_url)\n",
        "\n",
        "    # Extracting the data\n",
        "    zip_name = url.rsplit('/')[-1]\n",
        "    with zipfile.ZipFile(zip_name, 'r') as temp:\n",
        "        temp.extractall('temp_folder')\n",
        "\n",
        "    # removing zip folder\n",
        "    folder = f'rm {zip_name}'\n",
        "    os.system(folder)\n",
        "\n",
        "    # path to the folder\n",
        "    files = glob.glob(os.path.join('./temp_folder', '*tif'))\n",
        "    files.sort(key=lambda x:int(x[x.rfind('_')+1:-4]))\n",
        "\n",
        "    ###### list of tiff files ######\n",
        "    # Chosing BIO1 = Annual Mean Temperature (files[0])\n",
        "    # Chosing BIO12 = Annual Precipitation (files[11])\n",
        "    subset = files[0], files[11]\n",
        "\n",
        "    # Rename and arrange the information\n",
        "    names = ['BIO'+ i[i.rfind('_')+1:-4] for i in subset]\n",
        "\n",
        "    # merging all the metadata\n",
        "    list_raster = list(zip(names, [gdal.Open(f) for f in subset]))\n",
        "    list_raster.sort(key=lambda x:int(x[0][3:]))\n",
        "\n",
        "    # removing folder\n",
        "    os.system(f'rm -r temp_folder')\n",
        "\n",
        "    # print the results\n",
        "    print('The list contains %2d raster files.' %(len(list_raster)))\n",
        "\n",
        "    return list_raster"
      ]
    },
    {
      "cell_type": "markdown",
      "metadata": {
        "id": "rQJT88WU1rZ8"
      },
      "source": [
        "# **Belize and Colombi Shapefiles boundaries**"
      ]
    },
    {
      "cell_type": "code",
      "execution_count": 6,
      "metadata": {
        "id": "-UMzAgTH1E0c"
      },
      "outputs": [],
      "source": [
        "# importing the data\n",
        "world_df = gpd.read_file(gpd.datasets.get_path('naturalearth_lowres'))\n",
        "\n",
        "# subseting columns\n",
        "world_df = world_df[['continent','name', 'iso_a3','geometry']]\n",
        "\n",
        "# croppping boundaries and save shapefiles\n",
        "for i in ['Colombia', 'Belize']:\n",
        "    temp = world_df.loc[world_df.name == i, ].reset_index(drop=True)\n",
        "    temp.to_file(\"./clip_shapefiles/\" + i.lower() + \".shp\")\n",
        "\n",
        "# load the shapefiles from cropping\n",
        "colombia = './clip_shapefiles/colombia.shp'\n",
        "belize = './clip_shapefiles/belize.shp'"
      ]
    },
    {
      "cell_type": "markdown",
      "metadata": {
        "id": "ravDHRgLStu2"
      },
      "source": [
        "# **Getting clipped tiffs**"
      ]
    },
    {
      "cell_type": "code",
      "execution_count": 7,
      "metadata": {
        "colab": {
          "base_uri": "https://localhost:8080/"
        },
        "id": "ctkSJ-uH1Suv",
        "outputId": "2b6beeee-96a9-4180-e7d9-bbe7083c1d4b"
      },
      "outputs": [],
      "source": [
        "data_url = {'worldclim10m' : 'https://biogeo.ucdavis.edu/data/worldclim/v2.1/base/wc2.1_10m_bio.zip',\n",
        "            'worldclim5m' : 'https://biogeo.ucdavis.edu/data/worldclim/v2.1/base/wc2.1_5m_bio.zip',\n",
        "            'worldclim2_5m' : 'https://biogeo.ucdavis.edu/data/worldclim/v2.1/base/wc2.1_2.5m_bio.zip',\n",
        "            'worldclim30s' : 'https://biogeo.ucdavis.edu/data/worldclim/v2.1/base/wc2.1_30s_bio.zip'}"
      ]
    },
    {
      "cell_type": "markdown",
      "metadata": {
        "id": "WrXLxZYe26gG"
      },
      "source": [
        "## **1. Wordclim 10m**"
      ]
    },
    {
      "cell_type": "code",
      "execution_count": 8,
      "metadata": {
        "id": "E62cMeFLBIIJ"
      },
      "outputs": [
        {
          "name": "stdout",
          "output_type": "stream",
          "text": [
            "The list contains  2 raster files.\n",
            " 2 Rasters were clipped and stored as Colombia-BioClim10.\n",
            " 2 Rasters were clipped and stored as Belize-BioClim10.\n"
          ]
        }
      ],
      "source": [
        "# fetching and subsetting rasters\n",
        "tiff_bioclim10 = list_rasters(data_url['worldclim10m'])\n",
        "\n",
        "# Colombia\n",
        "clip_raster(tiff_bioclim10, colombia, 'Colombia-BioClim10')\n",
        "\n",
        "# Belize\n",
        "clip_raster(tiff_bioclim10, belize, 'Belize-BioClim10')"
      ]
    },
    {
      "cell_type": "markdown",
      "metadata": {
        "id": "tl2v86UeLghP"
      },
      "source": [
        "## **2. Wordclim 5m**"
      ]
    },
    {
      "cell_type": "code",
      "execution_count": 9,
      "metadata": {
        "id": "Kb5fZMruMH0Y"
      },
      "outputs": [
        {
          "name": "stdout",
          "output_type": "stream",
          "text": [
            "The list contains  2 raster files.\n",
            " 2 Rasters were clipped and stored as Colombia-BioClim5.\n",
            " 2 Rasters were clipped and stored as Belize-BioClim5.\n"
          ]
        }
      ],
      "source": [
        "# fetching and subsetting rasters\n",
        "tiff_bioclim5 = list_rasters(data_url['worldclim5m'])\n",
        "\n",
        "# Colombia\n",
        "clip_raster(tiff_bioclim5, colombia, 'Colombia-BioClim5')\n",
        "\n",
        "# Belize\n",
        "clip_raster(tiff_bioclim5, belize, 'Belize-BioClim5')"
      ]
    },
    {
      "cell_type": "markdown",
      "metadata": {
        "id": "TnoDnfF4NmQo"
      },
      "source": [
        "## **3. Wordclim 2.5m**"
      ]
    },
    {
      "cell_type": "code",
      "execution_count": 10,
      "metadata": {
        "id": "2pzfglf9OO8B"
      },
      "outputs": [
        {
          "name": "stdout",
          "output_type": "stream",
          "text": [
            "The list contains  2 raster files.\n",
            " 2 Rasters were clipped and stored as Colombia-BioClim2_5.\n",
            " 2 Rasters were clipped and stored as Belize-BioClim2_5.\n"
          ]
        }
      ],
      "source": [
        "# fetching and subsetting rasters\n",
        "tiff_bioclim2_5 = list_rasters(data_url['worldclim2_5m'])\n",
        "\n",
        "# Colombia\n",
        "clip_raster(tiff_bioclim2_5, colombia, 'Colombia-BioClim2_5')\n",
        "\n",
        "# Belize\n",
        "clip_raster(tiff_bioclim2_5, belize, 'Belize-BioClim2_5')"
      ]
    },
    {
      "cell_type": "markdown",
      "metadata": {
        "id": "SzP9nJ5YOYuE"
      },
      "source": [
        "\n",
        "\n",
        "---\n",
        "\n"
      ]
    },
    {
      "cell_type": "markdown",
      "metadata": {
        "id": "ecSd9VtyOc-6"
      },
      "source": [
        "## **4. Wordclim 30s** (9 gb, could take a bunch of time)"
      ]
    },
    {
      "cell_type": "code",
      "execution_count": 11,
      "metadata": {
        "id": "13ZEEPkGO44C"
      },
      "outputs": [
        {
          "name": "stdout",
          "output_type": "stream",
          "text": [
            "The list contains  2 raster files.\n",
            " 2 Rasters were clipped and stored as Colombia-BioClim30s.\n",
            " 2 Rasters were clipped and stored as Belize-BioClim30s.\n"
          ]
        }
      ],
      "source": [
        "# fetching and subsetting rasters\n",
        "tiff_bioclim30s = list_rasters(data_url['worldclim30s'])\n",
        "\n",
        "# Colombia\n",
        "clip_raster(tiff_bioclim30s, colombia, 'Colombia-BioClim30s')\n",
        "\n",
        "# Belize\n",
        "clip_raster(tiff_bioclim30s, belize, 'Belize-BioClim30s')"
      ]
    },
    {
      "cell_type": "markdown",
      "metadata": {
        "id": "c-PnJVktQ-LT"
      },
      "source": [
        "## **5. Exporting clips for GDrive**"
      ]
    },
    {
      "cell_type": "code",
      "execution_count": 14,
      "metadata": {
        "colab": {
          "base_uri": "https://localhost:8080/"
        },
        "id": "v7cJHzVnRIzM",
        "outputId": "9e3e13e1-3887-448f-e42d-3be6b0c046b4"
      },
      "outputs": [
        {
          "name": "stdout",
          "output_type": "stream",
          "text": [
            "  adding: clip_shapefiles/ (stored 0%)\n",
            "  adding: clip_shapefiles/belize.prj (deflated 17%)\n",
            "  adding: clip_shapefiles/colombia.shp (deflated 8%)\n",
            "  adding: clip_shapefiles/colombia.prj (deflated 17%)\n",
            "  adding: clip_shapefiles/colombia.dbf (deflated 77%)\n",
            "  adding: clip_shapefiles/belize.shx (deflated 46%)\n",
            "  adding: clip_shapefiles/belize.dbf (deflated 77%)\n",
            "  adding: clip_shapefiles/belize.shp (deflated 27%)\n",
            "  adding: clip_shapefiles/belize.cpg (stored 0%)\n",
            "  adding: clip_shapefiles/colombia.cpg (stored 0%)\n",
            "  adding: clip_shapefiles/colombia.shx (deflated 45%)\n",
            "  adding: outcomes/ (stored 0%)\n",
            "  adding: outcomes/Belize-BioClim30s_BIO12.tif (deflated 78%)\n",
            "  adding: outcomes/Colombia-BioClim2_5_BIO1.tif (deflated 65%)\n",
            "  adding: outcomes/Colombia-BioClim5_BIO12.tif (deflated 75%)\n",
            "  adding: outcomes/Colombia-BioClim10_BIO1.tif (deflated 58%)\n",
            "  adding: outcomes/Belize-BioClim10_BIO12.tif (deflated 43%)\n",
            "  adding: outcomes/Colombia-BioClim30s_BIO1.tif (deflated 79%)\n",
            "  adding: outcomes/Belize-BioClim5_BIO1.tif (deflated 35%)\n",
            "  adding: outcomes/Belize-BioClim2_5_BIO12.tif (deflated 63%)\n",
            "  adding: outcomes/Belize-BioClim10_BIO1.tif (deflated 32%)\n",
            "  adding: outcomes/Colombia-BioClim30s_BIO12.tif (deflated 79%)\n",
            "  adding: outcomes/Belize-BioClim30s_BIO1.tif (deflated 73%)\n",
            "  adding: outcomes/Colombia-BioClim10_BIO12.tif (deflated 72%)\n",
            "  adding: outcomes/Belize-BioClim2_5_BIO1.tif (deflated 45%)\n",
            "  adding: outcomes/Colombia-BioClim2_5_BIO12.tif (deflated 77%)\n",
            "  adding: outcomes/Belize-BioClim5_BIO12.tif (deflated 52%)\n",
            "  adding: outcomes/Colombia-BioClim5_BIO1.tif (deflated 61%)\n"
          ]
        }
      ],
      "source": [
        "# compressing the data in zip files\n",
        "!zip -r clip_shapefilesc.zip clip_shapefiles/\n",
        "!zip -r clip_tiffWorldclim.zip outcomes/"
      ]
    }
  ],
  "metadata": {
    "accelerator": "GPU",
    "colab": {
      "authorship_tag": "ABX9TyMkaE/pUUpPrRKuTLS8z/DZ",
      "include_colab_link": true,
      "name": "Wordclim-clips.ipynb",
      "provenance": []
    },
    "kernelspec": {
      "display_name": "Python 3",
      "name": "python3"
    },
    "language_info": {
      "codemirror_mode": {
        "name": "ipython",
        "version": 3
      },
      "file_extension": ".py",
      "mimetype": "text/x-python",
      "name": "python",
      "nbconvert_exporter": "python",
      "pygments_lexer": "ipython3",
      "version": "3.10.1"
    }
  },
  "nbformat": 4,
  "nbformat_minor": 0
}
