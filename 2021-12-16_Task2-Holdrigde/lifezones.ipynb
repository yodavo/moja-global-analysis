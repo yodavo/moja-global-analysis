{
  "cells": [
    {
      "cell_type": "markdown",
      "metadata": {
        "colab_type": "text",
        "id": "view-in-github"
      },
      "source": [
        "<a href=\"https://colab.research.google.com/github/yodavo/moja-global-analysis/blob/main/2021-12-16_Task2-Holdrigde/lifezones.ipynb\" target=\"_parent\"><img src=\"https://colab.research.google.com/assets/colab-badge.svg\" alt=\"Open In Colab\"/></a>"
      ]
    },
    {
      "cell_type": "code",
      "execution_count": 2,
      "metadata": {},
      "outputs": [
        {
          "name": "stdout",
          "output_type": "stream",
          "text": [
            "/home/davo/Code/moja-global-analysis/2021-12-16_Task2-Holdrigde\n"
          ]
        }
      ],
      "source": [
        "# load requirements\n",
        "%cd /home/davo/Code/moja-global-analysis/2021-12-16_Task2-Holdrigde"
      ]
    },
    {
      "cell_type": "code",
      "execution_count": 7,
      "metadata": {
        "id": "9ZgWt8H1G6nP"
      },
      "outputs": [],
      "source": [
        "import os, zipfile, glob\n",
        "import rasterio\n",
        "from osgeo import gdal\n",
        "import geopandas as gpd\n",
        "import pandas as pd\n",
        "import rasterstats\n",
        "import numpy as np\n",
        "from rasterio.plot import show\n",
        "from rasterio.plot import show_hist\n",
        "from matplotlib import pyplot as plt\n",
        "from shapely.geometry import Point\n",
        "from matplotlib import pyplot\n",
        "import georasters as gr"
      ]
    },
    {
      "cell_type": "code",
      "execution_count": 3,
      "metadata": {
        "id": "V8MwmE4aEZv_"
      },
      "outputs": [],
      "source": [
        "# creating folder to store information\n",
        "# %mkdir clip_shapefiles\n",
        "# %mkdir outcomes\n",
        "# %mkdir lifezones"
      ]
    },
    {
      "cell_type": "markdown",
      "metadata": {
        "id": "BEGH6bI-2L9c"
      },
      "source": [
        "# **Clipping**"
      ]
    },
    {
      "cell_type": "code",
      "execution_count": 23,
      "metadata": {
        "id": "1jiY91XWJlPI"
      },
      "outputs": [],
      "source": [
        "# Function to clip rasters\n",
        "def clip_raster(list_raster, inshp, wordclim_dataset):\n",
        "  ''' Get a clipped raster from the Worldclim data for specified countries:\n",
        "  - list_raster : geotiff fetched from Worldclim\n",
        "  - inshp : path clipped shapefile with the name of the country\n",
        "  - wordclim_dataset: name of the dataset for outraster file name '''\n",
        "  for i in list_raster:\n",
        "    name, raster = i\n",
        "    outraster = './outcomes/' + str(wordclim_dataset) + '_' + str.upper(name) + '.tif'\n",
        "    dsClip = gdal.Warp(outraster, raster, cutlineDSName=inshp, cropToCutline=True, dstNodata=-999)\n",
        "    \n",
        "    # visualization\n",
        "    # plt.imshow(dsClip.GetRasterBand(1).ReadAsArray())\n",
        "    # plt.colorbar()\n",
        "    # plt.title(str.capitalize(wordclim_dataset) + ' - ' + str.upper(name))"
      ]
    },
    {
      "cell_type": "markdown",
      "metadata": {
        "id": "iBL-kjrTRR07"
      },
      "source": [
        "# **Boundaries**"
      ]
    },
    {
      "cell_type": "code",
      "execution_count": 19,
      "metadata": {
        "id": "eSdS_ci7ROVN"
      },
      "outputs": [],
      "source": [
        "# importing the data\n",
        "world_df = gpd.read_file(gpd.datasets.get_path('naturalearth_lowres'))\n",
        "\n",
        "# subseting\n",
        "world_df = world_df[['continent','name', 'iso_a3','geometry']]\n",
        "\n",
        "# croppping boundaries\n",
        "colombia_bd = world_df.loc[world_df.name == 'Colombia', ].reset_index(drop=True)\n",
        "colombia_bd.to_file(\"./clip_shapefiles/colombia.shp\")\n",
        "belize_bd = world_df.loc[world_df.name == 'Belize', ].reset_index(drop=True)\n",
        "belize_bd.to_file(\"./clip_shapefiles/belize.shp\")\n",
        "\n",
        "# path to shapefiles\n",
        "colombia = './clip_shapefiles/colombia.shp'\n",
        "belize = './clip_shapefiles/belize.shp'"
      ]
    },
    {
      "cell_type": "markdown",
      "metadata": {
        "id": "JHPYYoHKksD0"
      },
      "source": [
        "# **Fetching Elevation 2.5m**"
      ]
    },
    {
      "cell_type": "code",
      "execution_count": 24,
      "metadata": {
        "colab": {
          "base_uri": "https://localhost:8080/"
        },
        "id": "kJUWgtJJ2wNO",
        "outputId": "91e9d0bf-7b1b-460d-c50f-725f6d211fe1"
      },
      "outputs": [
        {
          "name": "stdout",
          "output_type": "stream",
          "text": [
            "wc2.1_2.5m_elev.zip 100%[===================>]  16.75M  5.94MB/s    in 2.8s    \n"
          ]
        }
      ],
      "source": [
        "# fetching elevation geotif form worldclim 2.5m\n",
        "! wget https://biogeo.ucdavis.edu/data/worldclim/v2.1/base/wc2.1_2.5m_elev.zip -q --show-progress\n",
        "with zipfile.ZipFile('wc2.1_2.5m_elev.zip', 'r') as tempm:\n",
        "  tempm.extractall(\"temp\")\n",
        "\n",
        "# path to the folder\n",
        "files = glob.glob(os.path.join('./temp', '*tif'))\n",
        "\n",
        "####################### tiff file #################################\n",
        "# Rename and arrange the information\n",
        "name = files[0][files[0].rfind('/')+1 : files[0].rfind('.')]\n",
        "\n",
        "# merging all the metadata\n",
        "tiff_dem2_5 = [(name, gdal.Open(files[0]))]\n",
        "\n",
        "############################ Clippping maps #################################\n",
        "# Colombia\n",
        "clip_raster(tiff_dem2_5, colombia, 'Colombia')\n",
        "\n",
        "# Belize\n",
        "clip_raster(tiff_dem2_5, belize, 'Belize')\n",
        "\n",
        "##################### Removing Cache ################################\n",
        "%rm \"wc2.1_2.5m_elev.zip\"\n",
        "%rm -r \"temp\""
      ]
    },
    {
      "cell_type": "markdown",
      "metadata": {
        "id": "oyOsQYcvk2NL"
      },
      "source": [
        "# **Fetching Elevation 30s**"
      ]
    },
    {
      "cell_type": "code",
      "execution_count": 25,
      "metadata": {
        "colab": {
          "base_uri": "https://localhost:8080/"
        },
        "id": "VHD05JcsQTIf",
        "outputId": "8644bfbd-89b6-4537-e881-8eb7260c39f8"
      },
      "outputs": [
        {
          "name": "stdout",
          "output_type": "stream",
          "text": [
            "wc2.1_30s_elev.zip  100%[===================>] 322.52M  2.12MB/s    in 1m 57s  \n"
          ]
        }
      ],
      "source": [
        "# fetching elevation geotif form worldclim 30s\n",
        "! wget https://biogeo.ucdavis.edu/data/worldclim/v2.1/base/wc2.1_30s_elev.zip -q --show-progress\n",
        "with zipfile.ZipFile('wc2.1_30s_elev.zip', 'r') as tempm:\n",
        "  tempm.extractall(\"temp\")\n",
        "\n",
        "# path to the folder\n",
        "files = glob.glob(os.path.join('./temp', '*tif'))\n",
        "\n",
        "####################### tiff file #################################\n",
        "# Rename and arrange the information\n",
        "name = files[0][files[0].rfind('/')+1 : files[0].rfind('.')]\n",
        "\n",
        "# merging all the metadata\n",
        "tiff_dem30 = [(name, gdal.Open(files[0]))]\n",
        "\n",
        "############################ Clippping maps #################################\n",
        "# Colombia\n",
        "clip_raster(tiff_dem30, colombia, 'Colombia')\n",
        "\n",
        "# Belize\n",
        "clip_raster(tiff_dem30, belize, 'Belize')\n",
        "\n",
        "##################### Removing Cache ################################\n",
        "%rm \"wc2.1_30s_elev.zip\"\n",
        "%rm -r \"temp\""
      ]
    },
    {
      "cell_type": "markdown",
      "metadata": {
        "id": "WkfZ94rKTb1Z"
      },
      "source": [
        "# **Elevation list** `elev_colombia` - `elev_belize`"
      ]
    },
    {
      "cell_type": "code",
      "execution_count": 26,
      "metadata": {
        "id": "1LaFDVyele0B"
      },
      "outputs": [],
      "source": [
        "############### Elevation information ################################\n",
        "# path to the folder\n",
        "eleva = glob.glob(os.path.join('./outcomes', '*tif'))\n",
        "\n",
        "###### list of tiff files ######\n",
        "# Rename and arrange the information\n",
        "eleva_names = [i[i.rfind('/')+1:-4] for i in eleva]\n",
        "eleva_names.sort()\n",
        "\n",
        "##################### elevations #########################################\n",
        "# Separate datasets (this is pretty redundant)\n",
        "elev_Belize, elev_Colombia = [i for i in eleva_names if i.startswith('Belize')], [i for i in eleva_names if i.startswith('Colombia')]\n",
        "\n",
        "# reading the data\n",
        "pathe, exte = './outcomes/', '.tif'\n",
        "\n",
        "# importing and handling\n",
        "elev_belize = []\n",
        "for i in elev_Belize:\n",
        "  name = i\n",
        "  ds = rasterio.open(pathe + i + exte, 'r')\n",
        "  data = ds.read()\n",
        "  max = np.nanmax(data)\n",
        "  min = np.nanmin(data)\n",
        "  elev_belize.append((name, ds, data, min, max))\n",
        "\n",
        "elev_colombia = []\n",
        "for i in elev_Colombia:\n",
        "  name = i\n",
        "  ds = rasterio.open(pathe + i + exte, 'r')\n",
        "  data = ds.read()\n",
        "  max = np.nanmax(data)\n",
        "  min = np.nanmin(data)\n",
        "  elev_colombia.append((name, ds, data, min, max))"
      ]
    },
    {
      "cell_type": "markdown",
      "metadata": {
        "id": "nsAmR_OgUDAz"
      },
      "source": [
        "# **Temperature** `amt_colombia` - `amt_belize`  **and Precipitation list** `tpa_colombia` - `tap_belize` "
      ]
    },
    {
      "cell_type": "markdown",
      "metadata": {
        "id": "q_C-4rnWXB3O"
      },
      "source": [
        "- **AMT** - BIO2 = Mean Diurnal Range (Mean of monthly (max temp - min temp))\n",
        "- **TPA** - BIO12 = Annual Precipitation\n",
        "\n"
      ]
    },
    {
      "cell_type": "code",
      "execution_count": 28,
      "metadata": {
        "id": "WtzoMidOPtzo"
      },
      "outputs": [
        {
          "ename": "FileNotFoundError",
          "evalue": "[Errno 2] No such file or directory: 'clip_tiffWorldclim[Colombia-Belize].zip'",
          "output_type": "error",
          "traceback": [
            "\u001b[0;31m---------------------------------------------------------------------------\u001b[0m",
            "\u001b[0;31mFileNotFoundError\u001b[0m                         Traceback (most recent call last)",
            "\u001b[0;32m/tmp/ipykernel_20487/1669079753.py\u001b[0m in \u001b[0;36m<module>\u001b[0;34m\u001b[0m\n\u001b[1;32m      4\u001b[0m \u001b[0;34m\u001b[0m\u001b[0m\n\u001b[1;32m      5\u001b[0m \u001b[0;31m# get the information in the zip file\u001b[0m\u001b[0;34m\u001b[0m\u001b[0;34m\u001b[0m\u001b[0m\n\u001b[0;32m----> 6\u001b[0;31m \u001b[0;32mwith\u001b[0m \u001b[0mzipfile\u001b[0m\u001b[0;34m.\u001b[0m\u001b[0mZipFile\u001b[0m\u001b[0;34m(\u001b[0m\u001b[0;34m'clip_tiffWorldclim[Colombia-Belize].zip'\u001b[0m\u001b[0;34m,\u001b[0m \u001b[0;34m'r'\u001b[0m\u001b[0;34m)\u001b[0m \u001b[0;32mas\u001b[0m \u001b[0mtemp\u001b[0m\u001b[0;34m:\u001b[0m\u001b[0;34m\u001b[0m\u001b[0;34m\u001b[0m\u001b[0m\n\u001b[0m\u001b[1;32m      7\u001b[0m   \u001b[0mtemp\u001b[0m\u001b[0;34m.\u001b[0m\u001b[0mextractall\u001b[0m\u001b[0;34m(\u001b[0m\u001b[0;34m\"rasters\"\u001b[0m\u001b[0;34m)\u001b[0m\u001b[0;34m\u001b[0m\u001b[0;34m\u001b[0m\u001b[0m\n\u001b[1;32m      8\u001b[0m \u001b[0;34m\u001b[0m\u001b[0m\n",
            "\u001b[0;32m~/miniconda3/envs/geoana/lib/python3.10/zipfile.py\u001b[0m in \u001b[0;36m__init__\u001b[0;34m(self, file, mode, compression, allowZip64, compresslevel, strict_timestamps)\u001b[0m\n\u001b[1;32m   1238\u001b[0m             \u001b[0;32mwhile\u001b[0m \u001b[0;32mTrue\u001b[0m\u001b[0;34m:\u001b[0m\u001b[0;34m\u001b[0m\u001b[0;34m\u001b[0m\u001b[0m\n\u001b[1;32m   1239\u001b[0m                 \u001b[0;32mtry\u001b[0m\u001b[0;34m:\u001b[0m\u001b[0;34m\u001b[0m\u001b[0;34m\u001b[0m\u001b[0m\n\u001b[0;32m-> 1240\u001b[0;31m                     \u001b[0mself\u001b[0m\u001b[0;34m.\u001b[0m\u001b[0mfp\u001b[0m \u001b[0;34m=\u001b[0m \u001b[0mio\u001b[0m\u001b[0;34m.\u001b[0m\u001b[0mopen\u001b[0m\u001b[0;34m(\u001b[0m\u001b[0mfile\u001b[0m\u001b[0;34m,\u001b[0m \u001b[0mfilemode\u001b[0m\u001b[0;34m)\u001b[0m\u001b[0;34m\u001b[0m\u001b[0;34m\u001b[0m\u001b[0m\n\u001b[0m\u001b[1;32m   1241\u001b[0m                 \u001b[0;32mexcept\u001b[0m \u001b[0mOSError\u001b[0m\u001b[0;34m:\u001b[0m\u001b[0;34m\u001b[0m\u001b[0;34m\u001b[0m\u001b[0m\n\u001b[1;32m   1242\u001b[0m                     \u001b[0;32mif\u001b[0m \u001b[0mfilemode\u001b[0m \u001b[0;32min\u001b[0m \u001b[0mmodeDict\u001b[0m\u001b[0;34m:\u001b[0m\u001b[0;34m\u001b[0m\u001b[0;34m\u001b[0m\u001b[0m\n",
            "\u001b[0;31mFileNotFoundError\u001b[0m: [Errno 2] No such file or directory: 'clip_tiffWorldclim[Colombia-Belize].zip'"
          ]
        }
      ],
      "source": [
        "#########################################################################\n",
        "#################### Manual retrival ####################################\n",
        "#########################################################################\n",
        "\n",
        "# get the information in the zip file\n",
        "with zipfile.ZipFile('clip_tiffWorldclim[Colombia-Belize].zip', 'r') as temp:\n",
        "  temp.extractall(\"rasters\")\n",
        "\n",
        "# path to the folder\n",
        "files = glob.glob(os.path.join('./rasters', '*tif'))\n",
        "\n",
        "###### list of tiff files ######\n",
        "# Rename and arrange the information\n",
        "names = [i[i.rfind('/')+1:-4] for i in files]\n",
        "\n",
        "# Separate datasets (this is pretty redundant)\n",
        "belize, colombia = [i for i in names if i.startswith('Belize')], [i for i in names if i.startswith('Colombia')]\n",
        "\n",
        "# It will work only on 2.5s and 30s maps(Columbia 15, Belize 13)\n",
        "Belize, Colombia = [i for i in belize if i[14:16] in ['30', '2_']], [i for i in colombia if i[16:18] in ['30', '2_']]"
      ]
    },
    {
      "cell_type": "code",
      "execution_count": 11,
      "metadata": {
        "id": "lI4AoTm_NRji"
      },
      "outputs": [],
      "source": [
        "##################### Rasters temperature ######################################\n",
        "# reading the data\n",
        "path, ext = '/content/rasters/', '.tif'\n",
        "\n",
        "# importing and handling\n",
        "amt_belize = []\n",
        "for i in Belize:\n",
        "  if i.endswith('BIO2'):\n",
        "    name = i\n",
        "    ds = rasterio.open(path + i + ext, 'r')\n",
        "    data = ds.read()\n",
        "    max = np.nanmax(data)\n",
        "    min = np.nanmin(data)\n",
        "    amt_belize.append((name, ds, data, min, max))\n",
        "  else:\n",
        "    next\n",
        "\n",
        "amt_colombia = []\n",
        "for i in Colombia:\n",
        "  if i.endswith('BIO2'):\n",
        "    name = i\n",
        "    ds = rasterio.open(path + i + ext, 'r')\n",
        "    data = ds.read()\n",
        "    max = np.nanmax(data)\n",
        "    min = np.nanmin(data)\n",
        "    amt_colombia.append((name, ds, data, min, max))\n",
        "  else:\n",
        "    next\n",
        "\n",
        "amt_belize.sort()\n",
        "amt_colombia.sort()"
      ]
    },
    {
      "cell_type": "code",
      "execution_count": 12,
      "metadata": {
        "id": "KfdGvjHeYje-"
      },
      "outputs": [],
      "source": [
        "##################### Rasters temperature ######################################\n",
        "# reading the data\n",
        "path, ext = '/content/rasters/', '.tif'\n",
        "\n",
        "# importing and handling\n",
        "tpa_belize = []\n",
        "for i in Belize:\n",
        "  if i.endswith('BIO12'):\n",
        "    name = i\n",
        "    ds = rasterio.open(path + i + ext, 'r')\n",
        "    data = ds.read()\n",
        "    max = np.nanmax(data)\n",
        "    min = np.nanmin(data)\n",
        "    tpa_belize.append((name, ds, data, min, max))\n",
        "  else:\n",
        "    next\n",
        "\n",
        "tpa_colombia = []\n",
        "for i in Colombia:\n",
        "  if i.endswith('BIO12'):\n",
        "    name = i\n",
        "    ds = rasterio.open(path + i + ext, 'r')\n",
        "    data = ds.read()\n",
        "    max = np.nanmax(data)\n",
        "    min = np.nanmin(data)\n",
        "    tpa_colombia.append((name, ds, data, min, max))\n",
        "  else:\n",
        "    next\n",
        "\n",
        "tpa_belize.sort()\n",
        "tpa_colombia.sort()"
      ]
    },
    {
      "cell_type": "code",
      "execution_count": 13,
      "metadata": {
        "id": "1FOV-cdqXsdZ"
      },
      "outputs": [],
      "source": [
        "# removing zip folder\n",
        "%rm \"clip_tiffWorldclim[Colombia-Belize].zip\"\n",
        "%rm -r \"rasters\""
      ]
    },
    {
      "cell_type": "markdown",
      "metadata": {
        "id": "hXZU-EAxbA4V"
      },
      "source": [
        "# **Life Zones Reported** - reclassify"
      ]
    },
    {
      "cell_type": "code",
      "execution_count": 120,
      "metadata": {
        "id": "hilwoTlpicT2"
      },
      "outputs": [],
      "source": [
        "# function to reclassify the arrays/rasters\n",
        "def array_clean(array_change, lista):\n",
        "  array = array_change.copy()\n",
        "  for i in lista:\n",
        "    p1, p2, value = i\n",
        "    if (p1 == 0.0) & (np.isnan(p2)):\n",
        "      array[np.where((array == 0))] = value\n",
        "    elif np.isnan(p2):\n",
        "      array[np.where((array >= p1))] = value\n",
        "    else:\n",
        "      array[np.where((array >= p1) & (array <= p2))] = value\n",
        "  return array"
      ]
    },
    {
      "cell_type": "markdown",
      "metadata": {
        "id": "jsIx7dPQ1XMW"
      },
      "source": [
        "## **Holdrige Colombia 2005**"
      ]
    },
    {
      "cell_type": "markdown",
      "metadata": {
        "id": "nj-QEPxOM4MX"
      },
      "source": [
        "| id    | simbolo | zona                            | leyenda              | amt1_c | amt2_c | temperature | pta1_mm | pta2_mm | precipitation | elev1_m | elev2_m | elevation |\n",
        "|-------|---------|---------------------------------|----------------------|--------|--------|-------------|---------|---------|---------------|---------|---------|-----------|\n",
        "| 2.3   | N       | Nieve                           | Nival                | 0      | 1.5    | 0.1         | 0       |         | 1             | 4500    |         | 23        |\n",
        "| 8.8   | Ts-A    | Tundra seca alpina              | Páramo seco          | 1.5    | 3      | 0.2         | 62.5    | 125     | 2             | 3500    | 4500    | 22        |\n",
        "| 13.2  | Th-A    | Tundra húmeda alpina            | Páramo húmedo        | 1.5    | 3      | 0.2         | 125     | 250     | 3             | 3500    | 4500    | 22        |\n",
        "| 17.6  | Tmh-A   | Tundra muy húmeda alpina        | Páramo muy húmedo    | 1.5    | 3      | 0.2         | 250     | 500     | 4             | 3500    | 4500    | 22        |\n",
        "| 22    | Tp-A    | Tundra pluvial                  | Páramo pluvial       | 1.5    | 3      | 0.2         | 500     |         | 5             | 3500    | 4500    | 22        |\n",
        "| 12.6  | d-SA    | Desierto subalpino              | Subpáramo muy seco   | 3      | 6      | 0.3         | 62.5    | 125     | 2             | 3000    | 3500    | 21        |\n",
        "| 18.9  | Md-SA   | Matorral desértico subalpino    | Subpáramo seco       | 3      | 6      | 0.3         | 125     | 250     | 3             | 3000    | 3500    | 21        |\n",
        "| 25.2  | Mh-SA   | Monte húmedo subalpino          | Subpáramo húmedo     | 3      | 6      | 0.3         | 250     | 500     | 4             | 3000    | 3500    | 21        |\n",
        "| 31.5  | p-SA    | Páramo subalpino                | Subpáramo muy húmedo | 3      | 6      | 0.3         | 500     | 1000    | 5             | 3000    | 3500    | 21        |\n",
        "| 37.8  | Pp-SA   | Páramo pluvial subalpino        | Subpáramo pluvial    | 3      | 6      | 0.3         | 1000    |         | 6             | 3000    | 3500    | 21        |\n",
        "| 16    | d-M     | Desierto montano                | Muy frío seco        | 6      | 12     | 0.4         | 62.5    | 125     | 2             | 2500    | 3000    | 20        |\n",
        "| 24    | Md-M    | Matorral desértico montano      | Muy frío seco        | 6      | 12     | 0.4         | 125     | 250     | 3             | 2500    | 3000    | 20        |\n",
        "| 32    | e-M     | Estepa montana                  | Muy frío seco        | 6      | 12     | 0.4         | 250     | 500     | 4             | 2500    | 3000    | 20        |\n",
        "| 40    | Bh-M    | Bosque húmedo montano           | Muy frío húmedo      | 6      | 12     | 0.4         | 500     | 1000    | 5             | 2500    | 3000    | 20        |\n",
        "| 48    | Bmh-M   | Bosque muy húmedo montano       | Muy frío muy húmedo  | 6      | 12     | 0.4         | 1000    | 2000    | 6             | 2500    | 3000    | 20        |\n",
        "| 56    | Bp-M    | Bosque pluvial montano          | Muy frío pluvial     | 6      | 12     | 0.4         | 2000    |         | 7             | 2500    | 3000    | 20        |\n",
        "| 19    | d-MB    | Desierto montano bajo           | Frío muy seco        | 12     | 18     | 0.5         | 62.5    | 125     | 2             | 2000    | 2500    | 19        |\n",
        "| 28.5  | Md-MB   | Matorral desértico montano bajo | Frío muy seco        | 12     | 18     | 0.5         | 125     | 250     | 3             | 2000    | 2500    | 19        |\n",
        "| 38    | Ee-MB   | Estepa espinosa montano bajo    | Frío muy seco        | 12     | 18     | 0.5         | 250     | 500     | 4             | 2000    | 2500    | 19        |\n",
        "| 47.5  | Bs-Mb   | Bosque seco montano bajo        | Frío seco            | 12     | 18     | 0.5         | 500     | 1000    | 5             | 2000    | 2500    | 19        |\n",
        "| 57    | Bh-MB   | Bosque húmedo montano bajo      | Frío húmedo          | 12     | 18     | 0.5         | 1000    | 2000    | 6             | 2000    | 2500    | 19        |\n",
        "| 66.5  | Bmh-MB  | Bosque muy húmedo montano bajo  | Frío muy húmedo      | 12     | 18     | 0.5         | 2000    | 4000    | 7             | 2000    | 2500    | 19        |\n",
        "| 76    | Bp-MB   | Bosque pluvial montano bajo     | Frío pluvial         | 12     | 18     | 0.5         | 4000    |         | 8             | 2000    | 2500    | 19        |\n",
        "| 21.6  | d-PM    | Desierto premontano             | Templado muy seco    | 18     | 24     | 0.6         | 62.5    | 125     | 2             | 1000    | 2000    | 18        |\n",
        "| 32.4  | Md-PM   | Matorral desértico premontano   | Templado muy seco    | 18     | 24     | 0.6         | 125     | 250     | 3             | 1000    | 2000    | 18        |\n",
        "| 43.2  | Me-PM   | Matorral espinoso premontano    | Templado muy seco    | 18     | 24     | 0.6         | 250     | 500     | 4             | 1000    | 2000    | 18        |\n",
        "| 54    | Bs-PM   | Bosque seco premontano          | Templado seco        | 18     | 24     | 0.6         | 500     | 1000    | 5             | 1000    | 2000    | 18        |\n",
        "| 64.8  | Bh-PM   | Bosque húmedo premontano        | Templado húmedo      | 18     | 24     | 0.6         | 1000    | 2000    | 6             | 1000    | 2000    | 18        |\n",
        "| 75.6  | Bmh-PM  | Bosque muy húmedo premontano    | Templado muy húmedo  | 18     | 24     | 0.6         | 2000    | 4000    | 7             | 1000    | 2000    | 18        |\n",
        "| 86.4  | Bp-PM   | Bosque pluvial premontano       | Templado pluvial     | 18     | 24     | 0.6         | 4000    |         | 8             | 1000    | 2000    | 18        |\n",
        "| 23.8  | d-T     | Desierto Tropical               | Cálido árido         | 24     |        | 0.7         | 62.5    | 125     | 2             | 0       | 1000    | 17        |\n",
        "| 35.7  | Md-ST   | Matorral desértico subtropical  | Cálido árido         | 24     |        | 0.7         | 125     | 250     | 3             | 0       | 1000    | 17        |\n",
        "| 47.6  | Me-ST   | Monte espinoso subtropical      | Cálido semiárido     | 24     |        | 0.7         | 250     | 500     | 4             | 0       | 1000    | 17        |\n",
        "| 59.5  | Bms-T   | Bosque muy seco tropical        | Cálido muy seco      | 24     |        | 0.7         | 500     | 1000    | 5             | 0       | 1000    | 17        |\n",
        "| 71.4  | Bs-T    | Bosque seco tropical            | Cálido seco          | 24     |        | 0.7         | 1000    | 2000    | 6             | 0       | 1000    | 17        |\n",
        "| 83.3  | Bh-T    | Bosque húmedo tropical          | Cálido húmedo        | 24     |        | 0.7         | 2000    | 4000    | 7             | 0       | 1000    | 17        |\n",
        "| 95.2  | Bmh-T   | Bosque muy húmedo tropical      | Cálido muy húmedo    | 24     |        | 0.7         | 4000    | 8000    | 8             | 0       | 1000    | 17        |\n",
        "| 107.1 | Bp-T    | Bosque pluvial tropical         | Cálido pluvial       | 24     |        | 0.7         | 8000    |         | 9             | 0       | 1000    | 17        |"
      ]
    },
    {
      "cell_type": "code",
      "execution_count": 155,
      "metadata": {
        "id": "9jn_I_z9a8i2"
      },
      "outputs": [],
      "source": [
        "# Working with Holdrigde 2005\n",
        "hold = pd.read_csv('https://raw.githubusercontent.com/yodavo/moja-global-analysis/main/2021-12-16_Task2-Holdrigde/dataset/holdrigde_Colombia(2005).csv',\n",
        "                   na_values = '')\n",
        "\n",
        "# creating dataframes to compare\n",
        "precipitation = hold[['pta1_mm', 'pta2_mm', 'precipitation']].copy().sort_values(by='pta2_mm').drop_duplicates(subset='precipitation').sort_values(by='pta1_mm').reset_index(drop=True).values.tolist()\n",
        "temperature = hold[['amt1_c', 'amt2_c', 'temperature']].copy().sort_values(by='amt2_c').drop_duplicates(subset='temperature').sort_values(by='amt1_c').reset_index(drop=True).values.tolist()\n",
        "elevation = hold[['elev1_m', 'elev2_m', 'elevation']].copy().sort_values(by='elevation').drop_duplicates(subset='elevation').sort_values(by='elev1_m').reset_index(drop=True).values.tolist()"
      ]
    },
    {
      "cell_type": "code",
      "execution_count": 54,
      "metadata": {
        "colab": {
          "base_uri": "https://localhost:8080/"
        },
        "id": "B_frxkNfibVV",
        "outputId": "90d79891-5d79-4edd-fbdf-22e9b6b2d8a6"
      },
      "outputs": [
        {
          "name": "stdout",
          "output_type": "stream",
          "text": [
            "Precipitation array : Colombia-BioClim30s_BIO12\n"
          ]
        }
      ],
      "source": [
        "# reclassifiying tpa (precipitation)\n",
        "print('Precipitation array :', tpa_colombia[1][0])\n",
        "tpaCol_30 = tpa_colombia[1][2].copy()\n",
        "tpa = array_clean(tpaCol_30, precipitation)"
      ]
    },
    {
      "cell_type": "code",
      "execution_count": 55,
      "metadata": {
        "colab": {
          "base_uri": "https://localhost:8080/"
        },
        "id": "NwmUIO_GcSGt",
        "outputId": "7d183dd5-e773-4108-cc3b-4511d86ed2d4"
      },
      "outputs": [
        {
          "name": "stdout",
          "output_type": "stream",
          "text": [
            "Temperature array : Colombia-BioClim30s_BIO2\n"
          ]
        }
      ],
      "source": [
        "# reclassifiying tpa (precipitation)\n",
        "print('Temperature array :', amt_colombia[1][0])\n",
        "amteCol_30 = amt_colombia[1][2].copy()\n",
        "amt = array_clean(amteCol_30, temperature)"
      ]
    },
    {
      "cell_type": "code",
      "execution_count": 56,
      "metadata": {
        "colab": {
          "base_uri": "https://localhost:8080/"
        },
        "id": "ZrMgonQ4tQnU",
        "outputId": "476e74fb-499b-4412-dc2e-e5bdfafcaf42"
      },
      "outputs": [
        {
          "name": "stdout",
          "output_type": "stream",
          "text": [
            "Elevation array : Colombia_WC2.1_30S_ELEV\n"
          ]
        }
      ],
      "source": [
        "# reclasifying elev (elevation)\n",
        "print('Elevation array :', elev_colombia[1][0])\n",
        "elevCol_30 = elev_colombia[1][2].copy()\n",
        "elevCol_30[np.where((elevCol_30 < 0))] = 0 # correction\n",
        "ele = array_clean(elevCol_30, elevation)"
      ]
    },
    {
      "cell_type": "code",
      "execution_count": 57,
      "metadata": {
        "colab": {
          "base_uri": "https://localhost:8080/"
        },
        "id": "tvT6X84ht5wl",
        "outputId": "aac27b94-1c36-4598-9865-252fbb83dd47"
      },
      "outputs": [
        {
          "name": "stdout",
          "output_type": "stream",
          "text": [
            "Precipitation original:\t min: 283.00\tmax: 8029.00\tshape:(1, 2008, 1454)\n",
            "Precipitation modified:\t min: 4.00\tmax: 9.00\tshape:(1, 2008, 1454)\n",
            "\n",
            "Temperature original:\t min: 5.72\tmax: 13.11\tshape:(1, 2008, 1454)\n",
            "Temperature modified:\t min: 0.30\tmax: 0.50\tshape:(1, 2008, 1454)\n",
            "\n",
            "Elevation original:\t min: 0.00\tmax: 5463.00\tshape:(1, 2008, 1454)\n",
            "Elevation modified:\t min: 17.00\tmax: 23.00\tshape:(1, 2008, 1454)\n"
          ]
        }
      ],
      "source": [
        "## Print confirmation\n",
        "print(f'Precipitation original:\\t min: {np.nanmin(tpaCol_30):.2f}\\tmax: {np.nanmax(tpaCol_30):.2f}\\tshape:{tpaCol_30.shape}')\n",
        "print(f'Precipitation modified:\\t min: {np.nanmin(tpa):.2f}\\tmax: {np.nanmax(tpa):.2f}\\tshape:{tpaCol_30.shape}')\n",
        "print()\n",
        "print(f'Temperature original:\\t min: {np.nanmin(amteCol_30):.2f}\\tmax: {np.nanmax(amteCol_30):.2f}\\tshape:{amteCol_30.shape}')\n",
        "print(f'Temperature modified:\\t min: {np.nanmin(amt):.2f}\\tmax: {np.nanmax(amt):.2f}\\tshape:{amt.shape}')\n",
        "print()\n",
        "print(f'Elevation original:\\t min: {np.nanmin(elevCol_30):.2f}\\tmax: {np.nanmax(elevCol_30):.2f}\\tshape:{elevCol_30.shape}')\n",
        "print(f'Elevation modified:\\t min: {np.nanmin(ele):.2f}\\tmax: {np.nanmax(ele):.2f}\\tshape:{ele.shape}')"
      ]
    },
    {
      "cell_type": "code",
      "execution_count": 94,
      "metadata": {
        "id": "-VEktXOEfzSn"
      },
      "outputs": [],
      "source": [
        "# Creating the lifezon_colombia dataframe\n",
        "ds = tpa_colombia[1][1]\n",
        "data = ds.read()\n",
        "\n",
        "lifezone_colombia = tpa * amt * ele # multiplying the datasets\n",
        "with rasterio.open('/content/lifezones/Colombia_Holdridge2005.tif', 'w',\n",
        "                   drive = ds.driver,\n",
        "                   height = ds.height, \n",
        "                   width = ds.width,\n",
        "                   count = ds.count,\n",
        "                   crs = ds.crs,\n",
        "                   transform = ds.transform,\n",
        "                   dtype = data.dtype\n",
        "                   ) as dst:\n",
        "                   dst.write(lifezone_colombia)"
      ]
    },
    {
      "cell_type": "code",
      "execution_count": 108,
      "metadata": {
        "colab": {
          "base_uri": "https://localhost:8080/",
          "height": 621
        },
        "id": "w5b2D2-nhPcL",
        "outputId": "4bdb48dc-6c40-4a70-fd22-e079c322cf39"
      },
      "outputs": [
        {
          "data": {
            "image/png": "[encoded data removed]",
            "text/plain": [
              "<Figure size 1080x720 with 2 Axes>"
            ]
          },
          "metadata": {
            "needs_background": "light"
          },
          "output_type": "display_data"
        }
      ],
      "source": [
        "# Map and tiff histogram\n",
        "fig, (axrgb, axhist) = pyplot.subplots(1, 2, figsize=(15,10))\n",
        "show(lifezone_colombia, ax=axrgb, cmap='Set1')\n",
        "show_hist(lifezone_colombia, bins=50, histtype='stepfilled',\n",
        "          lw=0.0, stacked=False, alpha=0.3, ax=axhist)\n",
        "pyplot.show()"
      ]
    },
    {
      "cell_type": "code",
      "execution_count": 163,
      "metadata": {
        "id": "2HlxKFw832Bt"
      },
      "outputs": [],
      "source": [
        "lifezon = pd.DataFrame(list(set(lifezone_colombia[~np.isnan(lifezone_colombia)])), columns=['lifezone'])\n",
        "lifezon.round(3)\n",
        "\n",
        "compare = dict(zip(hold['id'], hold['simbolo']))\n",
        "\n",
        "lifezon['simbolo'] = lifezon.lifezone.map(compare)"
      ]
    },
    {
      "cell_type": "markdown",
      "metadata": {
        "id": "ozu-vB1Gaubd"
      },
      "source": [
        "## **Holdrigde Colombia 2011**\n",
        "\n",
        "| code | tipo de bosque                 | id     | elev_1 | elev_2 | elevation | amt_1 | amt_2 | temperature | tpa_1 | tpa_2 | precipitation | ecuación alométrica |\n",
        "|------|--------------------------------|--------|--------|--------|-----------|-------|-------|-------------|-------|-------|---------------|---------------------|\n",
        "| 45   | Bosque muy seco tropical       | bms-T  | 0      | 800    | 1         | 0     | 24    | 5           | 500   | 1000  | 9             | 1                   |\n",
        "| 50   | Bosque seco tropical           | bs-T   | 0      | 800    | 1         | 0     | 24    | 5           | 1000  | 2000  | 10            | 1                   |\n",
        "| 55   | Bosque húmedo tropical         | bh-T   | 0      | 800    | 1         | 0     | 24    | 5           | 2000  | 4000  | 11            | 2                   |\n",
        "| 65   | Bosque muy húmedo tropical     | bmh-T  | 0      | 800    | 1         | 0     | 24    | 5           | 4000  | 8000  | 13            | 2                   |\n",
        "| 75   | Bosque pluvial tropical        | bp-T   | 0      | 800    | 1         | 0     | 24    | 5           | 8000  |       | 15            | 3                   |\n",
        "| 126  | Bosque seco premontano         | bs-PM  | 800    | 1800   | 2         | 18    | 24    | 7           | 500   | 1000  | 9             | 4                   |\n",
        "| 160  | Bosque húmedo premontano       | bh-PM  | 800    | 1800   | 2         | 18    | 24    | 8           | 1000  | 2000  | 10            | 4                   |\n",
        "| 176  | Bosque muy húmedo premontano   | bmh-PM | 800    | 1800   | 2         | 18    | 24    | 8           | 2000  | 4000  | 11            | 4                   |\n",
        "| 224  | Bosque pluvial premontano      | bp-PM  | 800    | 1800   | 2         | 18    | 24    | 8           | 4000  |       | 14            | 4                   |\n",
        "| 189  | Bosque seco montano bajo       | bs-MB  | 1800   | 2800   | 3         | 12    | 18    | 7           | 500   | 1000  | 9             | 5                   |\n",
        "| 210  | Bosque húmedo montano bajo     | bh-MB  | 1800   | 2800   | 3         | 12    | 18    | 7           | 1000  | 2000  | 10            | 5                   |\n",
        "| 231  | Bosque muy húmedo montano bajo | bmh-MB | 1800   | 2800   | 3         | 12    | 18    | 7           | 2000  | 4000  | 11            | 5                   |\n",
        "| 294  | Bosque pluvial montano bajo    | bp-MB  | 1800   | 2800   | 3         | 12    | 18    | 7           | 4000  |       | 14            | 5                   |\n",
        "| 216  | Bosque húmedo montano          | bh-M   | 2800   | 3700   | 4         | 6     | 12    | 6           | 500   | 1000  | 9             | 6                   |\n",
        "| 240  | Bosque muy húmedo montano      | bmh-M  | 2800   | 3700   | 4         | 6     | 12    | 6           | 1000  | 2000  | 10            | 6                   |\n",
        "| 288  | Bosque pluvial montano         | bp-M   | 2800   | 3700   | 4         | 6     | 12    | 6           | 2000  |       | 12            | 6                   |"
      ]
    },
    {
      "cell_type": "code",
      "execution_count": 119,
      "metadata": {
        "id": "-qPckRYxlOmh"
      },
      "outputs": [],
      "source": [
        "# Not working properly\n",
        "\n",
        "# # Getting dataframe and plotting in geopandas\n",
        "# geo_df = gr.from_file('/content/lifezones/Colombia_Holdridge2005.tif').to_pandas()\n",
        "# geo_df = geo_df.loc[:, ['value', 'x', 'y']]\n",
        "# geo_df = geo_df.rename(columns  ={'x':'Latitude', 'y':'Longitude'})\n",
        "# geo_df.to_csv('/content/lifezones/Colombia_Holdridge2005.csv', index=False)\n",
        "\n",
        "# # creating geometry\n",
        "# geometry = [Point(xy) for xy in zip(geo_df['Longitude'], geo_df['Latitude'])]\n",
        "# print('Location dataframe shape: ', geo_df.shape)\n",
        "\n",
        "# # creating geodataframe and plotting for review\n",
        "# glocation = gpd.GeoDataFrame(geo_df, crs=\"EPSG:4326\", geometry=geometry)\n",
        "# glocation.plot()\n",
        "# plt.show()"
      ]
    }
  ],
  "metadata": {
    "accelerator": "GPU",
    "colab": {
      "authorship_tag": "ABX9TyMTQsKHFhlBg26i9S1NPXe0",
      "collapsed_sections": [
        "iBL-kjrTRR07",
        "JHPYYoHKksD0",
        "oyOsQYcvk2NL",
        "WkfZ94rKTb1Z"
      ],
      "include_colab_link": true,
      "name": "lifezones.ipynb",
      "provenance": []
    },
    "kernelspec": {
      "display_name": "Python 3",
      "name": "python3"
    },
    "language_info": {
      "codemirror_mode": {
        "name": "ipython",
        "version": 3
      },
      "file_extension": ".py",
      "mimetype": "text/x-python",
      "name": "python",
      "nbconvert_exporter": "python",
      "pygments_lexer": "ipython3",
      "version": "3.10.1"
    }
  },
  "nbformat": 4,
  "nbformat_minor": 0
}
