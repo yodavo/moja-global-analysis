{
  "nbformat": 4,
  "nbformat_minor": 0,
  "metadata": {
    "colab": {
      "name": "lifezones.ipynb",
      "provenance": [],
      "collapsed_sections": [
        "BEGH6bI-2L9c",
        "iBL-kjrTRR07",
        "JHPYYoHKksD0",
        "oyOsQYcvk2NL",
        "WkfZ94rKTb1Z",
        "nsAmR_OgUDAz",
        "yFoBT3j2fGGc",
        "OmXBQvOQg9FE"
      ],
      "authorship_tag": "ABX9TyNtltRDQkYJxPjyjSF57XeA",
      "include_colab_link": true
    },
    "kernelspec": {
      "name": "python3",
      "display_name": "Python 3"
    },
    "language_info": {
      "name": "python"
    },
    "accelerator": "GPU"
  },
  "cells": [
    {
      "cell_type": "markdown",
      "metadata": {
        "id": "view-in-github",
        "colab_type": "text"
      },
      "source": [
        "<a href=\"https://colab.research.google.com/github/yodavo/moja-global-analysis/blob/main/2021-12-16_Task2-Holdrigde/lifezones.ipynb\" target=\"_parent\"><img src=\"https://colab.research.google.com/assets/colab-badge.svg\" alt=\"Open In Colab\"/></a>"
      ]
    },
    {
      "cell_type": "code",
      "source": [
        "# Install GDAL and Geopandas\n",
        "!apt install gdal-bin python-gdal python3-gdal -q\n",
        "!apt install python3-rtree -q\n",
        "!pip install geopandas -q\n",
        "!pip install descartes -q\n",
        "\n",
        "# Folium \n",
        "# !pip install folium -q\n",
        "\n",
        "# for rasters\n",
        "!pip install Rasterio -q\n",
        "!pip install rasterstats -q\n",
        "!pip install georasters -q\n",
        "\n",
        "# Install Pysal - Spatial Statistics\n",
        "!pip install pysal -q\n",
        "!pip install splot -q"
      ],
      "metadata": {
        "id": "dsefdQBDGfpQ"
      },
      "execution_count": null,
      "outputs": []
    },
    {
      "cell_type": "code",
      "source": [
        "import os, zipfile, glob\n",
        "import rasterio,  gdal\n",
        "import geopandas as gpd\n",
        "import pandas as pd\n",
        "import rasterstats\n",
        "import numpy as np\n",
        "from rasterio.plot import show\n",
        "from rasterio.plot import show_hist\n",
        "from matplotlib import pyplot as plt"
      ],
      "metadata": {
        "id": "9ZgWt8H1G6nP",
        "colab": {
          "base_uri": "https://localhost:8080/"
        },
        "outputId": "dd4fbb48-97e8-46a5-b898-612458f2babf"
      },
      "execution_count": 2,
      "outputs": [
        {
          "output_type": "stream",
          "name": "stderr",
          "text": [
            "/usr/local/lib/python3.7/dist-packages/geopandas/_compat.py:115: UserWarning: The Shapely GEOS version (3.9.1-CAPI-1.14.2) is incompatible with the GEOS version PyGEOS was compiled with (3.10.1-CAPI-1.16.0). Conversions between both will be slow.\n",
            "  shapely_geos_version, geos_capi_version_string\n"
          ]
        }
      ]
    },
    {
      "cell_type": "markdown",
      "source": [
        "# **Clipping**"
      ],
      "metadata": {
        "id": "BEGH6bI-2L9c"
      }
    },
    {
      "cell_type": "code",
      "source": [
        "# creating folder to store information\n",
        "%mkdir clip_shapefiles\n",
        "%mkdir outcomes"
      ],
      "metadata": {
        "id": "V8MwmE4aEZv_"
      },
      "execution_count": 3,
      "outputs": []
    },
    {
      "cell_type": "code",
      "source": [
        "# Function to clip rasters\n",
        "def clip_raster(list_raster, inshp, wordclim_dataset):\n",
        "  ''' Get a clipped raster from the Worldclim data for specified countries:\n",
        "  - list_raster : geotiff fetched from Worldclim\n",
        "  - inshp : path clipped shapefile with the name of the country\n",
        "  - wordclim_dataset: name of the dataset for outraster file name '''\n",
        "  for i in list_raster:\n",
        "    name, raster = i\n",
        "    outraster = '/content/outcomes/' + str(wordclim_dataset) + '_' + str.upper(name) + '.tif'\n",
        "    dsClip = gdal.Warp(outraster, raster, cutlineDSName=inshp, cropToCutline=True, dstNodata=np.nan)\n",
        "    \n",
        "    # visualization\n",
        "    # plt.imshow(dsClip.GetRasterBand(1).ReadAsArray())\n",
        "    # plt.colorbar()\n",
        "    # plt.title(str.capitalize(wordclim_dataset) + ' - ' + str.upper(name))"
      ],
      "metadata": {
        "id": "1jiY91XWJlPI"
      },
      "execution_count": 4,
      "outputs": []
    },
    {
      "cell_type": "markdown",
      "source": [
        "# **Boundaries**"
      ],
      "metadata": {
        "id": "iBL-kjrTRR07"
      }
    },
    {
      "cell_type": "code",
      "source": [
        "# importing the data\n",
        "world_df = gpd.read_file(gpd.datasets.get_path('naturalearth_lowres'))\n",
        "\n",
        "# subseting\n",
        "world_df = world_df[['continent','name', 'iso_a3','geometry']]\n",
        "\n",
        "# croppping boundaries\n",
        "colombia_bd = world_df.loc[world_df.name == 'Colombia', ].reset_index(drop=True)\n",
        "colombia_bd.to_file(\"/content/clip_shapefiles/colombia.shp\")\n",
        "belize_bd = world_df.loc[world_df.name == 'Belize', ].reset_index(drop=True)\n",
        "belize_bd.to_file(\"/content/clip_shapefiles/belize.shp\")\n",
        "\n",
        "# path to shapefiles\n",
        "colombia = '/content/clip_shapefiles/colombia.shp'\n",
        "belize = '/content/clip_shapefiles/belize.shp'"
      ],
      "metadata": {
        "id": "eSdS_ci7ROVN"
      },
      "execution_count": 5,
      "outputs": []
    },
    {
      "cell_type": "markdown",
      "source": [
        "# **Fetching Elevation 2.5m**"
      ],
      "metadata": {
        "id": "JHPYYoHKksD0"
      }
    },
    {
      "cell_type": "code",
      "source": [
        "# fetching elevation geotif form worldclim 2.5m\n",
        "! wget https://biogeo.ucdavis.edu/data/worldclim/v2.1/base/wc2.1_2.5m_elev.zip -q --show-progress\n",
        "with zipfile.ZipFile('wc2.1_2.5m_elev.zip', 'r') as tempm:\n",
        "  tempm.extractall(\"temp\")\n",
        "\n",
        "# path to the folder\n",
        "files = glob.glob(os.path.join('/content/temp', '*tif'))\n",
        "\n",
        "####################### tiff file #################################\n",
        "# Rename and arrange the information\n",
        "name = files[0][files[0].rfind('/')+1 : files[0].rfind('.')]\n",
        "\n",
        "# merging all the metadata\n",
        "tiff_dem2_5 = [(name, gdal.Open(files[0]))]\n",
        "\n",
        "############################ Clippping maps #################################\n",
        "# Colombia\n",
        "clip_raster(tiff_dem2_5, colombia, 'Colombia')\n",
        "\n",
        "# Belize\n",
        "clip_raster(tiff_dem2_5, belize, 'Belize')\n",
        "\n",
        "##################### Removing Cache ################################\n",
        "%rm \"wc2.1_2.5m_elev.zip\"\n",
        "%rm -r \"temp\""
      ],
      "metadata": {
        "id": "kJUWgtJJ2wNO",
        "colab": {
          "base_uri": "https://localhost:8080/"
        },
        "outputId": "f69dd9a3-5745-4a01-c114-2bc377acbd00"
      },
      "execution_count": 6,
      "outputs": [
        {
          "output_type": "stream",
          "name": "stdout",
          "text": [
            "wc2.1_2.5m_elev.zip 100%[===================>]  16.75M  9.63MB/s    in 1.7s    \n"
          ]
        }
      ]
    },
    {
      "cell_type": "markdown",
      "source": [
        "# **Fetching Elevation 30s**"
      ],
      "metadata": {
        "id": "oyOsQYcvk2NL"
      }
    },
    {
      "cell_type": "code",
      "source": [
        "# fetching elevation geotif form worldclim 30s\n",
        "! wget https://biogeo.ucdavis.edu/data/worldclim/v2.1/base/wc2.1_30s_elev.zip -q --show-progress\n",
        "with zipfile.ZipFile('wc2.1_30s_elev.zip', 'r') as tempm:\n",
        "  tempm.extractall(\"temp\")\n",
        "\n",
        "# path to the folder\n",
        "files = glob.glob(os.path.join('/content/temp', '*tif'))\n",
        "\n",
        "####################### tiff file #################################\n",
        "# Rename and arrange the information\n",
        "name = files[0][files[0].rfind('/')+1 : files[0].rfind('.')]\n",
        "\n",
        "# merging all the metadata\n",
        "tiff_dem30 = [(name, gdal.Open(files[0]))]\n",
        "\n",
        "############################ Clippping maps #################################\n",
        "# Colombia\n",
        "clip_raster(tiff_dem30, colombia, 'Colombia')\n",
        "\n",
        "# Belize\n",
        "clip_raster(tiff_dem30, belize, 'Belize')\n",
        "\n",
        "##################### Removing Cache ################################\n",
        "%rm \"wc2.1_30s_elev.zip\"\n",
        "%rm -r \"temp\"\n"
      ],
      "metadata": {
        "colab": {
          "base_uri": "https://localhost:8080/"
        },
        "id": "VHD05JcsQTIf",
        "outputId": "d289b022-3015-4f4c-c472-c9528d37040e"
      },
      "execution_count": 7,
      "outputs": [
        {
          "output_type": "stream",
          "name": "stdout",
          "text": [
            "wc2.1_30s_elev.zip  100%[===================>] 322.52M  20.5MB/s    in 17s     \n"
          ]
        }
      ]
    },
    {
      "cell_type": "markdown",
      "source": [
        "# **Elevation list** `elev_colombia` - `elev_belize`"
      ],
      "metadata": {
        "id": "WkfZ94rKTb1Z"
      }
    },
    {
      "cell_type": "code",
      "source": [
        "############### Elevation information ################################\n",
        "# path to the folder\n",
        "eleva = glob.glob(os.path.join('/content/outcomes', '*tif'))\n",
        "\n",
        "###### list of tiff files ######\n",
        "# Rename and arrange the information\n",
        "eleva_names = [i[i.rfind('/')+1:-4] for i in eleva]\n",
        "eleva_names.sort()\n",
        "\n",
        "##################### elevations #########################################\n",
        "# Separate datasets (this is pretty redundant)\n",
        "elev_Belize, elev_Colombia = [i for i in eleva_names if i.startswith('Belize')], [i for i in eleva_names if i.startswith('Colombia')]\n",
        "\n",
        "# reading the data\n",
        "pathe, exte = '/content/outcomes/', '.tif'\n",
        "\n",
        "# importing and handling\n",
        "elev_belize = []\n",
        "for i in elev_Belize:\n",
        "  name = i\n",
        "  ds = rasterio.open(pathe + i + exte, 'r')\n",
        "  data = ds.read()\n",
        "  max = np.nanmax(data)\n",
        "  min = np.nanmin(data)\n",
        "  elev_belize.append((name, ds, data, min, max))\n",
        "\n",
        "elev_colombia = []\n",
        "for i in elev_Colombia:\n",
        "  name = i\n",
        "  ds = rasterio.open(pathe + i + exte, 'r')\n",
        "  data = ds.read()\n",
        "  max = np.nanmax(data)\n",
        "  min = np.nanmin(data)\n",
        "  elev_colombia.append((name, ds, data, min, max))"
      ],
      "metadata": {
        "id": "1LaFDVyele0B"
      },
      "execution_count": 8,
      "outputs": []
    },
    {
      "cell_type": "markdown",
      "source": [
        "# **Temperature** `amt_colombia` - `amt_belize`  **and Precipitation list** `tpa_colombia` - `tap_belize` "
      ],
      "metadata": {
        "id": "nsAmR_OgUDAz"
      }
    },
    {
      "cell_type": "markdown",
      "source": [
        "- **AMT** - BIO2 = Mean Diurnal Range (Mean of monthly (max temp - min temp))\n",
        "- **TPA** - BIO12 = Annual Precipitation\n",
        "\n"
      ],
      "metadata": {
        "id": "q_C-4rnWXB3O"
      }
    },
    {
      "cell_type": "code",
      "source": [
        "#########################################################################\n",
        "#################### Manual retrival ####################################\n",
        "#########################################################################\n",
        "\n",
        "# get the information in the zip file\n",
        "with zipfile.ZipFile('clip_tiffWorldclim[Colombia-Belize].zip', 'r') as temp:\n",
        "  temp.extractall(\"rasters\")\n",
        "\n",
        "# path to the folder\n",
        "files = glob.glob(os.path.join('/content/rasters', '*tif'))\n",
        "\n",
        "###### list of tiff files ######\n",
        "# Rename and arrange the information\n",
        "names = [i[i.rfind('/')+1:-4] for i in files]\n",
        "\n",
        "# Separate datasets (this is pretty redundant)\n",
        "belize, colombia = [i for i in names if i.startswith('Belize')], [i for i in names if i.startswith('Colombia')]\n",
        "\n",
        "# It will work only on 2.5s and 30s maps(Columbia 15, Belize 13)\n",
        "Belize, Colombia = [i for i in belize if i[14:16] in ['30', '2_']], [i for i in colombia if i[16:18] in ['30', '2_']]"
      ],
      "metadata": {
        "id": "WtzoMidOPtzo"
      },
      "execution_count": 10,
      "outputs": []
    },
    {
      "cell_type": "code",
      "source": [
        "##################### Rasters temperature ######################################\n",
        "# reading the data\n",
        "path, ext = '/content/rasters/', '.tif'\n",
        "\n",
        "# importing and handling\n",
        "amt_belize = []\n",
        "for i in Belize:\n",
        "  if i.endswith('BIO2'):\n",
        "    name = i\n",
        "    ds = rasterio.open(path + i + ext, 'r')\n",
        "    data = ds.read()\n",
        "    max = np.nanmax(data)\n",
        "    min = np.nanmin(data)\n",
        "    amt_belize.append((name, ds, data, min, max))\n",
        "  else:\n",
        "    next\n",
        "\n",
        "amt_colombia = []\n",
        "for i in Colombia:\n",
        "  if i.endswith('BIO2'):\n",
        "    name = i\n",
        "    ds = rasterio.open(path + i + ext, 'r')\n",
        "    data = ds.read()\n",
        "    max = np.nanmax(data)\n",
        "    min = np.nanmin(data)\n",
        "    amt_colombia.append((name, ds, data, min, max))\n",
        "  else:\n",
        "    next\n",
        "\n",
        "amt_belize.sort()\n",
        "amt_colombia.sort()"
      ],
      "metadata": {
        "id": "lI4AoTm_NRji"
      },
      "execution_count": 11,
      "outputs": []
    },
    {
      "cell_type": "code",
      "source": [
        "##################### Rasters temperature ######################################\n",
        "# reading the data\n",
        "path, ext = '/content/rasters/', '.tif'\n",
        "\n",
        "# importing and handling\n",
        "tpa_belize = []\n",
        "for i in Belize:\n",
        "  if i.endswith('BIO12'):\n",
        "    name = i\n",
        "    ds = rasterio.open(path + i + ext, 'r')\n",
        "    data = ds.read()\n",
        "    max = np.nanmax(data)\n",
        "    min = np.nanmin(data)\n",
        "    tpa_belize.append((name, ds, data, min, max))\n",
        "  else:\n",
        "    next\n",
        "\n",
        "tpa_colombia = []\n",
        "for i in Colombia:\n",
        "  if i.endswith('BIO12'):\n",
        "    name = i\n",
        "    ds = rasterio.open(path + i + ext, 'r')\n",
        "    data = ds.read()\n",
        "    max = np.nanmax(data)\n",
        "    min = np.nanmin(data)\n",
        "    tpa_colombia.append((name, ds, data, min, max))\n",
        "  else:\n",
        "    next\n",
        "\n",
        "tpa_belize.sort()\n",
        "tpa_colombia.sort()"
      ],
      "metadata": {
        "id": "KfdGvjHeYje-"
      },
      "execution_count": 12,
      "outputs": []
    },
    {
      "cell_type": "code",
      "source": [
        "# removing zip folder\n",
        "%rm \"clip_tiffWorldclim[Colombia-Belize].zip\"\n",
        "%rm -r \"rasters\""
      ],
      "metadata": {
        "id": "1FOV-cdqXsdZ"
      },
      "execution_count": 13,
      "outputs": []
    },
    {
      "cell_type": "markdown",
      "source": [
        "# **Life Zones Reported** - reclassify"
      ],
      "metadata": {
        "id": "hXZU-EAxbA4V"
      }
    },
    {
      "cell_type": "markdown",
      "source": [
        "## **Holdrige Colombia 2005**\n",
        "\n",
        "| id   | simbolo | zona                            | leyenda              | amt1_c | amt2_c | temperature | pta1_mm | pta2_mm | precipitation | elev1_m | elev2_m | elevation |\n",
        "|------|---------|---------------------------------|----------------------|--------|--------|-------------|---------|---------|---------------|---------|---------|-----------|\n",
        "| 630  | d-T     | Desierto Tropical               | Cálido árido         | 0      | 24     | 15          | 62.5    | 125     | 2             | 0       | 1000    | 21        |\n",
        "| 945  | Md-ST   | Matorral desértico subtropical  | Cálido árido         | 0      | 24     | 15          | 125     | 250     | 3             | 0       | 1000    | 21        |\n",
        "| 1260 | Me-ST   | Monte espinoso subtropical      | Cálido semiárido     | 0      | 24     | 15          | 250     | 500     | 4             | 0       | 1000    | 21        |\n",
        "| 1575 | Bms-T   | Bosque muy seco tropical        | Cálido muy seco      | 0      | 24     | 15          | 500     | 1000    | 5             | 0       | 1000    | 21        |\n",
        "| 2205 | Bs-T    | Bosque seco tropical            | Cálido seco          | 0      | 24     | 15          | 1000    | 2000    | 7             | 0       | 1000    | 21        |\n",
        "| 2835 | Bh-T    | Bosque húmedo tropical          | Cálido húmedo        | 0      | 24     | 15          | 2000    | 4000    | 9             | 0       | 1000    | 21        |\n",
        "| 3465 | Bmh-T   | Bosque muy húmedo tropical      | Cálido muy húmedo    | 0      | 24     | 15          | 4000    | 8000    | 11            | 0       | 1000    | 21        |\n",
        "| 4095 | Bp-T    | Bosque pluvial tropical         | Cálido pluvial       | 0      | 24     | 15          | 8000    |         | 13            | 0       | 1000    | 21        |\n",
        "| 440  | d-PM    | Desierto premontano             | Templado muy seco    | 18     | 24     | 10          | 62.5    | 125     | 2             | 1000    | 2000    | 22        |\n",
        "| 1320 | Md-PM   | Matorral desértico premontano   | Templado muy seco    | 18     | 24     | 20          | 125     | 250     | 3             | 1000    | 2000    | 22        |\n",
        "| 1760 | Me-PM   | Matorral espinoso premontano    | Templado muy seco    | 18     | 24     | 20          | 250     | 500     | 4             | 1000    | 2000    | 22        |\n",
        "| 2200 | Bs-PM   | Bosque seco premontano          | Templado seco        | 18     | 24     | 20          | 500     | 1000    | 5             | 1000    | 2000    | 22        |\n",
        "| 3080 | Bh-PM   | Bosque húmedo premontano        | Templado húmedo      | 18     | 24     | 20          | 1000    | 2000    | 7             | 1000    | 2000    | 22        |\n",
        "| 3960 | Bmh-PM  | Bosque muy húmedo premontano    | Templado muy húmedo  | 18     | 24     | 20          | 2000    | 4000    | 9             | 1000    | 2000    | 22        |\n",
        "| 5280 | Bp-PM   | Bosque pluvial premontano       | Templado pluvial     | 18     | 24     | 20          | 4000    |         | 12            | 1000    | 2000    | 22        |\n",
        "| 874  | d-MB    | Desierto montano bajo           | Frío muy seco        | 12     | 18     | 19          | 62.5    | 125     | 2             | 2000    | 2500    | 23        |\n",
        "| 1311 | Md-MB   | Matorral desértico montano bajo | Frío muy seco        | 12     | 18     | 19          | 125     | 250     | 3             | 2000    | 2500    | 23        |\n",
        "| 1748 | Ee-MB   | Estepa espinosa montano bajo    | Frío muy seco        | 12     | 18     | 19          | 250     | 500     | 4             | 2000    | 2500    | 23        |\n",
        "| 2185 | Bs-Mb   | Bosque seco montano bajo        | Frío seco            | 12     | 18     | 19          | 500     | 1000    | 5             | 2000    | 2500    | 23        |\n",
        "| 3059 | Bh-MB   | Bosque húmedo montano bajo      | Frío húmedo          | 12     | 18     | 19          | 1000    | 2000    | 7             | 2000    | 2500    | 23        |\n",
        "| 3933 | Bmh-MB  | Bosque muy húmedo montano bajo  | Frío muy húmedo      | 12     | 18     | 19          | 2000    | 4000    | 9             | 2000    | 2500    | 23        |\n",
        "| 5244 | Bp-MB   | Bosque pluvial montano bajo     | Frío pluvial         | 12     | 18     | 19          | 4000    |         | 12            | 2000    | 2500    | 23        |\n",
        "| 864  | d-M     | Desierto montano                | Muy frío seco        | 6      | 12     | 18          | 62.5    | 125     | 2             | 2500    | 3000    | 24        |\n",
        "| 1296 | Md-M    | Matorral desértico montano      | Muy frío seco        | 6      | 12     | 18          | 125     | 250     | 3             | 2500    | 3000    | 24        |\n",
        "| 1728 | e-M     | Estepa montana                  | Muy frío seco        | 6      | 12     | 18          | 250     | 500     | 4             | 2500    | 3000    | 24        |\n",
        "| 2160 | Bh-M    | Bosque húmedo montano           | Muy frío húmedo      | 6      | 12     | 18          | 500     | 1000    | 5             | 2500    | 3000    | 24        |\n",
        "| 3024 | Bmh-M   | Bosque muy húmedo montano       | Muy frío muy húmedo  | 6      | 12     | 18          | 1000    | 2000    | 7             | 2500    | 3000    | 24        |\n",
        "| 4320 | Bp-M    | Bosque pluvial montano          | Muy frío pluvial     | 6      | 12     | 18          | 2000    |         | 10            | 2500    | 3000    | 24        |\n",
        "| 850  | d-SA    | Desierto subalpino              | Subpáramo muy seco   | 3      | 6      | 17          | 62.5    | 125     | 2             | 3000    | 3500    | 25        |\n",
        "| 1275 | Md-SA   | Matorral desértico subalpino    | Subpáramo seco       | 3      | 6      | 17          | 125     | 250     | 3             | 3000    | 3500    | 25        |\n",
        "| 1700 | Mh-SA   | Monte húmedo subalpino          | Subpáramo húmedo     | 3      | 6      | 17          | 250     | 500     | 4             | 3000    | 3500    | 25        |\n",
        "| 2125 | p-SA    | Páramo subalpino                | Subpáramo muy húmedo | 3      | 6      | 17          | 500     | 1000    | 5             | 3000    | 3500    | 25        |\n",
        "| 3400 | Pp-SA   | Páramo pluvial subalpino        | Subpáramo pluvial    | 3      | 6      | 17          | 1000    |         | 8             | 3000    | 3500    | 25        |\n",
        "| 832  | Ts-A    | Tundra seca alpina              | Páramo seco          | 1.5    | 3      | 16          | 62.5    | 125     | 2             | 3500    | 4500    | 26        |\n",
        "| 1248 | Th-A    | Tundra húmeda alpina            | Páramo húmedo        | 1.5    | 3      | 16          | 125     | 250     | 3             | 3500    | 4500    | 26        |\n",
        "| 1664 | Tmh-A   | Tundra muy húmeda alpina        | Páramo muy húmedo    | 1.5    | 3      | 16          | 250     | 500     | 4             | 3500    | 4500    | 26        |\n",
        "| 2496 | Tp-A    | Tundra pluvial                  | Páramo pluvial       | 1.5    | 3      | 16          | 500     |         | 6             | 3500    | 4500    | 26        |\n",
        "| 378  | N       | Nieve                           | Nival                | 0      | 1.5    | 14          | 0       |         | 1             | 4500    |         | 27        |"
      ],
      "metadata": {
        "id": "nj-QEPxOM4MX"
      }
    },
    {
      "cell_type": "markdown",
      "source": [
        "## Holdrigde COlombia 2011\n",
        "\n",
        "| code | tipo de bosque                 | id     | elev_1 | elev_2 | elevation | amt_1 | amt_2 | temperature | tpa_1 | tpa_2 | precipitation | ecuación alométrica |\n",
        "|------|--------------------------------|--------|--------|--------|-----------|-------|-------|-------------|-------|-------|---------------|---------------------|\n",
        "| 45   | Bosque muy seco tropical       | bms-T  | 0      | 800    | 1         | 0     | 24    | 5           | 500   | 1000  | 9             | 1                   |\n",
        "| 50   | Bosque seco tropical           | bs-T   | 0      | 800    | 1         | 0     | 24    | 5           | 1000  | 2000  | 10            | 1                   |\n",
        "| 55   | Bosque húmedo tropical         | bh-T   | 0      | 800    | 1         | 0     | 24    | 5           | 2000  | 4000  | 11            | 2                   |\n",
        "| 65   | Bosque muy húmedo tropical     | bmh-T  | 0      | 800    | 1         | 0     | 24    | 5           | 4000  | 8000  | 13            | 2                   |\n",
        "| 75   | Bosque pluvial tropical        | bp-T   | 0      | 800    | 1         | 0     | 24    | 5           | 8000  |       | 15            | 3                   |\n",
        "| 126  | Bosque seco premontano         | bs-PM  | 800    | 1800   | 2         | 18    | 24    | 7           | 500   | 1000  | 9             | 4                   |\n",
        "| 160  | Bosque húmedo premontano       | bh-PM  | 800    | 1800   | 2         | 18    | 24    | 8           | 1000  | 2000  | 10            | 4                   |\n",
        "| 176  | Bosque muy húmedo premontano   | bmh-PM | 800    | 1800   | 2         | 18    | 24    | 8           | 2000  | 4000  | 11            | 4                   |\n",
        "| 224  | Bosque pluvial premontano      | bp-PM  | 800    | 1800   | 2         | 18    | 24    | 8           | 4000  |       | 14            | 4                   |\n",
        "| 189  | Bosque seco montano bajo       | bs-MB  | 1800   | 2800   | 3         | 12    | 18    | 7           | 500   | 1000  | 9             | 5                   |\n",
        "| 210  | Bosque húmedo montano bajo     | bh-MB  | 1800   | 2800   | 3         | 12    | 18    | 7           | 1000  | 2000  | 10            | 5                   |\n",
        "| 231  | Bosque muy húmedo montano bajo | bmh-MB | 1800   | 2800   | 3         | 12    | 18    | 7           | 2000  | 4000  | 11            | 5                   |\n",
        "| 294  | Bosque pluvial montano bajo    | bp-MB  | 1800   | 2800   | 3         | 12    | 18    | 7           | 4000  |       | 14            | 5                   |\n",
        "| 216  | Bosque húmedo montano          | bh-M   | 2800   | 3700   | 4         | 6     | 12    | 6           | 500   | 1000  | 9             | 6                   |\n",
        "| 240  | Bosque muy húmedo montano      | bmh-M  | 2800   | 3700   | 4         | 6     | 12    | 6           | 1000  | 2000  | 10            | 6                   |\n",
        "| 288  | Bosque pluvial montano         | bp-M   | 2800   | 3700   | 4         | 6     | 12    | 6           | 2000  |       | 12            | 6                   |"
      ],
      "metadata": {
        "id": "ozu-vB1Gaubd"
      }
    },
    {
      "cell_type": "code",
      "source": [
        "# Working with Holdrigde 2005\n",
        "hold = pd.read_csv('https://raw.githubusercontent.com/yodavo/moja-global-analysis/main/2021-12-16_Task2-Holdrigde/dataset/holdrigde_Colombia(2005).csv',\n",
        "                   na_values = '')\n",
        "\n",
        "# creating dataframes to compare\n",
        "precipitation = hold[['pta1_mm', 'pta2_mm', 'precipitation']].copy().sort_values(by='pta2_mm').drop_duplicates(subset='precipitation').sort_values(by='pta1_mm').reset_index(drop=True).values.tolist()\n",
        "temperature = hold[['amt1_c', 'amt2_c', 'temperature']].copy().drop_duplicates(subset='temperature').sort_values(by='amt2_c').sort_values(by='amt1_c').reset_index(drop=True).reset_index(drop=True).values.tolist()\n",
        "elevation = hold[['elev1_m', 'elev2_m', 'elevation']].copy().sort_values(by='elevation').drop_duplicates(subset='elevation').sort_values(by='elev1_m').reset_index(drop=True).reset_index(drop=True).values.tolist()"
      ],
      "metadata": {
        "id": "9jn_I_z9a8i2"
      },
      "execution_count": 14,
      "outputs": []
    },
    {
      "cell_type": "code",
      "source": [
        "# function to reclassify the arrays/rasters (precipitationa and elevation)\n",
        "def array_clean(array_change, lista):\n",
        "  array = array_change.copy()\n",
        "  for i in lista:\n",
        "    p1, p2, value = i\n",
        "    if (p1 == 0.0) & (np.isnan(p2)):\n",
        "      array[np.where((array == 0))] = value\n",
        "    elif np.isnan(p2):\n",
        "      array[np.where((array >= p1))] = value\n",
        "    else:\n",
        "      array[np.where((array >= p1) & (array <= p2))] = value\n",
        "  return array\n",
        "\n",
        "# function to reclassify the arrays/rasters (temperature)\n",
        "def array_cleant(array_change, lista):\n",
        "  array = array_change.copy()\n",
        "  for i in lista:\n",
        "    p1, p2, value = i\n",
        "    array = np.where((array >= p1) & (array <= p2), value, array)\n",
        "  return array"
      ],
      "metadata": {
        "id": "hilwoTlpicT2"
      },
      "execution_count": 73,
      "outputs": []
    },
    {
      "cell_type": "code",
      "source": [
        "# reclassifiying tpa (precipitation)\n",
        "print('Precipitation array :', tpa_colombia[1][0])\n",
        "tpaCol_30 = tpa_colombia[1][2].copy()\n",
        "tpa = array_clean(tpaCol_30, precipitation)"
      ],
      "metadata": {
        "colab": {
          "base_uri": "https://localhost:8080/"
        },
        "id": "B_frxkNfibVV",
        "outputId": "a05e00a2-94df-44c6-a21e-3017a2624137"
      },
      "execution_count": 16,
      "outputs": [
        {
          "output_type": "stream",
          "name": "stdout",
          "text": [
            "Precipitation array : Colombia-BioClim30s_BIO12\n"
          ]
        }
      ]
    },
    {
      "cell_type": "code",
      "source": [
        "# reclasifying amt (temperature)\n",
        "print('Temperature array :', amt_colombia[1][0])\n",
        "# temperature.pop() # due higher than 24\n",
        "amteCol_30 = amt_colombia[1][2].copy()\n",
        "amt = []\n",
        "ai = amteCol_30.copy()\n",
        "\n",
        "ai[np.where((ai >= 3) & (ai <= 6))] = 12\n",
        "# ai[np.where((ai >= 6) & (ai <= 12))] = 13\n",
        "# ai[np.where((ai >= 12) & (ai <= 18))] = 14\n",
        "\n",
        "\n",
        "\n",
        "\n",
        "\n",
        "# amt = array_clean(amteCol_30, temperature)"
      ],
      "metadata": {
        "colab": {
          "base_uri": "https://localhost:8080/"
        },
        "id": "P_jDvjbubSac",
        "outputId": "9c0af34d-af8a-4350-a828-776087012b09"
      },
      "execution_count": 96,
      "outputs": [
        {
          "output_type": "stream",
          "name": "stdout",
          "text": [
            "Temperature array : Colombia-BioClim30s_BIO2\n"
          ]
        }
      ]
    },
    {
      "cell_type": "code",
      "source": [
        "np.nanmin(ai) ## where this number come from?"
      ],
      "metadata": {
        "colab": {
          "base_uri": "https://localhost:8080/"
        },
        "id": "rnBNHowW9S4S",
        "outputId": "1297dfed-1958-497b-a825-3af36ec178d4"
      },
      "execution_count": 97,
      "outputs": [
        {
          "output_type": "execute_result",
          "data": {
            "text/plain": [
              "6.008333"
            ]
          },
          "metadata": {},
          "execution_count": 97
        }
      ]
    },
    {
      "cell_type": "code",
      "source": [
        "# reclasifying elev (elevation)\n",
        "print('Elevation array :', elev_colombia[1][0])\n",
        "elevCol_30 = elev_colombia[1][2].copy()\n",
        "elevCol_30[np.where((elevCol_30 < 0))] = 0 # correction\n",
        "ele = array_clean(elevCol_30, elevation)"
      ],
      "metadata": {
        "colab": {
          "base_uri": "https://localhost:8080/"
        },
        "id": "ZrMgonQ4tQnU",
        "outputId": "4d8d8aff-f055-4aa9-9816-d5627cd018f4"
      },
      "execution_count": 84,
      "outputs": [
        {
          "output_type": "stream",
          "name": "stdout",
          "text": [
            "Elevation array : Colombia_WC2.1_30S_ELEV\n"
          ]
        }
      ]
    },
    {
      "cell_type": "code",
      "source": [
        "## Print confirmation\n",
        "print(f'Precipitation original:\\t min: {np.nanmin(tpaCol_30):.2f}\\tmax: {np.nanmax(tpaCol_30):.2f}\\tshape:{tpaCol_30.shape}')\n",
        "print(f'Precipitation modified:\\t min: {np.nanmin(tpa):.2f}\\tmax: {np.nanmax(tpa):.2f}\\tshape:{tpaCol_30.shape}')\n",
        "print()\n",
        "print(f'Temperature original:\\t min: {np.nanmin(amteCol_30):.2f}\\tmax: {np.nanmax(amteCol_30):.2f}\\tshape:{amteCol_30.shape}')\n",
        "print(f'Temperature modified:\\t min: {np.nanmin(amt):.2f}\\tmax: {np.nanmax(amt):.2f}\\tshape:{amt.shape}')\n",
        "print()\n",
        "print(f'Elevation original:\\t min: {np.nanmin(elevCol_30):.2f}\\tmax: {np.nanmax(elevCol_30):.2f}\\tshape:{elevCol_30.shape}')\n",
        "print(f'Elevation modified:\\t min: {np.nanmin(ele):.2f}\\tmax: {np.nanmax(ele):.2f}\\tshape:{ele.shape}')"
      ],
      "metadata": {
        "colab": {
          "base_uri": "https://localhost:8080/"
        },
        "id": "tvT6X84ht5wl",
        "outputId": "6e9c5543-f743-42a6-dd7d-0668236b21c1"
      },
      "execution_count": 85,
      "outputs": [
        {
          "output_type": "stream",
          "name": "stdout",
          "text": [
            "Precipitation original:\t min: 283.00\tmax: 8029.00\tshape:(1, 2008, 1454)\n",
            "Precipitation modified:\t min: 4.00\tmax: 9.00\tshape:(1, 2008, 1454)\n",
            "\n",
            "Temperature original:\t min: 5.72\tmax: 13.11\tshape:(1, 2008, 1454)\n",
            "Temperature modified:\t min: 14.00\tmax: 14.00\tshape:(1, 2008, 1454)\n",
            "\n",
            "Elevation original:\t min: 0.00\tmax: 5463.00\tshape:(1, 2008, 1454)\n",
            "Elevation modified:\t min: 17.00\tmax: 23.00\tshape:(1, 2008, 1454)\n"
          ]
        }
      ]
    },
    {
      "cell_type": "markdown",
      "source": [
        "np where not working for temperature"
      ],
      "metadata": {
        "id": "9LvNEtnh911v"
      }
    }
  ]
}