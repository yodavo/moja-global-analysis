{
  "nbformat": 4,
  "nbformat_minor": 0,
  "metadata": {
    "colab": {
      "name": "lifezones.ipynb",
      "provenance": [],
      "authorship_tag": "ABX9TyNtua6N5xqifT8tNNvbBY5X",
      "include_colab_link": true
    },
    "kernelspec": {
      "name": "python3",
      "display_name": "Python 3"
    },
    "language_info": {
      "name": "python"
    }
  },
  "cells": [
    {
      "cell_type": "markdown",
      "metadata": {
        "id": "view-in-github",
        "colab_type": "text"
      },
      "source": [
        "<a href=\"https://colab.research.google.com/github/yodavo/moja-global-analysis/blob/main/2021-12-16_Task2-Holdrigde/lifezones.ipynb\" target=\"_parent\"><img src=\"https://colab.research.google.com/assets/colab-badge.svg\" alt=\"Open In Colab\"/></a>"
      ]
    },
    {
      "cell_type": "code",
      "source": [
        "# Install GDAL and Geopandas\n",
        "!apt install gdal-bin python-gdal python3-gdal -q\n",
        "!apt install python3-rtree -q\n",
        "!pip install geopandas -q\n",
        "!pip install descartes -q\n",
        "\n",
        "# Folium \n",
        "!pip install folium -q\n",
        "\n",
        "# for rasters\n",
        "!pip install Rasterio -q\n",
        "!pip install rasterstats -q\n",
        "!pip install georasters -q\n",
        "\n",
        "# Install Pysal - Spatial Statistics\n",
        "!pip install pysal -q\n",
        "!pip install splot -q"
      ],
      "metadata": {
        "id": "dsefdQBDGfpQ"
      },
      "execution_count": null,
      "outputs": []
    },
    {
      "cell_type": "code",
      "source": [
        "import os, zipfile, glob\n",
        "import rasterio,  gdal\n",
        "import geopandas as gpd\n",
        "import rasterstats\n",
        "import numpy as np\n",
        "from rasterio.plot import show\n",
        "from rasterio.plot import show_hist\n",
        "from matplotlib import pyplot as plt"
      ],
      "metadata": {
        "id": "9ZgWt8H1G6nP"
      },
      "execution_count": 98,
      "outputs": []
    },
    {
      "cell_type": "code",
      "source": [
        "# get the information in the zip file\n",
        "# with zipfile.ZipFile('clip_tiffWorldclim[Colombia-Belize].zip', 'r') as temp:\n",
        "#   temp.extractall(\"rasters\")\n",
        "\n",
        "# removing zip folder\n",
        "# %rm \"clip_tiffWorldclim[Colombia-Belize].zip\"\n",
        "\n",
        "# path to the folder\n",
        "files = glob.glob(os.path.join('/content/rasters', '*tif'))\n",
        "\n",
        "###### list of tiff files ######\n",
        "# Rename and arrange the information\n",
        "names = [i[i.rfind('/')+1:-4] for i in files]\n",
        "\n",
        "# joining metadata\n",
        "tiffs = list(zip(names, [rasterio.open(f, 'r') for f in files]))\n",
        "tiffs.sort(key=lambda x:x[0])"
      ],
      "metadata": {
        "id": "WtzoMidOPtzo"
      },
      "execution_count": 125,
      "outputs": []
    },
    {
      "cell_type": "code",
      "source": [
        "fig, (ax1, ax2) = plt.subplots(1,2, figsize=(10, 8))\n",
        "prueba = tiffs[8]\n",
        "show(prueba[1], ax=ax1, title = prueba[0])\n",
        "show_hist(prueba[1], title='Histogram for ' + prueba[0], ax=ax2)\n",
        "plt.show()"
      ],
      "metadata": {
        "colab": {
          "base_uri": "https://localhost:8080/",
          "height": 513
        },
        "id": "OCdpGDo0RSdh",
        "outputId": "1a81b95f-eac4-4767-9958-d80b54e6d1d5"
      },
      "execution_count": 40,
      "outputs": [
        {
          "output_type": "display_data",
          "data": {
            "image/png": "[encoded data removed]",
            "text/plain": [
              "<Figure size 720x576 with 2 Axes>"
            ]
          },
          "metadata": {
            "needs_background": "light"
          }
        }
      ]
    },
    {
      "cell_type": "code",
      "source": [
        "prueba[1].meta"
      ],
      "metadata": {
        "colab": {
          "base_uri": "https://localhost:8080/"
        },
        "id": "uQ9kxlsbTm-Y",
        "outputId": "cde5ea99-17ec-44a3-e188-4099d0de2c0c"
      },
      "execution_count": 45,
      "outputs": [
        {
          "output_type": "execute_result",
          "data": {
            "text/plain": [
              "{'count': 1,\n",
              " 'crs': CRS.from_epsg(4326),\n",
              " 'driver': 'GTiff',\n",
              " 'dtype': 'float32',\n",
              " 'height': 100,\n",
              " 'nodata': nan,\n",
              " 'transform': Affine(0.16595355308285561, 0.0, -78.99093522817104,\n",
              "       0.0, -0.16735490112371637, 12.437303168177309),\n",
              " 'width': 73}"
            ]
          },
          "metadata": {},
          "execution_count": 45
        }
      ]
    },
    {
      "cell_type": "code",
      "source": [
        "prueba[1].nodata"
      ],
      "metadata": {
        "colab": {
          "base_uri": "https://localhost:8080/"
        },
        "id": "DEKJuIlwTv6a",
        "outputId": "7aa15f05-f9f3-4a09-cb38-7d492ac35cfe"
      },
      "execution_count": 47,
      "outputs": [
        {
          "output_type": "execute_result",
          "data": {
            "text/plain": [
              "nan"
            ]
          },
          "metadata": {},
          "execution_count": 47
        }
      ]
    },
    {
      "cell_type": "code",
      "source": [
        "prueba[1].transform"
      ],
      "metadata": {
        "colab": {
          "base_uri": "https://localhost:8080/"
        },
        "id": "W3wUcLGiT1F9",
        "outputId": "6d4b9f6e-bee2-4f4a-fd0f-d1857d498c8f"
      },
      "execution_count": 49,
      "outputs": [
        {
          "output_type": "execute_result",
          "data": {
            "text/plain": [
              "Affine(0.16595355308285561, 0.0, -78.99093522817104,\n",
              "       0.0, -0.16735490112371637, 12.437303168177309)"
            ]
          },
          "metadata": {},
          "execution_count": 49
        }
      ]
    },
    {
      "cell_type": "code",
      "source": [
        "# Assign raster values to nmpy nd arrray\n",
        "prueba2 = prueba[1].read()\n",
        "prueba2"
      ],
      "metadata": {
        "colab": {
          "base_uri": "https://localhost:8080/"
        },
        "id": "XPuf11-iPtvD",
        "outputId": "2a8ea905-3fa8-4956-800d-bad2b46ebc8f"
      },
      "execution_count": 55,
      "outputs": [
        {
          "output_type": "execute_result",
          "data": {
            "text/plain": [
              "array([[[nan, nan, nan, ..., nan, nan, nan],\n",
              "        [nan, nan, nan, ..., nan, nan, nan],\n",
              "        [nan, nan, nan, ..., nan, nan, nan],\n",
              "        ...,\n",
              "        [nan, nan, nan, ..., nan, nan, nan],\n",
              "        [nan, nan, nan, ..., nan, nan, nan],\n",
              "        [nan, nan, nan, ..., nan, nan, nan]]], dtype=float32)"
            ]
          },
          "metadata": {},
          "execution_count": 55
        }
      ]
    },
    {
      "cell_type": "markdown",
      "source": [
        "# prueba con gdal"
      ],
      "metadata": {
        "id": "yFoBT3j2fGGc"
      }
    },
    {
      "cell_type": "code",
      "source": [
        "gtiffs = list(zip(names, [gdal.Open(f) for f in files]))\n",
        "gtiffs.sort(key=lambda x:x[0])\n",
        "gtiffs"
      ],
      "metadata": {
        "colab": {
          "base_uri": "https://localhost:8080/"
        },
        "id": "NVspItZdc8V2",
        "outputId": "f1cb81c7-e335-44da-ff53-8a91d09eb7af"
      },
      "execution_count": 126,
      "outputs": [
        {
          "output_type": "execute_result",
          "data": {
            "text/plain": [
              "[('Belize-BioClim10_BIO12',\n",
              "  <osgeo.gdal.Dataset; proxy of <Swig Object of type 'GDALDatasetShadow *' at 0x7f1b52832450> >),\n",
              " ('Belize-BioClim10_BIO2',\n",
              "  <osgeo.gdal.Dataset; proxy of <Swig Object of type 'GDALDatasetShadow *' at 0x7f1b527a3b10> >),\n",
              " ('Belize-BioClim2_5_BIO12',\n",
              "  <osgeo.gdal.Dataset; proxy of <Swig Object of type 'GDALDatasetShadow *' at 0x7f1b527a3a80> >),\n",
              " ('Belize-BioClim2_5_BIO2',\n",
              "  <osgeo.gdal.Dataset; proxy of <Swig Object of type 'GDALDatasetShadow *' at 0x7f1b52832840> >),\n",
              " ('Belize-BioClim30s_BIO12',\n",
              "  <osgeo.gdal.Dataset; proxy of <Swig Object of type 'GDALDatasetShadow *' at 0x7f1b6ad73390> >),\n",
              " ('Belize-BioClim30s_BIO2',\n",
              "  <osgeo.gdal.Dataset; proxy of <Swig Object of type 'GDALDatasetShadow *' at 0x7f1b52832750> >),\n",
              " ('Belize-BioClim5_BIO12',\n",
              "  <osgeo.gdal.Dataset; proxy of <Swig Object of type 'GDALDatasetShadow *' at 0x7f1b528324e0> >),\n",
              " ('Belize-BioClim5_BIO2',\n",
              "  <osgeo.gdal.Dataset; proxy of <Swig Object of type 'GDALDatasetShadow *' at 0x7f1b528328d0> >),\n",
              " ('Colombia-BioClim10_BIO12',\n",
              "  <osgeo.gdal.Dataset; proxy of <Swig Object of type 'GDALDatasetShadow *' at 0x7f1b527a3120> >),\n",
              " ('Colombia-BioClim10_BIO2',\n",
              "  <osgeo.gdal.Dataset; proxy of <Swig Object of type 'GDALDatasetShadow *' at 0x7f1b527a3ba0> >),\n",
              " ('Colombia-BioClim2_5_BIO12',\n",
              "  <osgeo.gdal.Dataset; proxy of <Swig Object of type 'GDALDatasetShadow *' at 0x7f1b6ad73480> >),\n",
              " ('Colombia-BioClim2_5_BIO2',\n",
              "  <osgeo.gdal.Dataset; proxy of <Swig Object of type 'GDALDatasetShadow *' at 0x7f1b52832e10> >),\n",
              " ('Colombia-BioClim30s_BIO12',\n",
              "  <osgeo.gdal.Dataset; proxy of <Swig Object of type 'GDALDatasetShadow *' at 0x7f1b52832960> >),\n",
              " ('Colombia-BioClim30s_BIO2',\n",
              "  <osgeo.gdal.Dataset; proxy of <Swig Object of type 'GDALDatasetShadow *' at 0x7f1b527a38a0> >),\n",
              " ('Colombia-BioClim5_BIO12',\n",
              "  <osgeo.gdal.Dataset; proxy of <Swig Object of type 'GDALDatasetShadow *' at 0x7f1b527a3f00> >),\n",
              " ('Colombia-BioClim5_BIO2',\n",
              "  <osgeo.gdal.Dataset; proxy of <Swig Object of type 'GDALDatasetShadow *' at 0x7f1b527a3d80> >)]"
            ]
          },
          "metadata": {},
          "execution_count": 126
        }
      ]
    },
    {
      "cell_type": "code",
      "source": [
        "files[1] == files[2]"
      ],
      "metadata": {
        "colab": {
          "base_uri": "https://localhost:8080/"
        },
        "id": "rHcL4ThYsclt",
        "outputId": "4ea1626e-c281-4786-c5a4-ac9501ef0ed8"
      },
      "execution_count": 121,
      "outputs": [
        {
          "output_type": "execute_result",
          "data": {
            "text/plain": [
              "False"
            ]
          },
          "metadata": {},
          "execution_count": 121
        }
      ]
    },
    {
      "cell_type": "code",
      "source": [
        "prueba = gtiffs[4][1]\n",
        "print(gtiffs[4][0], ' Temperature')\n",
        "# print(gtiffs[0][0], ' Precipitation')"
      ],
      "metadata": {
        "colab": {
          "base_uri": "https://localhost:8080/"
        },
        "id": "eSSOWQJXfIE5",
        "outputId": "fc809bd8-0418-455e-8765-94442db86ce9"
      },
      "execution_count": 127,
      "outputs": [
        {
          "output_type": "stream",
          "name": "stdout",
          "text": [
            "Belize-BioClim30s_BIO12  Temperature\n"
          ]
        }
      ]
    },
    {
      "cell_type": "markdown",
      "source": [
        "# **Geotransform**\n",
        "A geotransform is an affine transformation from the image coordinate space (row, column), also known as (pixel, line) to the georeferenced coordinate space (projected or geographic coordinates).\\\n",
        "**GT(0)** - x-coordinate of the upper-left corner of the upper-left pixel.\\\n",
        "**GT(1)** - w-e pixel resolution / pixel width.\\\n",
        "**GT(2)** - row rotation (typically zero).\\\n",
        "**GT(3)** - y-coordinate of the upper-left corner of the upper-left pixel.\\\n",
        "**GT(4)** - column rotation (typically zero).\\\n",
        "**GT(5)** - n-s pixel resolution / pixel height (negative value for a north-up image.\\"
      ],
      "metadata": {
        "id": "OmXBQvOQg9FE"
      }
    },
    {
      "cell_type": "code",
      "source": [
        "# get transform ()\n",
        "gt = prueba.GetGeoTransform()\n",
        "gt"
      ],
      "metadata": {
        "colab": {
          "base_uri": "https://localhost:8080/"
        },
        "id": "W1HS_BDSgMlF",
        "outputId": "450e831c-7b73-45cf-cb2f-a6a52183f505"
      },
      "execution_count": 84,
      "outputs": [
        {
          "output_type": "execute_result",
          "data": {
            "text/plain": [
              "(-89.22912167026928,\n",
              " 0.16032982235927104,\n",
              " 0.0,\n",
              " 18.4999822046599,\n",
              " 0.0,\n",
              " -0.16331528981592058)"
            ]
          },
          "metadata": {},
          "execution_count": 84
        }
      ]
    },
    {
      "cell_type": "code",
      "source": [
        "# get projection\n",
        "proj = prueba.GetProjection()\n",
        "proj"
      ],
      "metadata": {
        "colab": {
          "base_uri": "https://localhost:8080/",
          "height": 53
        },
        "id": "8hqZQYnTgMit",
        "outputId": "731b4738-b0df-4705-e04d-140af077465e"
      },
      "execution_count": 85,
      "outputs": [
        {
          "output_type": "execute_result",
          "data": {
            "application/vnd.google.colaboratory.intrinsic+json": {
              "type": "string"
            },
            "text/plain": [
              "'GEOGCS[\"WGS 84\",DATUM[\"WGS_1984\",SPHEROID[\"WGS 84\",6378137,298.257223563,AUTHORITY[\"EPSG\",\"7030\"]],AUTHORITY[\"EPSG\",\"6326\"]],PRIMEM[\"Greenwich\",0],UNIT[\"degree\",0.0174532925199433],AUTHORITY[\"EPSG\",\"4326\"]]'"
            ]
          },
          "metadata": {},
          "execution_count": 85
        }
      ]
    },
    {
      "cell_type": "code",
      "source": [
        "# get raster band\n",
        "band = prueba.GetRasterBand(1)\n",
        "band"
      ],
      "metadata": {
        "colab": {
          "base_uri": "https://localhost:8080/"
        },
        "id": "B8Gcx1PogMgP",
        "outputId": "ce2c569b-a1de-4f23-8dee-3930fb8bd781"
      },
      "execution_count": 94,
      "outputs": [
        {
          "output_type": "execute_result",
          "data": {
            "text/plain": [
              "<osgeo.gdal.Band; proxy of <Swig Object of type 'GDALRasterBandShadow *' at 0x7f1b6a4de2a0> >"
            ]
          },
          "metadata": {},
          "execution_count": 94
        }
      ]
    },
    {
      "cell_type": "code",
      "source": [
        "# create an array from arrays\n",
        "array= band.ReadAsArray()\n",
        "array"
      ],
      "metadata": {
        "colab": {
          "base_uri": "https://localhost:8080/"
        },
        "id": "gFMQJZRNgMdu",
        "outputId": "456fe863-d0cc-4074-89f7-272ad4a41326"
      },
      "execution_count": 134,
      "outputs": [
        {
          "output_type": "execute_result",
          "data": {
            "text/plain": [
              "array([[  nan,   nan,   nan, ...,   nan,   nan,   nan],\n",
              "       [  nan,   nan,   nan, ...,   nan,   nan,   nan],\n",
              "       [  nan,   nan,   nan, ...,   nan,   nan,   nan],\n",
              "       ...,\n",
              "       [3346., 3333., 3333., ...,   nan,   nan,   nan],\n",
              "       [3347., 3331., 3331., ...,   nan,   nan,   nan],\n",
              "       [3327., 3320., 3320., ...,   nan,   nan,   nan]], dtype=float32)"
            ]
          },
          "metadata": {},
          "execution_count": 134
        }
      ]
    },
    {
      "cell_type": "code",
      "source": [
        "from osgeo import gdal\n",
        "import numpy as np\n",
        "import matplotlib.pyplot as plt\n",
        "\n",
        "# import \n",
        "#ds = gdal.Open()\n",
        "ds = prueba\n",
        "gt = ds.GetGeoTransform()\n",
        "proj = ds.GetProjection()\n",
        "\n",
        "band = ds.GetRasterBand(1)\n",
        "array = band.ReadAsArray()\n",
        "\n",
        "plt.figure()\n",
        "plt.imshow(array)\n",
        "plt.show()"
      ],
      "metadata": {
        "colab": {
          "base_uri": "https://localhost:8080/",
          "height": 269
        },
        "id": "oROm1i9_gMbK",
        "outputId": "2a2ddfab-3207-4d7f-e37a-c646c7ec1dc6"
      },
      "execution_count": 133,
      "outputs": [
        {
          "output_type": "display_data",
          "data": {
            "image/png": "[encoded data removed]",
            "text/plain": [
              "<Figure size 432x288 with 1 Axes>"
            ]
          },
          "metadata": {
            "needs_background": "light"
          }
        }
      ]
    },
    {
      "cell_type": "code",
      "source": [
        "# manipulate\n",
        "binmask = np.where((array >= np.mean(array)),1,0)\n",
        "plt.figure()\n",
        "plt.imshow(binmask)\n",
        "plt.show()\n",
        "\n",
        "# export\n",
        "driver = gdal.GetDriverByName(\"GTiff\")\n",
        "driver.Register()\n",
        "outds = driver.Create(\"binmask.tif\", xsize = binmask.shape[1],\n",
        "                      ysize = binmask.shape[0], bands = 1, \n",
        "                      eType = gdal.GDT_Int16)\n",
        "outds.SetGeoTransform(gt)\n",
        "outds.SetProjection(proj)\n",
        "outband = outds.GetRasterBand(1)\n",
        "outband.WriteArray(binmask)\n",
        "outband.SetNoDataValue(np.nan)\n",
        "outband.FlushCache()\n",
        "\n",
        "# close your datasets and bands!!!\n",
        "outband = None\n",
        "outds = None"
      ],
      "metadata": {
        "id": "dDrEhl0R_-L4"
      },
      "execution_count": null,
      "outputs": []
    }
  ]
}