{
  "nbformat": 4,
  "nbformat_minor": 0,
  "metadata": {
    "colab": {
      "name": "lifezones.ipynb",
      "provenance": [],
      "collapsed_sections": [
        "BEGH6bI-2L9c",
        "iBL-kjrTRR07",
        "JHPYYoHKksD0",
        "oyOsQYcvk2NL",
        "WkfZ94rKTb1Z",
        "nsAmR_OgUDAz",
        "yFoBT3j2fGGc",
        "OmXBQvOQg9FE"
      ],
      "authorship_tag": "ABX9TyNs8Guij1K8NPYXCDlke5ki",
      "include_colab_link": true
    },
    "kernelspec": {
      "name": "python3",
      "display_name": "Python 3"
    },
    "language_info": {
      "name": "python"
    }
  },
  "cells": [
    {
      "cell_type": "markdown",
      "metadata": {
        "id": "view-in-github",
        "colab_type": "text"
      },
      "source": [
        "<a href=\"https://colab.research.google.com/github/yodavo/moja-global-analysis/blob/main/2021-12-16_Task2-Holdrigde/lifezones.ipynb\" target=\"_parent\"><img src=\"https://colab.research.google.com/assets/colab-badge.svg\" alt=\"Open In Colab\"/></a>"
      ]
    },
    {
      "cell_type": "code",
      "source": [
        "# Install GDAL and Geopandas\n",
        "!apt install gdal-bin python-gdal python3-gdal -q\n",
        "!apt install python3-rtree -q\n",
        "!pip install geopandas -q\n",
        "!pip install descartes -q\n",
        "\n",
        "# Folium \n",
        "!pip install folium -q\n",
        "\n",
        "# for rasters\n",
        "!pip install Rasterio -q\n",
        "!pip install rasterstats -q\n",
        "!pip install georasters -q\n",
        "\n",
        "# Install Pysal - Spatial Statistics\n",
        "!pip install pysal -q\n",
        "!pip install splot -q"
      ],
      "metadata": {
        "id": "dsefdQBDGfpQ"
      },
      "execution_count": null,
      "outputs": []
    },
    {
      "cell_type": "code",
      "source": [
        "import os, zipfile, glob\n",
        "import rasterio,  gdal\n",
        "import geopandas as gpd\n",
        "import rasterstats\n",
        "import numpy as np\n",
        "from rasterio.plot import show\n",
        "from rasterio.plot import show_hist\n",
        "from matplotlib import pyplot as plt\n",
        "ith zipfile.ZipFile('clip_tiffWorldclim[Colombia-Belize].zip', 'r') as temp:\n",
        "#   temp.extractall(\"rasters\")\n",
        "\n",
        "# # path to the folder\n",
        "# files = \n",
        "import warnings"
      ],
      "metadata": {
        "id": "9ZgWt8H1G6nP",
        "colab": {
          "base_uri": "https://localhost:8080/"
        },
        "outputId": "75207342-f6e0-4212-e03c-716e5774ccf3"
      },
      "execution_count": 2,
      "outputs": [
        {
          "output_type": "stream",
          "name": "stderr",
          "text": [
            "/usr/local/lib/python3.7/dist-packages/geopandas/_compat.py:115: UserWarning: The Shapely GEOS version (3.9.1-CAPI-1.14.2) is incompatible with the GEOS version PyGEOS was compiled with (3.10.1-CAPI-1.16.0). Conversions between both will be slow.\n",
            "  shapely_geos_version, geos_capi_version_string\n"
          ]
        }
      ]
    },
    {
      "cell_type": "markdown",
      "source": [
        "# **Clipping**"
      ],
      "metadata": {
        "id": "BEGH6bI-2L9c"
      }
    },
    {
      "cell_type": "code",
      "source": [
        "# creating folder to store information\n",
        "%mkdir clip_shapefiles\n",
        "%mkdir outcomes\n",
        "# %mkdir geodataframes"
      ],
      "metadata": {
        "id": "V8MwmE4aEZv_"
      },
      "execution_count": 3,
      "outputs": []
    },
    {
      "cell_type": "code",
      "source": [
        "# Function to clip rasters\n",
        "def clip_raster(list_raster, inshp, wordclim_dataset):\n",
        "  ''' Get a clipped raster from the Worldclim data for specified countries:\n",
        "  - list_raster : geotiff fetched from Worldclim\n",
        "  - inshp : path clipped shapefile with the name of the country\n",
        "  - wordclim_dataset: name of the dataset for outraster file name '''\n",
        "  for i in list_raster:\n",
        "    name, raster = i\n",
        "    outraster = '/content/outcomes/' + str(wordclim_dataset) + '_' + str.upper(name) + '.tif'\n",
        "    dsClip = gdal.Warp(outraster, raster, cutlineDSName=inshp, cropToCutline=True, dstNodata=np.nan)\n",
        "    \n",
        "    # visualization\n",
        "    # plt.imshow(dsClip.GetRasterBand(1).ReadAsArray())\n",
        "    # plt.colorbar()\n",
        "    # plt.title(str.capitalize(wordclim_dataset) + ' - ' + str.upper(name))"
      ],
      "metadata": {
        "id": "1jiY91XWJlPI"
      },
      "execution_count": 4,
      "outputs": []
    },
    {
      "cell_type": "markdown",
      "source": [
        "# **Boundaries**"
      ],
      "metadata": {
        "id": "iBL-kjrTRR07"
      }
    },
    {
      "cell_type": "code",
      "source": [
        "# importing the data\n",
        "world_df = gpd.read_file(gpd.datasets.get_path('naturalearth_lowres'))\n",
        "\n",
        "# subseting\n",
        "world_df = world_df[['continent','name', 'iso_a3','geometry']]\n",
        "\n",
        "# croppping boundaries\n",
        "colombia_bd = world_df.loc[world_df.name == 'Colombia', ].reset_index(drop=True)\n",
        "colombia_bd.to_file(\"/content/clip_shapefiles/colombia.shp\")\n",
        "belize_bd = world_df.loc[world_df.name == 'Belize', ].reset_index(drop=True)\n",
        "belize_bd.to_file(\"/content/clip_shapefiles/belize.shp\")\n",
        "\n",
        "# path to shapefiles\n",
        "colombia = '/content/clip_shapefiles/colombia.shp'\n",
        "belize = '/content/clip_shapefiles/belize.shp'"
      ],
      "metadata": {
        "id": "eSdS_ci7ROVN"
      },
      "execution_count": 5,
      "outputs": []
    },
    {
      "cell_type": "markdown",
      "source": [
        "# **Fetching Elevation 2.5m**"
      ],
      "metadata": {
        "id": "JHPYYoHKksD0"
      }
    },
    {
      "cell_type": "code",
      "source": [
        "# fetching elevation geotif form worldclim 2.5m\n",
        "! wget https://biogeo.ucdavis.edu/data/worldclim/v2.1/base/wc2.1_2.5m_elev.zip -q --show-progress\n",
        "with zipfile.ZipFile('wc2.1_2.5m_elev.zip', 'r') as tempm:\n",
        "  tempm.extractall(\"temp\")\n",
        "\n",
        "# path to the folder\n",
        "files = glob.glob(os.path.join('/content/temp', '*tif'))\n",
        "\n",
        "####################### tiff file #################################\n",
        "# Rename and arrange the information\n",
        "name = files[0][files[0].rfind('/')+1 : files[0].rfind('.')]\n",
        "\n",
        "# merging all the metadata\n",
        "tiff_dem2_5 = [(name, gdal.Open(files[0]))]\n",
        "\n",
        "############################ Clippping maps #################################\n",
        "# Colombia\n",
        "clip_raster(tiff_dem2_5, colombia, 'Colombia')\n",
        "\n",
        "# Belize\n",
        "clip_raster(tiff_dem2_5, belize, 'Belize')\n",
        "\n",
        "##################### Removing Cache ################################\n",
        "%rm \"wc2.1_2.5m_elev.zip\"\n",
        "%rm -r \"temp\""
      ],
      "metadata": {
        "id": "kJUWgtJJ2wNO",
        "colab": {
          "base_uri": "https://localhost:8080/"
        },
        "outputId": "33267972-5c58-4999-d8e8-5b995776ea3e"
      },
      "execution_count": 7,
      "outputs": [
        {
          "output_type": "stream",
          "name": "stdout",
          "text": [
            "wc2.1_2.5m_elev.zip 100%[===================>]  16.75M  25.2MB/s    in 0.7s    \n"
          ]
        }
      ]
    },
    {
      "cell_type": "markdown",
      "source": [
        "# **Fetching Elevation 30s**"
      ],
      "metadata": {
        "id": "oyOsQYcvk2NL"
      }
    },
    {
      "cell_type": "code",
      "source": [
        "# fetching elevation geotif form worldclim 30s\n",
        "! wget https://biogeo.ucdavis.edu/data/worldclim/v2.1/base/wc2.1_30s_elev.zip -q --show-progress\n",
        "with zipfile.ZipFile('wc2.1_30s_elev.zip', 'r') as tempm:\n",
        "  tempm.extractall(\"temp\")\n",
        "\n",
        "# path to the folder\n",
        "files = glob.glob(os.path.join('/content/temp', '*tif'))\n",
        "\n",
        "####################### tiff file #################################\n",
        "# Rename and arrange the information\n",
        "name = files[0][files[0].rfind('/')+1 : files[0].rfind('.')]\n",
        "\n",
        "# merging all the metadata\n",
        "tiff_dem30 = [(name, gdal.Open(files[0]))]\n",
        "\n",
        "############################ Clippping maps #################################\n",
        "# Colombia\n",
        "clip_raster(tiff_dem30, colombia, 'Colombia')\n",
        "\n",
        "# Belize\n",
        "clip_raster(tiff_dem30, belize, 'Belize')\n",
        "\n",
        "##################### Removing Cache ################################\n",
        "%rm \"wc2.1_30s_elev.zip\"\n",
        "%rm -r \"temp\"\n"
      ],
      "metadata": {
        "colab": {
          "base_uri": "https://localhost:8080/"
        },
        "id": "VHD05JcsQTIf",
        "outputId": "b972ef93-49d3-4325-ae13-4b3dfe4679c5"
      },
      "execution_count": 8,
      "outputs": [
        {
          "output_type": "stream",
          "name": "stdout",
          "text": [
            "wc2.1_30s_elev.zip  100%[===================>] 322.52M  36.0MB/s    in 9.1s    \n"
          ]
        }
      ]
    },
    {
      "cell_type": "markdown",
      "source": [
        "# **Elevation list** `elev_colombia` - `elev_belize`"
      ],
      "metadata": {
        "id": "WkfZ94rKTb1Z"
      }
    },
    {
      "cell_type": "code",
      "source": [
        "############### Elevation information ################################\n",
        "# path to the folder\n",
        "eleva = glob.glob(os.path.join('/content/outcomes', '*tif'))\n",
        "\n",
        "###### list of tiff files ######\n",
        "# Rename and arrange the information\n",
        "eleva_names = [i[i.rfind('/')+1:-4] for i in eleva]\n",
        "eleva_names.sort()\n",
        "\n",
        "##################### elevations #########################################\n",
        "# Separate datasets (this is pretty redundant)\n",
        "elev_Belize, elev_Colombia = [i for i in eleva_names if i.startswith('Belize')], [i for i in eleva_names if i.startswith('Colombia')]\n",
        "\n",
        "# reading the data\n",
        "pathe, exte = '/content/outcomes/', '.tif'\n",
        "\n",
        "# importing and handling\n",
        "elev_belize = []\n",
        "for i in elev_Belize:\n",
        "  name = i\n",
        "  ds = rasterio.open(pathe + i + exte, 'r')\n",
        "  data = ds.read()\n",
        "  max = np.nanmax(data)\n",
        "  min = np.nanmin(data)\n",
        "  elev_belize.append((name, ds, data, min, max))\n",
        "\n",
        "elev_colombia = []\n",
        "for i in elev_Colombia:\n",
        "  name = i\n",
        "  ds = rasterio.open(pathe + i + exte, 'r')\n",
        "  data = ds.read()\n",
        "  max = np.nanmax(data)\n",
        "  min = np.nanmin(data)\n",
        "  elev_colombia.append((name, ds, data, min, max))"
      ],
      "metadata": {
        "id": "1LaFDVyele0B"
      },
      "execution_count": 23,
      "outputs": []
    },
    {
      "cell_type": "markdown",
      "source": [
        "# **Temperature** `amt_colombia` - `amt_belize`  **and Precipitation list** `tpa_colombia` - `tap_belize` "
      ],
      "metadata": {
        "id": "nsAmR_OgUDAz"
      }
    },
    {
      "cell_type": "markdown",
      "source": [
        "- **AMT** - BIO2 = Mean Diurnal Range (Mean of monthly (max temp - min temp))\n",
        "- **TPA** - BIO12 = Annual Precipitation\n",
        "\n"
      ],
      "metadata": {
        "id": "q_C-4rnWXB3O"
      }
    },
    {
      "cell_type": "code",
      "source": [
        "#########################################################################\n",
        "#################### Manual retrival ####################################\n",
        "#########################################################################\n",
        "\n",
        "# get the information in the zip file\n",
        "with zipfile.ZipFile('clip_tiffWorldclim[Colombia-Belize].zip', 'r') as temp:\n",
        "  temp.extractall(\"rasters\")\n",
        "\n",
        "# path to the folder\n",
        "files = glob.glob(os.path.join('/content/rasters', '*tif'))\n",
        "\n",
        "###### list of tiff files ######\n",
        "# Rename and arrange the information\n",
        "names = [i[i.rfind('/')+1:-4] for i in files]\n",
        "\n",
        "# Separate datasets (this is pretty redundant)\n",
        "belize, colombia = [i for i in names if i.startswith('Belize')], [i for i in names if i.startswith('Colombia')]\n",
        "\n",
        "# It will work only on 2.5s and 30s maps(Columbia 15, Belize 13)\n",
        "Belize, Colombia = [i for i in belize if i[14:16] in ['30', '2_']], [i for i in colombia if i[16:18] in ['30', '2_']]"
      ],
      "metadata": {
        "id": "WtzoMidOPtzo"
      },
      "execution_count": 39,
      "outputs": []
    },
    {
      "cell_type": "code",
      "source": [
        "##################### Rasters temperature ######################################\n",
        "# reading the data\n",
        "path, ext = '/content/rasters/', '.tif'\n",
        "\n",
        "# importing and handling\n",
        "amt_belize = []\n",
        "for i in Belize:\n",
        "  if i.endswith('BIO2'):\n",
        "    name = i\n",
        "    ds = rasterio.open(path + i + ext, 'r')\n",
        "    data = ds.read()\n",
        "    max = np.nanmax(data)\n",
        "    min = np.nanmin(data)\n",
        "    amt_belize.append((name, ds, data, min, max))\n",
        "  else:\n",
        "    next\n",
        "\n",
        "amt_colombia = []\n",
        "for i in Colombia:\n",
        "  if i.endswith('BIO2'):\n",
        "    name = i\n",
        "    ds = rasterio.open(path + i + ext, 'r')\n",
        "    data = ds.read()\n",
        "    max = np.nanmax(data)\n",
        "    min = np.nanmin(data)\n",
        "    amt_colombia.append((name, ds, data, min, max))\n",
        "  else:\n",
        "    next\n",
        "\n",
        "amt_belize.sort()\n",
        "amt_colombia.sort()"
      ],
      "metadata": {
        "id": "lI4AoTm_NRji"
      },
      "execution_count": 40,
      "outputs": []
    },
    {
      "cell_type": "code",
      "source": [
        "##################### Rasters temperature ######################################\n",
        "# reading the data\n",
        "path, ext = '/content/rasters/', '.tif'\n",
        "\n",
        "# importing and handling\n",
        "tpa_belize = []\n",
        "for i in Belize:\n",
        "  if i.endswith('BIO12'):\n",
        "    name = i\n",
        "    ds = rasterio.open(path + i + ext, 'r')\n",
        "    data = ds.read()\n",
        "    max = np.nanmax(data)\n",
        "    min = np.nanmin(data)\n",
        "    tpa_belize.append((name, ds, data, min, max))\n",
        "  else:\n",
        "    next\n",
        "\n",
        "tpa_colombia = []\n",
        "for i in Colombia:\n",
        "  if i.endswith('BIO12'):\n",
        "    name = i\n",
        "    ds = rasterio.open(path + i + ext, 'r')\n",
        "    data = ds.read()\n",
        "    max = np.nanmax(data)\n",
        "    min = np.nanmin(data)\n",
        "    tpa_colombia.append((name, ds, data, min, max))\n",
        "  else:\n",
        "    next\n",
        "\n",
        "tpa_belize.sort()\n",
        "tpa_colombia.sort()"
      ],
      "metadata": {
        "id": "KfdGvjHeYje-"
      },
      "execution_count": 48,
      "outputs": []
    },
    {
      "cell_type": "code",
      "source": [
        "# removing zip folder\n",
        "%rm \"clip_tiffWorldclim[Colombia-Belize].zip\"\n",
        "%rm -r \"rasters\""
      ],
      "metadata": {
        "id": "1FOV-cdqXsdZ"
      },
      "execution_count": 53,
      "outputs": []
    },
    {
      "cell_type": "markdown",
      "source": [
        "# **Life Zones Reported** - value to reclassify\n",
        "\n",
        "- **Precipitación**\\\n",
        "  1) Menos de 1000mm\\\n",
        "  2) 1000mm - 2000mm\\\n",
        "  3) 2000mm - 4000mm\\\n",
        "  4) 4000mm - 8000mm\\\n",
        "  5) Mas de 8000m \\\n",
        "\n",
        "- **Temperatura**\\\n",
        "  6) Menos de 6°C\\\n",
        "  7) 6°C - 12°C\\\n",
        "  8) 12°C - 18°C\\\n",
        "  9) 18°C - 24°C\\\n",
        "  10 Mas de 24°C \\\n",
        "\n",
        "- **Altitud (msnm)**\\\n",
        "  11) 0 - 1000\\\n",
        "  12) 1000 - 2000\\\n",
        "  13) 2000 - 3000\\\n",
        "  14) 3000 - 4000"
      ],
      "metadata": {
        "id": "hXZU-EAxbA4V"
      }
    },
    {
      "cell_type": "markdown",
      "source": [
        "## **Biotemperature** (geeting by product Temperature x Altitude)\n",
        "\n",
        "- **91:** 2000 - 3000 m / 6 - 12°C (Montane Subtropical)\n",
        "- **96:** 1000 - 2000 m / 112 - 18 °C (Lower Montane Subtropical)\n",
        "- **98:** 3000 - 4000 m / 6 -12°C (Montane Tropical)\n",
        "- **99:** 0 - 1000 m / 18 - 24°C (Premontane Tropical)\n",
        "- **104:** 2000 - 3000m / 12 - 18°C (Lower montane tropical)\n",
        "- **108:** 1000 - 2000m / 18 - 24°C (Premontane tropical)\n",
        "- **110:** 0 - 1000m / mas de 24 (Base Tropical)\n"
      ],
      "metadata": {
        "id": "rxCpa0u_hlxA"
      }
    },
    {
      "cell_type": "markdown",
      "source": [
        "# **1. Colombia**"
      ],
      "metadata": {
        "id": "rQqbyvt7SLVI"
      }
    },
    {
      "cell_type": "code",
      "source": [
        "# REVIEW VALUES MAX AND MIN \n",
        "for i in tpa_colombia:\n",
        "  print(f'{i[0]}\\t with max values: {i[3]:.2f} and min values: {i[4]:.2f}')\n",
        "print()\n",
        "for i in amt_colombia:\n",
        "  print(f'{i[0]}\\t with max values: {i[3]:.2f} and min values: {i[4]:.2f}')\n",
        "print()\n",
        "for i in elev_colombia:\n",
        "  print(f'{i[0]}\\t with max values: {i[3]:.2f} and min values: {i[4]:.2f}')"
      ],
      "metadata": {
        "colab": {
          "base_uri": "https://localhost:8080/"
        },
        "id": "JMTvCm5Rc7r_",
        "outputId": "dea793fd-1d77-45aa-de49-e0d2a73fbede"
      },
      "execution_count": 59,
      "outputs": [
        {
          "output_type": "stream",
          "name": "stdout",
          "text": [
            "Colombia-BioClim2_5_BIO12\t with max values: 344.00 and min values: 7312.00\n",
            "Colombia-BioClim30s_BIO12\t with max values: 283.00 and min values: 8029.00\n",
            "\n",
            "Colombia-BioClim2_5_BIO2\t with max values: 6.04 and min values: 12.77\n",
            "Colombia-BioClim30s_BIO2\t with max values: 5.72 and min values: 13.11\n",
            "\n",
            "Colombia_WC2.1_2.5M_ELEV\t with max values: -46.00 and min values: 4834.00\n",
            "Colombia_WC2.1_30S_ELEV\t with max values: -65.00 and min values: 5463.00\n"
          ]
        }
      ]
    },
    {
      "cell_type": "markdown",
      "source": [
        "## **2.5 - Colombia**"
      ],
      "metadata": {
        "id": "qVmo4x3LdtL9"
      }
    },
    {
      "cell_type": "code",
      "source": [
        "# reclassifiying tpa\n",
        "print(tpa_colombia[0][0])\n",
        "tpaCol_2_5 = tpa_colombia[0][2].copy()\n",
        "tpaCol_2_5[np.where((tpaCol_2_5 <= 1000))] = 1\n",
        "tpaCol_2_5[np.where((tpaCol_2_5 >= 1000) & (tpaCol_2_5 <=2000))] = 2\n",
        "tpaCol_2_5[np.where((tpaCol_2_5 >= 2000) & (tpaCol_2_5 <=4000))] = 3\n",
        "tpaCol_2_5[np.where((tpaCol_2_5 >= 4000) & (tpaCol_2_5 <=8000))] = 4\n",
        "# dont have 5"
      ],
      "metadata": {
        "id": "CpiWdF-hegXw",
        "colab": {
          "base_uri": "https://localhost:8080/"
        },
        "outputId": "aa45b38d-ed1c-4b9d-de3c-9d59525a10a2"
      },
      "execution_count": 61,
      "outputs": [
        {
          "output_type": "stream",
          "name": "stdout",
          "text": [
            "Colombia-BioClim2_5_BIO12\n"
          ]
        }
      ]
    },
    {
      "cell_type": "code",
      "source": [
        "# reclasifying amt\n",
        "print(amt_colombia[0][0])\n",
        "amtCol_2_5 = amt_colombia[0][2].copy()\n",
        "# dont have 6\n",
        "amtCol_2_5[np.where((amtCol_2_5 >= 6) & (amtCol_2_5 <=12))] = 7\n",
        "amtCol_2_5[np.where((amtCol_2_5 >= 12) & (amtCol_2_5 <=18))] = 8\n",
        "amtCol_2_5[np.where((amtCol_2_5 >= 18) & (amtCol_2_5 <=24))] = 9\n",
        "# dont have 10"
      ],
      "metadata": {
        "id": "PIaZFCNLkGoF",
        "colab": {
          "base_uri": "https://localhost:8080/"
        },
        "outputId": "07f38000-25dd-4da2-f551-62784516a5f0"
      },
      "execution_count": 62,
      "outputs": [
        {
          "output_type": "stream",
          "name": "stdout",
          "text": [
            "Colombia-BioClim2_5_BIO2\n"
          ]
        }
      ]
    },
    {
      "cell_type": "code",
      "source": [
        "# reclasifying elev\n",
        "print(elev_colombia[0][0])\n",
        "elevCol_2_5 = elev_colombia[0][2].copy()\n",
        "elevCol_2_5[np.where((elevCol_2_5 <= 1000))] = 11\n",
        "elevCol_2_5[np.where((elevCol_2_5 >= 1000) & (elevCol_2_5 <= 2000))] = 12\n",
        "elevCol_2_5[np.where((elevCol_2_5 >= 2000) & (elevCol_2_5 <= 3000))] = 13\n",
        "elevCol_2_5[np.where((elevCol_2_5 >= 3000) & (elevCol_2_5 <= 4000))] = 14\n",
        "elevCol_2_5[np.where((elevCol_2_5 <= 4000))] = 15"
      ],
      "metadata": {
        "id": "2J8juE-tftHs"
      },
      "execution_count": null,
      "outputs": []
    },
    {
      "cell_type": "code",
      "source": [
        "np.nanmax(lista)"
      ],
      "metadata": {
        "colab": {
          "base_uri": "https://localhost:8080/"
        },
        "id": "N195UudTfi2W",
        "outputId": "e4a89657-bd45-410d-d93c-f4645012fbd7"
      },
      "execution_count": 16,
      "outputs": [
        {
          "output_type": "execute_result",
          "data": {
            "text/plain": [
              "4.0"
            ]
          },
          "metadata": {},
          "execution_count": 16
        }
      ]
    },
    {
      "cell_type": "markdown",
      "source": [
        "- **Precipitation**\\\n",
        "  1) Menos de 1000 mm\\\n",
        "  2) 1000 mm - 2000 mm\\\n",
        "  3) 2000 mm - 4000 mm\\\n",
        "  4) 4000 mm - 8000 mm\\\n",
        "  5) Mas de 8000 mm\\\n",
        "\n",
        "- **Temperature**\\\n",
        "  6) Menos de 6°C\\\n",
        "  7) 6 °C - 12 °C\\\n",
        "  8) 12 °C - 18 °C\\\n",
        "  9) 18 °C - 24 °C\\\n",
        "  10) Mas de 24 °C\\\n",
        "\n",
        "- **Altitud (msnm)**\\\n",
        "  11) 0 - 1000\\\n",
        "  12) 1000 - 2000\\\n",
        "  13) 2000 - 3000\\\n",
        "  14) 3000 - 4000\\\n",
        "  "
      ],
      "metadata": {
        "id": "jeFhCltvb23z"
      }
    },
    {
      "cell_type": "markdown",
      "source": [
        "# **2. Belize**"
      ],
      "metadata": {
        "id": "6g0g09QFZdy-"
      }
    },
    {
      "cell_type": "code",
      "source": [
        "for i in belize:\n",
        "  print(f'{i[0]}\\t with max values: {i[3]:.2f} and min values: {i[4]:.2f}')"
      ],
      "metadata": {
        "colab": {
          "base_uri": "https://localhost:8080/"
        },
        "id": "4wVfRlZX1ejx",
        "outputId": "0463356c-3a82-4120-bb1d-ca26f68455b0"
      },
      "execution_count": 17,
      "outputs": [
        {
          "output_type": "stream",
          "name": "stdout",
          "text": [
            "Belize-BioClim2_5_BIO12\t with max values: 1185.00 and min values: 3605.00\n",
            "Belize-BioClim2_5_BIO2\t with max values: 7.49 and min values: 13.01\n",
            "Belize-BioClim30s_BIO12\t with max values: 1181.00 and min values: 3619.00\n",
            "Belize-BioClim30s_BIO2\t with max values: 7.38 and min values: 13.03\n"
          ]
        }
      ]
    },
    {
      "cell_type": "code",
      "source": [
        "# getting array\n",
        "array_belize = []\n",
        "for i in belize:\n",
        "  name, geotiff = i\n",
        "  array = geotiff.read()\n",
        "  array_belize.append((name, geotiff, array))"
      ],
      "metadata": {
        "id": "wZdhGT8OVlw8",
        "colab": {
          "base_uri": "https://localhost:8080/",
          "height": 234
        },
        "outputId": "d07a7871-8e70-463f-bd19-2163099121b2"
      },
      "execution_count": 18,
      "outputs": [
        {
          "output_type": "error",
          "ename": "ValueError",
          "evalue": "ignored",
          "traceback": [
            "\u001b[0;31m---------------------------------------------------------------------------\u001b[0m",
            "\u001b[0;31mValueError\u001b[0m                                Traceback (most recent call last)",
            "\u001b[0;32m<ipython-input-18-83ba65038d67>\u001b[0m in \u001b[0;36m<module>\u001b[0;34m()\u001b[0m\n\u001b[1;32m      2\u001b[0m \u001b[0marray_belize\u001b[0m \u001b[0;34m=\u001b[0m \u001b[0;34m[\u001b[0m\u001b[0;34m]\u001b[0m\u001b[0;34m\u001b[0m\u001b[0;34m\u001b[0m\u001b[0m\n\u001b[1;32m      3\u001b[0m \u001b[0;32mfor\u001b[0m \u001b[0mi\u001b[0m \u001b[0;32min\u001b[0m \u001b[0mbelize\u001b[0m\u001b[0;34m:\u001b[0m\u001b[0;34m\u001b[0m\u001b[0;34m\u001b[0m\u001b[0m\n\u001b[0;32m----> 4\u001b[0;31m   \u001b[0mname\u001b[0m\u001b[0;34m,\u001b[0m \u001b[0mgeotiff\u001b[0m \u001b[0;34m=\u001b[0m \u001b[0mi\u001b[0m\u001b[0;34m\u001b[0m\u001b[0;34m\u001b[0m\u001b[0m\n\u001b[0m\u001b[1;32m      5\u001b[0m   \u001b[0marray\u001b[0m \u001b[0;34m=\u001b[0m \u001b[0mgeotiff\u001b[0m\u001b[0;34m.\u001b[0m\u001b[0mread\u001b[0m\u001b[0;34m(\u001b[0m\u001b[0;34m)\u001b[0m\u001b[0;34m\u001b[0m\u001b[0;34m\u001b[0m\u001b[0m\n\u001b[1;32m      6\u001b[0m   \u001b[0marray_belize\u001b[0m\u001b[0;34m.\u001b[0m\u001b[0mappend\u001b[0m\u001b[0;34m(\u001b[0m\u001b[0;34m(\u001b[0m\u001b[0mname\u001b[0m\u001b[0;34m,\u001b[0m \u001b[0mgeotiff\u001b[0m\u001b[0;34m,\u001b[0m \u001b[0marray\u001b[0m\u001b[0;34m)\u001b[0m\u001b[0;34m)\u001b[0m\u001b[0;34m\u001b[0m\u001b[0;34m\u001b[0m\u001b[0m\n",
            "\u001b[0;31mValueError\u001b[0m: too many values to unpack (expected 2)"
          ]
        }
      ]
    },
    {
      "cell_type": "code",
      "source": [
        "for i in range(1,len(tiffs)):\n",
        "  fig, (ax1, ax2) = plt.subplots(1,2, figsize=(10, 8))\n",
        "  prueba = tiffs[i]\n",
        "  show(prueba[1], ax=ax1, title = prueba[0])\n",
        "  show_hist(prueba[1], title='Histogram for ' + prueba[0], ax=ax2)\n",
        "  plt.show()"
      ],
      "metadata": {
        "id": "OCdpGDo0RSdh"
      },
      "execution_count": null,
      "outputs": []
    },
    {
      "cell_type": "code",
      "source": [
        "prueba[1].meta"
      ],
      "metadata": {
        "id": "uQ9kxlsbTm-Y"
      },
      "execution_count": null,
      "outputs": []
    },
    {
      "cell_type": "code",
      "source": [
        "prueba[1].nodata"
      ],
      "metadata": {
        "id": "DEKJuIlwTv6a"
      },
      "execution_count": null,
      "outputs": []
    },
    {
      "cell_type": "code",
      "source": [
        "prueba[1].transform"
      ],
      "metadata": {
        "id": "W3wUcLGiT1F9"
      },
      "execution_count": null,
      "outputs": []
    },
    {
      "cell_type": "code",
      "source": [
        "# Assign raster values to nmpy nd arrray\n",
        "prueba2 = prueba[1].read()\n",
        "prueba2"
      ],
      "metadata": {
        "id": "XPuf11-iPtvD"
      },
      "execution_count": null,
      "outputs": []
    },
    {
      "cell_type": "markdown",
      "source": [
        "# prueba con gdal"
      ],
      "metadata": {
        "id": "yFoBT3j2fGGc"
      }
    },
    {
      "cell_type": "code",
      "source": [
        "gtiffs = list(zip(names, [gdal.Open(f) for f in files]))\n",
        "gtiffs.sort(key=lambda x:x[0])\n",
        "gtiffs"
      ],
      "metadata": {
        "id": "NVspItZdc8V2"
      },
      "execution_count": null,
      "outputs": []
    },
    {
      "cell_type": "code",
      "source": [
        "files[1] == files[2]"
      ],
      "metadata": {
        "id": "rHcL4ThYsclt"
      },
      "execution_count": null,
      "outputs": []
    },
    {
      "cell_type": "code",
      "source": [
        "prueba = gtiffs[4][1]\n",
        "print(gtiffs[4][0], ' Temperature')\n",
        "# print(gtiffs[0][0], ' Precipitation')"
      ],
      "metadata": {
        "id": "eSSOWQJXfIE5"
      },
      "execution_count": null,
      "outputs": []
    },
    {
      "cell_type": "markdown",
      "source": [
        "# **Geotransform**\n",
        "A geotransform is an affine transformation from the image coordinate space (row, column), also known as (pixel, line) to the georeferenced coordinate space (projected or geographic coordinates).\\\n",
        "**GT(0)** - x-coordinate of the upper-left corner of the upper-left pixel.\\\n",
        "**GT(1)** - w-e pixel resolution / pixel width.\\\n",
        "**GT(2)** - row rotation (typically zero).\\\n",
        "**GT(3)** - y-coordinate of the upper-left corner of the upper-left pixel.\\\n",
        "**GT(4)** - column rotation (typically zero).\\\n",
        "**GT(5)** - n-s pixel resolution / pixel height (negative value for a north-up image.\\"
      ],
      "metadata": {
        "id": "OmXBQvOQg9FE"
      }
    },
    {
      "cell_type": "code",
      "source": [
        "# get transform ()\n",
        "gt = prueba.GetGeoTransform()\n",
        "gt"
      ],
      "metadata": {
        "id": "W1HS_BDSgMlF"
      },
      "execution_count": null,
      "outputs": []
    },
    {
      "cell_type": "code",
      "source": [
        "# get projection\n",
        "proj = prueba.GetProjection()\n",
        "proj"
      ],
      "metadata": {
        "id": "8hqZQYnTgMit"
      },
      "execution_count": null,
      "outputs": []
    },
    {
      "cell_type": "code",
      "source": [
        "# get raster band\n",
        "band = prueba.GetRasterBand(1)\n",
        "band"
      ],
      "metadata": {
        "id": "B8Gcx1PogMgP"
      },
      "execution_count": null,
      "outputs": []
    },
    {
      "cell_type": "code",
      "source": [
        "# create an array from arrays\n",
        "array= band.ReadAsArray()\n",
        "array"
      ],
      "metadata": {
        "id": "gFMQJZRNgMdu"
      },
      "execution_count": null,
      "outputs": []
    },
    {
      "cell_type": "code",
      "source": [
        "from osgeo import gdal\n",
        "import numpy as np\n",
        "import matplotlib.pyplot as plt\n",
        "\n",
        "# import \n",
        "#ds = gdal.Open()\n",
        "ds = prueba\n",
        "gt = ds.GetGeoTransform()\n",
        "proj = ds.GetProjection()\n",
        "\n",
        "band = ds.GetRasterBand(1)\n",
        "array = band.ReadAsArray()\n",
        "\n",
        "plt.figure()\n",
        "plt.imshow(array)\n",
        "plt.show()"
      ],
      "metadata": {
        "id": "oROm1i9_gMbK"
      },
      "execution_count": null,
      "outputs": []
    },
    {
      "cell_type": "code",
      "source": [
        "# manipulate\n",
        "binmask = np.where((array >= np.mean(array)),1,0)\n",
        "plt.figure()\n",
        "plt.imshow(binmask)\n",
        "plt.show()\n",
        "\n",
        "# export\n",
        "driver = gdal.GetDriverByName(\"GTiff\")\n",
        "driver.Register()\n",
        "outds = driver.Create(\"binmask.tif\", xsize = binmask.shape[1],\n",
        "                      ysize = binmask.shape[0], bands = 1, \n",
        "                      eType = gdal.GDT_Int16)\n",
        "outds.SetGeoTransform(gt)\n",
        "outds.SetProjection(proj)\n",
        "outband = outds.GetRasterBand(1)\n",
        "outband.WriteArray(binmask)\n",
        "outband.SetNoDataValue(np.nan)\n",
        "outband.FlushCache()\n",
        "\n",
        "# close your datasets and bands!!!\n",
        "outband = None\n",
        "outds = None"
      ],
      "metadata": {
        "id": "dDrEhl0R_-L4"
      },
      "execution_count": null,
      "outputs": []
    }
  ]
}