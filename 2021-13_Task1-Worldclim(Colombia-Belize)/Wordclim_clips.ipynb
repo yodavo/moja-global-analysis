{
  "nbformat": 4,
  "nbformat_minor": 0,
  "metadata": {
    "colab": {
      "name": "Wordclim-clips.ipynb",
      "provenance": [],
      "authorship_tag": "ABX9TyMkaE/pUUpPrRKuTLS8z/DZ",
      "include_colab_link": true
    },
    "kernelspec": {
      "name": "python3",
      "display_name": "Python 3"
    },
    "language_info": {
      "name": "python"
    },
    "accelerator": "GPU"
  },
  "cells": [
    {
      "cell_type": "markdown",
      "metadata": {
        "id": "view-in-github",
        "colab_type": "text"
      },
      "source": [
        "<a href=\"https://colab.research.google.com/github/yodavo/moja-global-analysis/blob/main/2021_12_Task1-Worldclim%5BColombia-Belize%5D/Wordclim_clips.ipynb\" target=\"_parent\"><img src=\"https://colab.research.google.com/assets/colab-badge.svg\" alt=\"Open In Colab\"/></a>"
      ]
    },
    {
      "cell_type": "code",
      "execution_count": null,
      "metadata": {
        "id": "TTOAbJY_0Ndq"
      },
      "outputs": [],
      "source": [
        "# Install GDAL and Geopandas\n",
        "!apt install gdal-bin python-gdal python3-gdal -q\n",
        "!apt install python3-rtree -q\n",
        "!pip install geopandas -q\n",
        "!pip install descartes -q\n",
        "\n",
        "# Folium \n",
        "!pip install folium\n",
        "\n",
        "# for rasters\n",
        "!pip install Rasterio\n",
        "!pip install georasters -q\n",
        "\n",
        "# Install Pysal - Spatial Statistics\n",
        "!pip install pysal -q\n",
        "\n",
        "!pip install splot -q"
      ]
    },
    {
      "cell_type": "code",
      "source": [
        "# for download and decompress the dataset\n",
        "import os, zipfile, glob, io, requests\n",
        "\n",
        "# control\n",
        "import numpy as np\n",
        "\n",
        "import pandas as pd\n",
        "import geopandas as gpd\n",
        "from osgeo import gdal\n",
        "import georasters as gr\n",
        "\n",
        "#plotting\n",
        "import matplotlib.pyplot as plt\n"
      ],
      "metadata": {
        "id": "zteKuzJC07O-"
      },
      "execution_count": 195,
      "outputs": []
    },
    {
      "cell_type": "markdown",
      "source": [
        "# **Arangements**"
      ],
      "metadata": {
        "id": "_CrbgNOEFPla"
      }
    },
    {
      "cell_type": "code",
      "source": [
        "# creating folder to store information\n",
        "%mkdir clip_shapefiles\n",
        "%mkdir outcomes\n",
        "%mkdir geodataframes"
      ],
      "metadata": {
        "colab": {
          "base_uri": "https://localhost:8080/"
        },
        "id": "V8MwmE4aEZv_",
        "outputId": "22e25711-96c7-4136-dc7b-e0ff9ae181f7"
      },
      "execution_count": 181,
      "outputs": [
        {
          "output_type": "stream",
          "name": "stdout",
          "text": [
            "mkdir: cannot create directory ‘clip_shapefiles’: File exists\n",
            "mkdir: cannot create directory ‘outcomes’: File exists\n"
          ]
        }
      ]
    },
    {
      "cell_type": "code",
      "source": [
        "# Function to clip rasters\n",
        "def clip_raster(list_raster, inshp, wordclim_dataset):\n",
        "  ''' Get a clipped raster from the Worldclim data for specified countries:\n",
        "  - list_raster : geotiff fetched from Worldclim\n",
        "  - inshp : path clipped shapefile with the name of the country\n",
        "  - wordclim_dataset: name of the dataset for outraster file name '''\n",
        "  for i in list_raster:\n",
        "    name, raster = i\n",
        "    outraster = '/content/outcomes/' + str(wordclim_dataset) + '_' + str.upper(name) + '.tif'\n",
        "    dsClip = gdal.Warp(outraster, raster, cutlineDSName=inshp, cropToCutline=True, dstNodata=np.nan)\n",
        "    \n",
        "    # visualization\n",
        "    # plt.imshow(dsClip.GetRasterBand(1).ReadAsArray())\n",
        "    # plt.colorbar()\n",
        "    # plt.title(str.capitalize(wordclim_dataset) + ' - ' + str.upper(name))"
      ],
      "metadata": {
        "id": "1jiY91XWJlPI"
      },
      "execution_count": 160,
      "outputs": []
    },
    {
      "cell_type": "markdown",
      "source": [
        "# **Belize and Colombi Boundaries**"
      ],
      "metadata": {
        "id": "rQJT88WU1rZ8"
      }
    },
    {
      "cell_type": "code",
      "source": [
        "# importing the data\n",
        "world_df = gpd.read_file(gpd.datasets.get_path('naturalearth_lowres'))\n",
        "\n",
        "# subseting\n",
        "world_df = world_df[['continent','name', 'iso_a3','geometry']]\n",
        "\n",
        "# croppping boundaries\n",
        "colombia_bd = world_df.loc[world_df.name == 'Colombia', ].reset_index(drop=True)\n",
        "colombia_bd.to_file(\"/content/clip_shapefiles/colombia.shp\")\n",
        "belize_bd = world_df.loc[world_df.name == 'Belize', ].reset_index(drop=True)\n",
        "belize_bd.to_file(\"/content/clip_shapefiles/belize.shp\")"
      ],
      "metadata": {
        "id": "-UMzAgTH1E0c"
      },
      "execution_count": 100,
      "outputs": []
    },
    {
      "cell_type": "code",
      "source": [
        "# path to shapefiles\n",
        "colombia = '/content/clip_shapefiles/colombia.shp'\n",
        "belize = '/content/clip_shapefiles/belize.shp'"
      ],
      "metadata": {
        "id": "Uf48qHGK-G9H"
      },
      "execution_count": 144,
      "outputs": []
    },
    {
      "cell_type": "markdown",
      "source": [
        "# **Getting clipped tiffs**"
      ],
      "metadata": {
        "id": "ravDHRgLStu2"
      }
    },
    {
      "cell_type": "markdown",
      "source": [
        "## **1. Wordclim 10m**"
      ],
      "metadata": {
        "id": "WrXLxZYe26gG"
      }
    },
    {
      "cell_type": "code",
      "source": [
        "# fetching geotif form worldclime\n",
        "! wget https://biogeo.ucdavis.edu/data/worldclim/v2.1/base/wc2.1_10m_bio.zip -q --show-progress\n",
        "with zipfile.ZipFile('wc2.1_10m_bio.zip', 'r') as worldclim10m:\n",
        "  worldclim10m.extractall(\"worldclim10\")\n",
        "\n",
        "# removing zip folder\n",
        "%rm \"wc2.1_10m_bio.zip\"\n",
        "\n",
        "# path to the folder\n",
        "files = glob.glob(os.path.join('/content/worldclim10', '*tif'))\n",
        "files.sort(key=lambda x:int(x[x.rfind('_')+1:-4]))\n",
        "\n",
        "###### list of tiff files ######\n",
        "# Chosing BIO2 and BIO12\n",
        "subset = files[1], files[11]\n",
        "\n",
        "# Rename and arrange the information\n",
        "names = ['BIO'+ i[i.rfind('_')+1:-4] for i in subset]\n",
        "\n",
        "# merging all the metadata\n",
        "tiff_bioclim10 = list(zip(names, [gdal.Open(f) for f in subset]))\n",
        "tiff_bioclim10.sort(key=lambda x:int(x[0][3:]))\n",
        "\n",
        "# print the results\n",
        "print('%2d tiff files were imported.' %(len(tiff_bioclim10)))"
      ],
      "metadata": {
        "colab": {
          "base_uri": "https://localhost:8080/"
        },
        "id": "ctkSJ-uH1Suv",
        "outputId": "2b6beeee-96a9-4180-e7d9-bbe7083c1d4b"
      },
      "execution_count": 140,
      "outputs": [
        {
          "output_type": "stream",
          "name": "stdout",
          "text": [
            "wc2.1_10m_bio.zip   100%[===================>]  47.56M  30.0MB/s    in 1.6s    \n",
            " 2 tiff files were imported.\n"
          ]
        }
      ]
    },
    {
      "cell_type": "markdown",
      "source": [
        "### **1.1.Clip the tiff files**"
      ],
      "metadata": {
        "id": "IIdN5pdX5A4E"
      }
    },
    {
      "cell_type": "code",
      "source": [
        "# Colombia\n",
        "clip_raster(tiff_bioclim10, colombia, 'Colombia-BioClim10')\n",
        "\n",
        "# Belize\n",
        "clip_raster(tiff_bioclim10, belize, 'Belize-BioClim10')"
      ],
      "metadata": {
        "id": "E62cMeFLBIIJ"
      },
      "execution_count": 161,
      "outputs": []
    },
    {
      "cell_type": "markdown",
      "source": [
        "\n",
        "\n",
        "---\n",
        "\n"
      ],
      "metadata": {
        "id": "mV_miOCa9LTd"
      }
    },
    {
      "cell_type": "markdown",
      "source": [
        "## **2. Wordclim 5m**"
      ],
      "metadata": {
        "id": "tl2v86UeLghP"
      }
    },
    {
      "cell_type": "code",
      "source": [
        "# fetching geotif form worldclime\n",
        "! wget https://biogeo.ucdavis.edu/data/worldclim/v2.1/base/wc2.1_5m_bio.zip -q --show-progress\n",
        "with zipfile.ZipFile('wc2.1_5m_bio.zip', 'r') as worldclim5m:\n",
        "  worldclim5m.extractall(\"worldclim5\")\n",
        "\n",
        "# removing zip folder\n",
        "%rm \"wc2.1_5m_bio.zip\"\n",
        "\n",
        "# path to the folder\n",
        "files = glob.glob(os.path.join('/content/worldclim5', '*tif'))\n",
        "files.sort(key=lambda x:int(x[x.rfind('_')+1:-4]))\n",
        "\n",
        "###### list of tiff files ######\n",
        "# Chosing BIO2 and BIO12\n",
        "subset = files[1], files[11]\n",
        "\n",
        "# Rename and arrange the information\n",
        "names = ['BIO'+ i[i.rfind('_')+1:-4] for i in subset]\n",
        "\n",
        "# merging all the metadata\n",
        "tiff_bioclim5 = list(zip(names, [gdal.Open(f) for f in subset]))\n",
        "tiff_bioclim5.sort(key=lambda x:int(x[0][3:]))\n",
        "\n",
        "# print the results\n",
        "print('%2d tiff files were imported.' %(len(tiff_bioclim5)))"
      ],
      "metadata": {
        "colab": {
          "base_uri": "https://localhost:8080/"
        },
        "id": "4M9IvFR3Lw2g",
        "outputId": "05354f55-62f7-4462-8691-82781e3acca9"
      },
      "execution_count": 170,
      "outputs": [
        {
          "output_type": "stream",
          "name": "stdout",
          "text": [
            "wc2.1_5m_bio.zip    100%[===================>] 171.25M  30.1MB/s    in 16s     \n",
            " 2 tiff files were imported.\n"
          ]
        }
      ]
    },
    {
      "cell_type": "markdown",
      "source": [
        "### **2.1.Clip the tiff files**"
      ],
      "metadata": {
        "id": "5PzQGsO3LgYj"
      }
    },
    {
      "cell_type": "code",
      "source": [
        "# Colombia\n",
        "clip_raster(tiff_bioclim5, colombia, 'Colombia-BioClim5')\n",
        "\n",
        "# Belize\n",
        "clip_raster(tiff_bioclim5, belize, 'Belize-BioClim5')"
      ],
      "metadata": {
        "id": "Kb5fZMruMH0Y"
      },
      "execution_count": 172,
      "outputs": []
    },
    {
      "cell_type": "markdown",
      "source": [
        "\n",
        "\n",
        "---\n",
        "\n"
      ],
      "metadata": {
        "id": "TdOjfhznLgN5"
      }
    },
    {
      "cell_type": "markdown",
      "source": [
        "## **3. Wordclim 2.5m**"
      ],
      "metadata": {
        "id": "TnoDnfF4NmQo"
      }
    },
    {
      "cell_type": "code",
      "source": [
        "# fetching geotif form worldclime\n",
        "! wget https://biogeo.ucdavis.edu/data/worldclim/v2.1/base/wc2.1_2.5m_bio.zip -q --show-progress\n",
        "with zipfile.ZipFile('wc2.1_2.5m_bio.zip', 'r') as worldclim2_5m:\n",
        "  worldclim2_5m.extractall(\"worldclim2_5\")\n",
        "\n",
        "# removing zip folder\n",
        "%rm \"wc2.1_2.5m_bio.zip\"\n",
        "\n",
        "# path to the folder\n",
        "files = glob.glob(os.path.join('/content/worldclim2_5', '*tif'))\n",
        "files.sort(key=lambda x:int(x[x.rfind('_')+1:-4]))\n",
        "\n",
        "###### list of tiff files ######\n",
        "# Chosing BIO2 and BIO12\n",
        "subset = files[1], files[11]\n",
        "\n",
        "# Rename and arrange the information\n",
        "names = ['BIO'+ i[i.rfind('_')+1:-4] for i in subset]\n",
        "\n",
        "# merging all the metadata\n",
        "tiff_bioclim2_5 = list(zip(names, [gdal.Open(f) for f in subset]))\n",
        "tiff_bioclim2_5.sort(key=lambda x:int(x[0][3:]))\n",
        "\n",
        "# print the results\n",
        "print('%2d tiff files were imported.' %(len(tiff_bioclim2_5)))"
      ],
      "metadata": {
        "colab": {
          "base_uri": "https://localhost:8080/"
        },
        "id": "yN61SKTmMBkc",
        "outputId": "43ad5ad6-c56e-4538-b085-69926c070913"
      },
      "execution_count": 174,
      "outputs": [
        {
          "output_type": "stream",
          "name": "stdout",
          "text": [
            " 2 tiff files were imported.\n"
          ]
        }
      ]
    },
    {
      "cell_type": "markdown",
      "source": [
        "### **3.1.Clip the tiff files**"
      ],
      "metadata": {
        "id": "oSDZnf9KOIYb"
      }
    },
    {
      "cell_type": "code",
      "source": [
        "# Colombia\n",
        "clip_raster(tiff_bioclim2_5, colombia, 'Colombia-BioClim2_5')\n",
        "\n",
        "# Belize\n",
        "clip_raster(tiff_bioclim2_5, belize, 'Belize-BioClim2_5')"
      ],
      "metadata": {
        "id": "2pzfglf9OO8B"
      },
      "execution_count": 175,
      "outputs": []
    },
    {
      "cell_type": "markdown",
      "source": [
        "\n",
        "\n",
        "---\n",
        "\n"
      ],
      "metadata": {
        "id": "SzP9nJ5YOYuE"
      }
    },
    {
      "cell_type": "markdown",
      "source": [
        "## **4. Wordclim 30s**"
      ],
      "metadata": {
        "id": "ecSd9VtyOc-6"
      }
    },
    {
      "cell_type": "code",
      "source": [
        "# fetching geotif form worldclime\n",
        "! wget https://biogeo.ucdavis.edu/data/worldclim/v2.1/base/wc2.1_30s_bio.zip -q --show-progress\n",
        "with zipfile.ZipFile('wc2.1_30s_bio.zip', 'r') as worldclim30:\n",
        "  worldclim30.extractall(\"worldclim30s\")\n",
        "\n",
        "# removing zip folder\n",
        "%rm \"wc2.1_30s_bio.zip\"\n",
        "\n",
        "# path to the folder\n",
        "files = glob.glob(os.path.join('/content/worldclim30s', '*tif'))\n",
        "files.sort(key=lambda x:int(x[x.rfind('_')+1:-4]))\n",
        "\n",
        "###### list of tiff files ######\n",
        "# Chosing BIO2 and BIO12\n",
        "subset = files[1], files[11]\n",
        "\n",
        "# Rename and arrange the information\n",
        "names = ['BIO'+ i[i.rfind('_')+1:-4] for i in subset]\n",
        "\n",
        "# merging all the metadata\n",
        "tiff_bioclim30s = list(zip(names, [gdal.Open(f) for f in subset]))\n",
        "tiff_bioclim30s.sort(key=lambda x:int(x[0][3:]))\n",
        "\n",
        "# print the results\n",
        "print('%2d tiff files were imported.' %(len(tiff_bioclim30s)))"
      ],
      "metadata": {
        "colab": {
          "base_uri": "https://localhost:8080/"
        },
        "id": "KJXBqCu_OZ1D",
        "outputId": "74f8b1d5-0d91-4107-dc8b-c00fdccf2da5"
      },
      "execution_count": 176,
      "outputs": [
        {
          "output_type": "stream",
          "name": "stdout",
          "text": [
            "wc2.1_30s_bio.zip   100%[===================>]   9.69G  37.3MB/s    in 4m 55s  \n",
            " 2 tiff files were imported.\n"
          ]
        }
      ]
    },
    {
      "cell_type": "markdown",
      "source": [
        "### **4.1.Clip the tiff files**"
      ],
      "metadata": {
        "id": "6HR9q1iVO1GD"
      }
    },
    {
      "cell_type": "code",
      "source": [
        "# Colombia\n",
        "clip_raster(tiff_bioclim30s, colombia, 'Colombia-BioClim30s')\n",
        "\n",
        "# Belize\n",
        "clip_raster(tiff_bioclim30s, belize, 'Belize-BioClim30s')"
      ],
      "metadata": {
        "id": "13ZEEPkGO44C"
      },
      "execution_count": 177,
      "outputs": []
    },
    {
      "cell_type": "markdown",
      "source": [
        "## **5. Exporting clips for GDrive**"
      ],
      "metadata": {
        "id": "c-PnJVktQ-LT"
      }
    },
    {
      "cell_type": "code",
      "source": [
        "# compressing the data in zip files\n",
        "!zip -r clip_shapefiles[Colombia-Belize].zip clip_shapefiles/\n",
        "!zip -r clip_tiffWorldclim[Colombia-Belize].zip outcomes/"
      ],
      "metadata": {
        "colab": {
          "base_uri": "https://localhost:8080/"
        },
        "id": "v7cJHzVnRIzM",
        "outputId": "9e3e13e1-3887-448f-e42d-3be6b0c046b4"
      },
      "execution_count": 178,
      "outputs": [
        {
          "output_type": "stream",
          "name": "stdout",
          "text": [
            "  adding: clip_shapefiles/ (stored 0%)\n",
            "  adding: clip_shapefiles/belize.shx (deflated 46%)\n",
            "  adding: clip_shapefiles/belize.prj (deflated 17%)\n",
            "  adding: clip_shapefiles/colombia.dbf (deflated 77%)\n",
            "  adding: clip_shapefiles/belize.shp (deflated 27%)\n",
            "  adding: clip_shapefiles/belize.cpg (stored 0%)\n",
            "  adding: clip_shapefiles/colombia.cpg (stored 0%)\n",
            "  adding: clip_shapefiles/colombia.shx (deflated 45%)\n",
            "  adding: clip_shapefiles/colombia.shp (deflated 8%)\n",
            "  adding: clip_shapefiles/colombia.prj (deflated 17%)\n",
            "  adding: clip_shapefiles/belize.dbf (deflated 77%)\n",
            "  adding: outcomes/ (stored 0%)\n",
            "  adding: outcomes/Colombia-BioClim30s_BIO12.tif (deflated 79%)\n",
            "  adding: outcomes/Colombia-BioClim2_5_BIO12.tif (deflated 78%)\n",
            "  adding: outcomes/Colombia-BioClim2_5_BIO2.tif (deflated 67%)\n",
            "  adding: outcomes/Colombia-BioClim30s_BIO2.tif (deflated 84%)\n",
            "  adding: outcomes/Colombia-BioClim10_BIO12.tif (deflated 73%)\n",
            "  adding: outcomes/Colombia-BioClim10_BIO2.tif (deflated 60%)\n",
            "  adding: outcomes/Belize-BioClim30s_BIO12.tif (deflated 78%)\n",
            "  adding: outcomes/Colombia-BioClim5_BIO12.tif (deflated 76%)\n",
            "  adding: outcomes/Belize-BioClim2_5_BIO12.tif (deflated 64%)\n",
            "  adding: outcomes/Belize-BioClim10_BIO2.tif (deflated 38%)\n",
            "  adding: outcomes/.ipynb_checkpoints/ (stored 0%)\n",
            "  adding: outcomes/Belize-BioClim30s_BIO2.tif (deflated 77%)\n",
            "  adding: outcomes/Colombia-BioClim5_BIO2.tif (deflated 63%)\n",
            "  adding: outcomes/Belize-BioClim5_BIO12.tif (deflated 56%)\n",
            "  adding: outcomes/Belize-BioClim10_BIO12.tif (deflated 46%)\n",
            "  adding: outcomes/Belize-BioClim2_5_BIO2.tif (deflated 47%)\n",
            "  adding: outcomes/Belize-BioClim5_BIO2.tif (deflated 41%)\n"
          ]
        }
      ]
    },
    {
      "cell_type": "code",
      "source": [
        "# download files\n",
        "from google.colab import files\n",
        "files.download(\"/content/clip_shapefiles[Colombia-Belize].zip\")\n",
        "files.download(\"/content/clip_tiffWorldclim[Colombia-Belize].zip\")"
      ],
      "metadata": {
        "id": "JjUcxbXORTKg"
      },
      "execution_count": null,
      "outputs": []
    },
    {
      "cell_type": "markdown",
      "source": [
        "# **Getting GeoDataframes**"
      ],
      "metadata": {
        "id": "w4zPKK1RSj_D"
      }
    },
    {
      "cell_type": "code",
      "source": [
        "###### list of geodataframes ######\n",
        "tiffs = glob.glob(os.path.join('/content/outcomes', '*tif'))\n",
        "\n",
        "for i in tiffs:\n",
        "  name = i[i.rfind('/')+1:-4]\n",
        "  geo_df = gr.from_file(i).to_pandas()\n",
        "  geo_df = geo_df.loc[:, ['value', 'x', 'y']]\n",
        "  geo_df = geo_df.rename(columns  ={'x':'Latitude', 'y':'Longitude'})\n",
        "  geo_df.to_csv('/content/geodataframes/'+ str(name) + '.csv', index=False)"
      ],
      "metadata": {
        "id": "oc-M_N9r3q49"
      },
      "execution_count": 185,
      "outputs": []
    },
    {
      "cell_type": "code",
      "source": [
        "# compressing the data in zip files\n",
        "!zip -r clip_geodataframes[Colombia-Belize].zip geodataframes/\n",
        "\n",
        "# download files\n",
        "from google.colab import files\n",
        "files.download(\"/content/clip_geodataframes[Colombia-Belize].zip\")"
      ],
      "metadata": {
        "colab": {
          "base_uri": "https://localhost:8080/",
          "height": 312
        },
        "id": "XcE9Ym3QWWjm",
        "outputId": "2944067a-76bb-4ca4-e3d1-96ab85145df7"
      },
      "execution_count": 194,
      "outputs": [
        {
          "output_type": "stream",
          "name": "stdout",
          "text": [
            "updating: geodataframes/ (stored 0%)\n",
            "updating: geodataframes/Belize-BioClim30s_BIO2.csv (deflated 89%)\n",
            "updating: geodataframes/Colombia-BioClim2_5_BIO2.csv (deflated 85%)\n",
            "updating: geodataframes/Colombia-BioClim10_BIO2.csv (deflated 83%)\n",
            "updating: geodataframes/Belize-BioClim10_BIO12.csv (deflated 82%)\n",
            "updating: geodataframes/Colombia-BioClim10_BIO12.csv (deflated 86%)\n",
            "updating: geodataframes/Belize-BioClim5_BIO12.csv (deflated 85%)\n",
            "updating: geodataframes/Belize-BioClim2_5_BIO2.csv (deflated 85%)\n",
            "updating: geodataframes/Colombia-BioClim5_BIO2.csv (deflated 85%)\n",
            "updating: geodataframes/Colombia-BioClim5_BIO12.csv (deflated 87%)\n",
            "updating: geodataframes/Belize-BioClim2_5_BIO12.csv (deflated 88%)\n",
            "updating: geodataframes/Colombia-BioClim2_5_BIO12.csv (deflated 87%)\n",
            "updating: geodataframes/Belize-BioClim10_BIO2.csv (deflated 79%)\n",
            "updating: geodataframes/Colombia-BioClim30s_BIO2.csv (deflated 79%)\n",
            "updating: geodataframes/Colombia-BioClim30s_BIO12.csv (deflated 78%)\n",
            "updating: geodataframes/Belize-BioClim30s_BIO12.csv (deflated 89%)\n",
            "updating: geodataframes/Belize-BioClim5_BIO2.csv (deflated 82%)\n"
          ]
        },
        {
          "output_type": "display_data",
          "data": {
            "application/javascript": [
              "\n",
              "    async function download(id, filename, size) {\n",
              "      if (!google.colab.kernel.accessAllowed) {\n",
              "        return;\n",
              "      }\n",
              "      const div = document.createElement('div');\n",
              "      const label = document.createElement('label');\n",
              "      label.textContent = `Downloading \"${filename}\": `;\n",
              "      div.appendChild(label);\n",
              "      const progress = document.createElement('progress');\n",
              "      progress.max = size;\n",
              "      div.appendChild(progress);\n",
              "      document.body.appendChild(div);\n",
              "\n",
              "      const buffers = [];\n",
              "      let downloaded = 0;\n",
              "\n",
              "      const channel = await google.colab.kernel.comms.open(id);\n",
              "      // Send a message to notify the kernel that we're ready.\n",
              "      channel.send({})\n",
              "\n",
              "      for await (const message of channel.messages) {\n",
              "        // Send a message to notify the kernel that we're ready.\n",
              "        channel.send({})\n",
              "        if (message.buffers) {\n",
              "          for (const buffer of message.buffers) {\n",
              "            buffers.push(buffer);\n",
              "            downloaded += buffer.byteLength;\n",
              "            progress.value = downloaded;\n",
              "          }\n",
              "        }\n",
              "      }\n",
              "      const blob = new Blob(buffers, {type: 'application/binary'});\n",
              "      const a = document.createElement('a');\n",
              "      a.href = window.URL.createObjectURL(blob);\n",
              "      a.download = filename;\n",
              "      div.appendChild(a);\n",
              "      a.click();\n",
              "      div.remove();\n",
              "    }\n",
              "  "
            ],
            "text/plain": [
              "<IPython.core.display.Javascript object>"
            ]
          },
          "metadata": {}
        },
        {
          "output_type": "display_data",
          "data": {
            "application/javascript": [
              "download(\"download_32029f01-c874-47c2-8e67-176faa0e1a26\", \"clip_geodataframes.zip\", 27228753)"
            ],
            "text/plain": [
              "<IPython.core.display.Javascript object>"
            ]
          },
          "metadata": {}
        }
      ]
    }
  ]
}